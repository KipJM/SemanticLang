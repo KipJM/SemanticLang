{
 "cells": [
  {
   "cell_type": "code",
   "id": "initial_id",
   "metadata": {
    "collapsed": true,
    "ExecuteTime": {
     "end_time": "2024-09-05T15:40:35.176033Z",
     "start_time": "2024-09-05T15:40:35.171323Z"
    }
   },
   "source": "rdf_string=\"<T>Benjamin_Paul_Blood<R>date_of_birth<S>November_21,_1832<T>Benjamin_Paul_Blood<R>date_of_death<S>January_15,_1919<T>Benjamin_Paul_Blood<R>nationality<S>American<T>Benjamin_Paul_Blood<R>occupation<S>philosopher<T>Benjamin_Paul_Blood<R>occupation<S>mystic<T>Benjamin_Paul_Blood<R>occupation<S>poet<T>Benjamin_Paul_Blood<R>work<S>Pluriverse<T>Benjamin_Paul_Blood<R>was_born_in<S>Amsterdam,_New_York<T>John_Blood<R>was_father_of<S>Benjamin_Paul_Blood<T>John_Blood<R>occupation<S>landowner<T>Benjamin_Paul_Blood<R>known_for<S>intelligence<T>Benjamin_Paul_Blood<R>known_for<S>lack_of_focus<T>Benjamin_Paul_Blood<R>corresponded_with<S>James_Hutchison_Stirling<T>Benjamin_Paul_Blood<R>corresponded_with<S>Alfred_Tennyson<T>Benjamin_Paul_Blood<R>corresponded_with<S>William_James\"",
   "outputs": [],
   "execution_count": 54
  },
  {
   "metadata": {
    "ExecuteTime": {
     "end_time": "2024-09-05T15:40:35.675524Z",
     "start_time": "2024-09-05T15:40:35.656303Z"
    }
   },
   "cell_type": "code",
   "source": [
    "from pyvis.network import Network\n",
    "import re\n",
    "net = Network(bgcolor=\"#222222\", font_color=\"white\", notebook=True, directed=True)\n",
    "\n",
    "# Parse rdf_strings\n",
    "rdf_string = rdf_string.removeprefix(\"<bos>\").removesuffix(\"<eos>\")\n",
    "for triple in rdf_string.split(\"<T>\"):\n",
    "    if triple == \"\":\n",
    "        continue\n",
    "    split = re.split(\"<S>|<R>\", triple)\n",
    "    subject = split[0]\n",
    "    predicate = split[1]\n",
    "    _object = split[2]\n",
    "    \n",
    "    net.add_node(subject)\n",
    "    net.add_node(_object)\n",
    "    net.add_edge(subject, _object, title=predicate)\n",
    "\n",
    "\n",
    "print(net.nodes)\n"
   ],
   "id": "7b174885e5429ba8",
   "outputs": [
    {
     "name": "stdout",
     "output_type": "stream",
     "text": [
      "Warning: When  cdn_resources is 'local' jupyter notebook has issues displaying graphics on chrome/safari. Use cdn_resources='in_line' or cdn_resources='remote' if you have issues viewing graphics in a notebook.\n",
      "[{'color': '#97c2fc', 'id': 'Benjamin_Paul_Blood', 'label': 'Benjamin_Paul_Blood', 'shape': 'dot', 'font': {'color': 'white'}}, {'color': '#97c2fc', 'id': 'November_21,_1832', 'label': 'November_21,_1832', 'shape': 'dot', 'font': {'color': 'white'}}, {'color': '#97c2fc', 'id': 'January_15,_1919', 'label': 'January_15,_1919', 'shape': 'dot', 'font': {'color': 'white'}}, {'color': '#97c2fc', 'id': 'American', 'label': 'American', 'shape': 'dot', 'font': {'color': 'white'}}, {'color': '#97c2fc', 'id': 'philosopher', 'label': 'philosopher', 'shape': 'dot', 'font': {'color': 'white'}}, {'color': '#97c2fc', 'id': 'mystic', 'label': 'mystic', 'shape': 'dot', 'font': {'color': 'white'}}, {'color': '#97c2fc', 'id': 'poet', 'label': 'poet', 'shape': 'dot', 'font': {'color': 'white'}}, {'color': '#97c2fc', 'id': 'Pluriverse', 'label': 'Pluriverse', 'shape': 'dot', 'font': {'color': 'white'}}, {'color': '#97c2fc', 'id': 'Amsterdam,_New_York', 'label': 'Amsterdam,_New_York', 'shape': 'dot', 'font': {'color': 'white'}}, {'color': '#97c2fc', 'id': 'John_Blood', 'label': 'John_Blood', 'shape': 'dot', 'font': {'color': 'white'}}, {'color': '#97c2fc', 'id': 'landowner', 'label': 'landowner', 'shape': 'dot', 'font': {'color': 'white'}}, {'color': '#97c2fc', 'id': 'intelligence', 'label': 'intelligence', 'shape': 'dot', 'font': {'color': 'white'}}, {'color': '#97c2fc', 'id': 'lack_of_focus', 'label': 'lack_of_focus', 'shape': 'dot', 'font': {'color': 'white'}}, {'color': '#97c2fc', 'id': 'James_Hutchison_Stirling', 'label': 'James_Hutchison_Stirling', 'shape': 'dot', 'font': {'color': 'white'}}, {'color': '#97c2fc', 'id': 'Alfred_Tennyson', 'label': 'Alfred_Tennyson', 'shape': 'dot', 'font': {'color': 'white'}}, {'color': '#97c2fc', 'id': 'William_James', 'label': 'William_James', 'shape': 'dot', 'font': {'color': 'white'}}]\n"
     ]
    }
   ],
   "execution_count": 55
  },
  {
   "metadata": {
    "ExecuteTime": {
     "end_time": "2024-09-07T13:50:21.331528Z",
     "start_time": "2024-09-07T13:50:21.314501Z"
    }
   },
   "cell_type": "code",
   "source": [
    "net.toggle_physics(True)\n",
    "#save the HTML instead of show the html\n",
    "\n",
    "# from IPython.core.display import display\n",
    "net.show(\"network.html\")"
   ],
   "id": "42e39d7c60d623c9",
   "outputs": [
    {
     "ename": "NameError",
     "evalue": "name 'net' is not defined",
     "output_type": "error",
     "traceback": [
      "\u001B[0;31m---------------------------------------------------------------------------\u001B[0m",
      "\u001B[0;31mNameError\u001B[0m                                 Traceback (most recent call last)",
      "Cell \u001B[0;32mIn[2], line 1\u001B[0m\n\u001B[0;32m----> 1\u001B[0m \u001B[43mnet\u001B[49m\u001B[38;5;241m.\u001B[39mtoggle_physics(\u001B[38;5;28;01mTrue\u001B[39;00m)\n\u001B[1;32m      2\u001B[0m \u001B[38;5;66;03m#save the HTML instead of show the html\u001B[39;00m\n\u001B[1;32m      3\u001B[0m \n\u001B[1;32m      4\u001B[0m \u001B[38;5;66;03m# from IPython.core.display import display\u001B[39;00m\n\u001B[1;32m      5\u001B[0m net\u001B[38;5;241m.\u001B[39mshow(\u001B[38;5;124m\"\u001B[39m\u001B[38;5;124mnetwork.html\u001B[39m\u001B[38;5;124m\"\u001B[39m)\n",
      "\u001B[0;31mNameError\u001B[0m: name 'net' is not defined"
     ]
    }
   ],
   "execution_count": 2
  },
  {
   "metadata": {},
   "cell_type": "code",
   "outputs": [],
   "execution_count": null,
   "source": "",
   "id": "fd50002f83527757"
  }
 ],
 "metadata": {
  "kernelspec": {
   "display_name": "Python 3",
   "language": "python",
   "name": "python3"
  },
  "language_info": {
   "codemirror_mode": {
    "name": "ipython",
    "version": 2
   },
   "file_extension": ".py",
   "mimetype": "text/x-python",
   "name": "python",
   "nbconvert_exporter": "python",
   "pygments_lexer": "ipython2",
   "version": "2.7.6"
  }
 },
 "nbformat": 4,
 "nbformat_minor": 5
}
