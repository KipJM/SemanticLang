{
 "cells": [
  {
   "cell_type": "code",
   "id": "initial_id",
   "metadata": {
    "collapsed": true,
    "ExecuteTime": {
     "end_time": "2024-09-12T12:45:12.450057Z",
     "start_time": "2024-09-12T12:45:12.441094Z"
    }
   },
   "source": [
    "from rdflib import Graph, Literal, RDF, URIRef\n",
    "\n",
    "g = Graph()\n",
    "g.add((URIRef(\"Turn_Me_On_(album)\"),URIRef(\"runtime\"),URIRef(\"35.1\")))\n",
    "g.add((URIRef(\"Turn_Me_On_(album)\"),URIRef(\"producer\"), URIRef(\"Wharton_Tiers\")))\n",
    "g.add((URIRef(\"Turn_Me_On_(album)\"),URIRef(\"followedBy\"),URIRef(\"Take_It_Off!\")))"
   ],
   "outputs": [
    {
     "data": {
      "text/plain": [
       "<Graph identifier=Nec623351067b496e83a337649e5f7d37 (<class 'rdflib.graph.Graph'>)>"
      ]
     },
     "execution_count": 3,
     "metadata": {},
     "output_type": "execute_result"
    }
   ],
   "execution_count": 3
  },
  {
   "metadata": {
    "ExecuteTime": {
     "end_time": "2024-09-12T12:46:34.045154Z",
     "start_time": "2024-09-12T12:46:34.036684Z"
    }
   },
   "cell_type": "code",
   "source": [
    "print(f\"Graph g has {len(g)} statements.\")\n",
    "# Prints: Graph g has 86 statements.\n",
    "\n",
    "# Print out the entire Graph in the RDF Turtle format\n",
    "print(g.serialize(format=\"turtle\"))"
   ],
   "id": "cab508c0cde98491",
   "outputs": [
    {
     "name": "stdout",
     "output_type": "stream",
     "text": [
      "Graph g has 3 statements.\n",
      "\n",
      "<Turn_Me_On_(album)> <followedBy> <Take_It_Off!> ;\n",
      "    <producer> <Wharton_Tiers> ;\n",
      "    <runtime> <35.1> .\n",
      "\n",
      "\n"
     ]
    }
   ],
   "execution_count": 4
  },
  {
   "metadata": {
    "ExecuteTime": {
     "end_time": "2024-09-12T12:48:12.079619Z",
     "start_time": "2024-09-12T12:48:12.072745Z"
    }
   },
   "cell_type": "code",
   "source": [
    "# Iterate over triples in store and print them out.\n",
    "print(\"--- printing raw triples ---\")\n",
    "for s, p, o in g:\n",
    "    print((s, p, o))\n",
    "\n",
    "# For each foaf:Person in the store, print out their mbox property's value.\n",
    "print(\"--- printing mboxes ---\")\n",
    "for person in g.subjects(URIRef(\"runtime\"), URIRef(\"35.1\")):\n",
    "    print(person)\n",
    "\n",
    "# Bind the FOAF namespace to a prefix for more readable output\n",
    "# g.bind(\"foaf\", FOAF)\n",
    "\n",
    "# print all the data in the Notation3 format\n",
    "print(\"--- printing mboxes ---\")\n",
    "print(g.serialize(format='n3'))"
   ],
   "id": "35afdf361e97c401",
   "outputs": [
    {
     "name": "stdout",
     "output_type": "stream",
     "text": [
      "--- printing raw triples ---\n",
      "(rdflib.term.URIRef('Turn_Me_On_(album)'), rdflib.term.URIRef('followedBy'), rdflib.term.URIRef('Take_It_Off!'))\n",
      "(rdflib.term.URIRef('Turn_Me_On_(album)'), rdflib.term.URIRef('producer'), rdflib.term.URIRef('Wharton_Tiers'))\n",
      "(rdflib.term.URIRef('Turn_Me_On_(album)'), rdflib.term.URIRef('runtime'), rdflib.term.URIRef('35.1'))\n",
      "--- printing mboxes ---\n",
      "Turn_Me_On_(album)\n",
      "--- printing mboxes ---\n",
      "\n",
      "<Turn_Me_On_(album)> <followedBy> <Take_It_Off!> ;\n",
      "    <producer> <Wharton_Tiers> ;\n",
      "    <runtime> <35.1> .\n",
      "\n",
      "\n"
     ]
    }
   ],
   "execution_count": 6
  },
  {
   "metadata": {
    "ExecuteTime": {
     "end_time": "2024-09-12T12:49:32.295453Z",
     "start_time": "2024-09-12T12:49:32.279052Z"
    }
   },
   "cell_type": "code",
   "source": [
    "q = \"\"\"\n",
    "    SELECT ?name\n",
    "    WHERE {\n",
    "        ?p <runtime> <35.1> .\n",
    "\n",
    "        ?p <producer> ?name .\n",
    "    }\n",
    "\"\"\"\n",
    "\n",
    "# Apply the query to the graph and iterate through results\n",
    "for r in g.query(q):\n",
    "    print(r[\"name\"])"
   ],
   "id": "48cc4d2697e633fa",
   "outputs": [
    {
     "name": "stdout",
     "output_type": "stream",
     "text": [
      "Wharton_Tiers\n"
     ]
    }
   ],
   "execution_count": 8
  },
  {
   "metadata": {},
   "cell_type": "code",
   "outputs": [],
   "execution_count": null,
   "source": "",
   "id": "e11ca0edf28a7cb"
  }
 ],
 "metadata": {
  "kernelspec": {
   "display_name": "Python 3",
   "language": "python",
   "name": "python3"
  },
  "language_info": {
   "codemirror_mode": {
    "name": "ipython",
    "version": 2
   },
   "file_extension": ".py",
   "mimetype": "text/x-python",
   "name": "python",
   "nbconvert_exporter": "python",
   "pygments_lexer": "ipython2",
   "version": "2.7.6"
  }
 },
 "nbformat": 4,
 "nbformat_minor": 5
}
