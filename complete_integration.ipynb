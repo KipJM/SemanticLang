{
 "cells": [
  {
   "metadata": {},
   "cell_type": "markdown",
   "source": [
    "# How to use\n",
    "Run all and enter data when prompted"
   ],
   "id": "e496af9caf2df527"
  },
  {
   "cell_type": "code",
   "id": "initial_id",
   "metadata": {
    "collapsed": true,
    "ExecuteTime": {
     "end_time": "2024-11-13T04:52:01.416191Z",
     "start_time": "2024-11-13T04:51:51.690119Z"
    }
   },
   "source": [
    "from torch.cuda import graph\n",
    "\n",
    "# Get documents\n",
    "documents = []\n",
    "\n",
    "for i in range(int(input(\"Enter the number of documents for the AI to understand\"))):\n",
    "    documents.append(input(\"Copy the document here\").replace(\"\\n\\n\", \"\"))\n",
    "\n",
    "documents"
   ],
   "outputs": [
    {
     "data": {
      "text/plain": [
       "['Will Wood is an American musician, singer-songwriter, and comedian.[4][5] Wood has released four studio albums; Everything Is a Lot (2015), SELF-iSH (2016), The Normal Album (2020),[6] and \"In case I make it,\" (2022). The former two were released as Will Wood and the Tapeworms, Wood\\'s prior band name. He has additionally released two live albums and a soundtrack.\\nStyleWood\\'s piano-led style often changes from one song to the next, drawing influence from folk, pop, jazz, rock and roll, latin music, doo wop, and klezmer. He is also known for his unconventional use of tenor and baritone ukulele. When recording in studio or performing live with his band, \"the Tapeworms\", he has mostly been accompanied by Mike Bottiglieri on guitar, Matt Berger on alto saxophone, Mario Conte on drums, Vater Boris on bass, and Rob Schaefer on trumpet.[1][7] The band is known for high energy live performances.[8]']"
      ]
     },
     "execution_count": 1,
     "metadata": {},
     "output_type": "execute_result"
    }
   ],
   "execution_count": 1
  },
  {
   "metadata": {
    "ExecuteTime": {
     "end_time": "2024-11-13T01:08:33.980340Z",
     "start_time": "2024-11-13T01:08:32.587255Z"
    }
   },
   "cell_type": "code",
   "source": "question = input(\"Enter your question: \") # Can be skipped if only focusing on GraphGen",
   "id": "3b3c6cfc53d188b4",
   "outputs": [
    {
     "ename": "KeyboardInterrupt",
     "evalue": "Interrupted by user",
     "output_type": "error",
     "traceback": [
      "\u001B[0;31m---------------------------------------------------------------------------\u001B[0m",
      "\u001B[0;31mKeyboardInterrupt\u001B[0m                         Traceback (most recent call last)",
      "Cell \u001B[0;32mIn[2], line 1\u001B[0m\n\u001B[0;32m----> 1\u001B[0m question \u001B[38;5;241m=\u001B[39m \u001B[38;5;28;43minput\u001B[39;49m\u001B[43m(\u001B[49m\u001B[38;5;124;43m\"\u001B[39;49m\u001B[38;5;124;43mEnter your question: \u001B[39;49m\u001B[38;5;124;43m\"\u001B[39;49m\u001B[43m)\u001B[49m \u001B[38;5;66;03m# Can be skipped if only focusing on GraphGen\u001B[39;00m\n",
      "File \u001B[0;32m~/.virtualenvs/SemanticLang/lib/python3.10/site-packages/ipykernel/kernelbase.py:1282\u001B[0m, in \u001B[0;36mKernel.raw_input\u001B[0;34m(self, prompt)\u001B[0m\n\u001B[1;32m   1280\u001B[0m     msg \u001B[38;5;241m=\u001B[39m \u001B[38;5;124m\"\u001B[39m\u001B[38;5;124mraw_input was called, but this frontend does not support input requests.\u001B[39m\u001B[38;5;124m\"\u001B[39m\n\u001B[1;32m   1281\u001B[0m     \u001B[38;5;28;01mraise\u001B[39;00m StdinNotImplementedError(msg)\n\u001B[0;32m-> 1282\u001B[0m \u001B[38;5;28;01mreturn\u001B[39;00m \u001B[38;5;28;43mself\u001B[39;49m\u001B[38;5;241;43m.\u001B[39;49m\u001B[43m_input_request\u001B[49m\u001B[43m(\u001B[49m\n\u001B[1;32m   1283\u001B[0m \u001B[43m    \u001B[49m\u001B[38;5;28;43mstr\u001B[39;49m\u001B[43m(\u001B[49m\u001B[43mprompt\u001B[49m\u001B[43m)\u001B[49m\u001B[43m,\u001B[49m\n\u001B[1;32m   1284\u001B[0m \u001B[43m    \u001B[49m\u001B[38;5;28;43mself\u001B[39;49m\u001B[38;5;241;43m.\u001B[39;49m\u001B[43m_parent_ident\u001B[49m\u001B[43m[\u001B[49m\u001B[38;5;124;43m\"\u001B[39;49m\u001B[38;5;124;43mshell\u001B[39;49m\u001B[38;5;124;43m\"\u001B[39;49m\u001B[43m]\u001B[49m\u001B[43m,\u001B[49m\n\u001B[1;32m   1285\u001B[0m \u001B[43m    \u001B[49m\u001B[38;5;28;43mself\u001B[39;49m\u001B[38;5;241;43m.\u001B[39;49m\u001B[43mget_parent\u001B[49m\u001B[43m(\u001B[49m\u001B[38;5;124;43m\"\u001B[39;49m\u001B[38;5;124;43mshell\u001B[39;49m\u001B[38;5;124;43m\"\u001B[39;49m\u001B[43m)\u001B[49m\u001B[43m,\u001B[49m\n\u001B[1;32m   1286\u001B[0m \u001B[43m    \u001B[49m\u001B[43mpassword\u001B[49m\u001B[38;5;241;43m=\u001B[39;49m\u001B[38;5;28;43;01mFalse\u001B[39;49;00m\u001B[43m,\u001B[49m\n\u001B[1;32m   1287\u001B[0m \u001B[43m\u001B[49m\u001B[43m)\u001B[49m\n",
      "File \u001B[0;32m~/.virtualenvs/SemanticLang/lib/python3.10/site-packages/ipykernel/kernelbase.py:1325\u001B[0m, in \u001B[0;36mKernel._input_request\u001B[0;34m(self, prompt, ident, parent, password)\u001B[0m\n\u001B[1;32m   1322\u001B[0m \u001B[38;5;28;01mexcept\u001B[39;00m \u001B[38;5;167;01mKeyboardInterrupt\u001B[39;00m:\n\u001B[1;32m   1323\u001B[0m     \u001B[38;5;66;03m# re-raise KeyboardInterrupt, to truncate traceback\u001B[39;00m\n\u001B[1;32m   1324\u001B[0m     msg \u001B[38;5;241m=\u001B[39m \u001B[38;5;124m\"\u001B[39m\u001B[38;5;124mInterrupted by user\u001B[39m\u001B[38;5;124m\"\u001B[39m\n\u001B[0;32m-> 1325\u001B[0m     \u001B[38;5;28;01mraise\u001B[39;00m \u001B[38;5;167;01mKeyboardInterrupt\u001B[39;00m(msg) \u001B[38;5;28;01mfrom\u001B[39;00m \u001B[38;5;28;01mNone\u001B[39;00m\n\u001B[1;32m   1326\u001B[0m \u001B[38;5;28;01mexcept\u001B[39;00m \u001B[38;5;167;01mException\u001B[39;00m:\n\u001B[1;32m   1327\u001B[0m     \u001B[38;5;28mself\u001B[39m\u001B[38;5;241m.\u001B[39mlog\u001B[38;5;241m.\u001B[39mwarning(\u001B[38;5;124m\"\u001B[39m\u001B[38;5;124mInvalid Message:\u001B[39m\u001B[38;5;124m\"\u001B[39m, exc_info\u001B[38;5;241m=\u001B[39m\u001B[38;5;28;01mTrue\u001B[39;00m)\n",
      "\u001B[0;31mKeyboardInterrupt\u001B[0m: Interrupted by user"
     ]
    }
   ],
   "execution_count": 2
  },
  {
   "metadata": {
    "ExecuteTime": {
     "end_time": "2024-11-13T04:52:03.591535Z",
     "start_time": "2024-11-13T04:52:03.586952Z"
    }
   },
   "cell_type": "code",
   "source": "graph_gen = None",
   "id": "d87bd9b3458b0270",
   "outputs": [],
   "execution_count": 2
  },
  {
   "metadata": {
    "ExecuteTime": {
     "end_time": "2024-11-13T04:53:28.830579Z",
     "start_time": "2024-11-13T04:52:03.954602Z"
    }
   },
   "cell_type": "code",
   "source": [
    "from GraphGen.graph_gen_integration import GraphGen\n",
    "# Parse documents\n",
    "triples = []\n",
    "chunks = []\n",
    "\n",
    "if graph_gen is None:\n",
    "    graph_gen = GraphGen([], keyword_reward=1.05)\n",
    "\n",
    "\n",
    "for idx, document in enumerate(documents):\n",
    "    print(f\"==================== Process document {idx+1}/{len(documents)} ====================\")\n",
    "    graph_gen.reset_model(triples, idx)\n",
    "    triples += graph_gen.generate(document)\n",
    "    chunks.append(graph_gen.split_chunks(document))\n",
    "    \n",
    "print(\"ACTUALLY DONE!\")"
   ],
   "id": "50d4b9d3130150ae",
   "outputs": [
    {
     "name": "stdout",
     "output_type": "stream",
     "text": [
      "🦥 Unsloth: Will patch your computer to enable 2x faster free finetuning.\n",
      "==((====))==  Unsloth 2024.8: Fast Gemma2 patching. Transformers = 4.44.2.\n",
      "   \\\\   /|    GPU: NVIDIA GeForce RTX 2060. Max memory: 6.0 GB. Platform = Linux.\n",
      "O^O/ \\_/ \\    Pytorch: 2.4.0+cu121. CUDA = 7.5. CUDA Toolkit = 12.1.\n",
      "\\        /    Bfloat16 = FALSE. FA [Xformers = 0.0.27.post2. FA2 = False]\n",
      " \"-____-\"     Free Apache license: http://github.com/unslothai/unsloth\n"
     ]
    },
    {
     "name": "stderr",
     "output_type": "stream",
     "text": [
      "Unsloth 2024.8 patched 26 layers with 26 QKV layers, 26 O layers and 26 MLP layers.\n"
     ]
    },
    {
     "name": "stdout",
     "output_type": "stream",
     "text": [
      "==================== Process document 1/1 ====================\n",
      "PROCESSING (1/5)\n",
      "Phase 1 text chunk \"Will Wood is an American musician, singer-songwrit...ms and a soundtrack.\"\n",
      "Phase 1 context \"None...None\"\n",
      "---\n",
      "Phase 1 model start\n",
      "Phase 2 model generation done\n",
      "\n",
      "Will_Wood<unused1>genre<unused2>Indie_rock\n",
      "Will_Wood<unused1>background<unused2>\"solo_singer\"\n",
      "Will_Wood<unused1>birthPlace<unused2>United_States\n",
      "Will_Wood<unused1>recordLabel<unused2>Fat_Cat_Records\n",
      "Will_Wood<unused1>associatedBand/associatedMusicalArtist<unused2>The_Tapeworms\n",
      "Will_Wood<unused1>activeYearsStartYear<unused2>2005\n",
      "Will_Wood<unused1>recordLabel<unused2>Epitaph_Records\n",
      "Will_Wood<unused1>recordLabel<unused2>Sub Pop\n",
      "Phase 3 parsing done\n",
      "chunk DONE\n",
      "PROCESSING (2/5)\n",
      "Phase 1 text chunk \"He has additionally released two live albums and a...ms and a soundtrack.\"\n",
      "Phase 1 context \"<unused0>Will_Wood<unused1>ass...nused2>\"solo_singer\"\"\n",
      "---\n",
      "Phase 1 model start\n",
      "Phase 2 model generation done\n",
      "\n",
      "Will_Wood<unused1>recordLabel<unused2>Fat_Cat_Records\n",
      "Will_Wood<unused1>recordLabel<unused2>Sub Pop\n",
      "Will_Wood<unused1>recordLabel<unused2>Fat_Cat_Records\n",
      "Will_Wood<unused1>recordLabel<unused2>Fat_Cat_Records\n",
      "Will_Wood<unused1>recordLabel<unused2>Epitaph_Records\n",
      "Will_Wood<unused1>recordLabel<unused2>Fat_Cat_Records\n",
      "Will_Wood<unused1>recordLabel<unused2>Fat_Cat_Records\n",
      "Will_Wood<unused1>recordLabel<unused2>Fat_Cat_Records\n",
      "Will_Wood<unused1>recordLabel<unused2>Fat_Cat_Records\n",
      "Will_Wood<unused1>recordLabel<unused2>Fat_Cat_Records\n",
      "Phase 3 parsing done\n",
      "chunk DONE\n",
      "PROCESSING (3/5)\n",
      "Phase 1 text chunk \"StyleWood's piano-led style often changes from one...nd baritone ukulele.\"\n",
      "Phase 1 context \"<unused0>Will_Wood<unused1>rec...e<unused2>Indie_rock\"\n",
      "---\n",
      "Phase 1 model start\n",
      "Phase 2 model generation done\n",
      "\n",
      "Will_Wood<unused1>instrument<unused2>Piano\n",
      "Will_Wood<unused1>stylisticOrigin<unused2>Jazz\n",
      "Will_Wood<unused1>stylisticOrigin<unused2>Rock_music\n",
      "Will_Wood<unused1>stylisticOrigin<unused2>Pop_music\n",
      "Will_Wood<unused1>stylisticOrigin<unused2>Folk_music\n",
      "Will_Wood<unused1>stylisticOrigin<unused2>Doo_wop\n",
      "Will_Wood<unused1>stylisticOrigin<unused2>Klezmer_music\n",
      "Will_Wood<unused1>stylisticOrigin<unused2>\"pop, rock, jazz, blues, country, rhythm and blues, funk, soul, hip hop, disco, folk music, klezmer music\"\n",
      "Phase 3 parsing done\n",
      "chunk DONE\n",
      "PROCESSING (4/5)\n",
      "Phase 1 text chunk \"He is also known for his unconventional use of ten...nd baritone ukulele.\"\n",
      "Phase 1 context \"<unused0>Will_Wood<unused1>sty...e<unused2>Indie_rock\"\n",
      "---\n",
      "Phase 1 model start\n",
      "Phase 2 model generation done\n",
      "\n",
      "Will_Wood<unused1>instrument<unused2>Tenor_guitar\n",
      "Phase 3 parsing done\n",
      "chunk DONE\n",
      "PROCESSING (5/5)\n",
      "Phase 1 text chunk \"When recording in studio or performing live with h...ve performances. [8]\"\n",
      "Phase 1 context \"<unused0>Will_Wood<unused1>sty...nused2>United_States\"\n",
      "---\n",
      "Phase 1 model start\n",
      "Phase 2 model generation done\n",
      "\n",
      "Will_Wood<unused1>associatedBand/associatedMusicalArtist<unused2>The_Tapeworms\n",
      "The_Tapeworms<unused1>instrument<unused2>Guitar\n",
      "The_Tapeworms<unused1>associatedBand/associatedMusicalArtist<unused2>Will_Wood\n",
      "Will_Wood<unused1>associatedBand/associatedMusicalArtist<unused2>Mike_Bottiglieri\n",
      "Will_Wood<unused1>associatedBand/associatedMusicalArtist<unused2>\"Vater Boris, Mike Bottiglieri, Matt Berger, Mario Conte, Rob Schaefer\"\n",
      "Phase 3 parsing done\n",
      "chunk DONE\n",
      "ACTUALLY DONE!\n"
     ]
    }
   ],
   "execution_count": 3
  },
  {
   "metadata": {
    "ExecuteTime": {
     "end_time": "2024-11-13T04:53:31.587998Z",
     "start_time": "2024-11-13T04:53:31.581869Z"
    }
   },
   "cell_type": "code",
   "source": "triples",
   "id": "ae023bd615c5aff1",
   "outputs": [
    {
     "data": {
      "text/plain": [
       "[Triple(subject='Will_Wood', predicate='genre', object='Indie_rock', id=0, document_id=0),\n",
       " Triple(subject='Will_Wood', predicate='background', object='\"solo_singer\"', id=0, document_id=0),\n",
       " Triple(subject='Will_Wood', predicate='birthPlace', object='United_States', id=0, document_id=0),\n",
       " Triple(subject='Will_Wood', predicate='recordLabel', object='Fat_Cat_Records', id=0, document_id=0),\n",
       " Triple(subject='Will_Wood', predicate='associatedBand/associatedMusicalArtist', object='The_Tapeworms', id=0, document_id=0),\n",
       " Triple(subject='Will_Wood', predicate='activeYearsStartYear', object='2005', id=0, document_id=0),\n",
       " Triple(subject='Will_Wood', predicate='recordLabel', object='Epitaph_Records', id=0, document_id=0),\n",
       " Triple(subject='Will_Wood', predicate='recordLabel', object='Sub Pop', id=0, document_id=0),\n",
       " Triple(subject='Will_Wood', predicate='instrument', object='Piano', id=2, document_id=0),\n",
       " Triple(subject='Will_Wood', predicate='stylisticOrigin', object='Jazz', id=2, document_id=0),\n",
       " Triple(subject='Will_Wood', predicate='stylisticOrigin', object='Rock_music', id=2, document_id=0),\n",
       " Triple(subject='Will_Wood', predicate='stylisticOrigin', object='Pop_music', id=2, document_id=0),\n",
       " Triple(subject='Will_Wood', predicate='stylisticOrigin', object='Folk_music', id=2, document_id=0),\n",
       " Triple(subject='Will_Wood', predicate='stylisticOrigin', object='Doo_wop', id=2, document_id=0),\n",
       " Triple(subject='Will_Wood', predicate='stylisticOrigin', object='Klezmer_music', id=2, document_id=0),\n",
       " Triple(subject='Will_Wood', predicate='stylisticOrigin', object='\"pop, rock, jazz, blues, country, rhythm and blues, funk, soul, hip hop, disco, folk music, klezmer music\"', id=2, document_id=0),\n",
       " Triple(subject='Will_Wood', predicate='instrument', object='Tenor_guitar', id=3, document_id=0),\n",
       " Triple(subject='The_Tapeworms', predicate='instrument', object='Guitar', id=4, document_id=0),\n",
       " Triple(subject='The_Tapeworms', predicate='associatedBand/associatedMusicalArtist', object='Will_Wood', id=4, document_id=0),\n",
       " Triple(subject='Will_Wood', predicate='associatedBand/associatedMusicalArtist', object='Mike_Bottiglieri', id=4, document_id=0),\n",
       " Triple(subject='Will_Wood', predicate='associatedBand/associatedMusicalArtist', object='\"Vater Boris, Mike Bottiglieri, Matt Berger, Mario Conte, Rob Schaefer\"', id=4, document_id=0)]"
      ]
     },
     "execution_count": 4,
     "metadata": {},
     "output_type": "execute_result"
    }
   ],
   "execution_count": 4
  },
  {
   "metadata": {
    "ExecuteTime": {
     "end_time": "2024-11-13T04:53:32.697527Z",
     "start_time": "2024-11-13T04:53:32.657298Z"
    }
   },
   "cell_type": "code",
   "source": [
    "from pyvis.network import Network\n",
    "from GraphGen.graph_gen_integration import Triple\n",
    "from GraphGen import graph_gen_integration\n",
    "\n",
    "net = Network(bgcolor=\"#222222\", font_color=\"white\", notebook=True, directed=True)\n",
    "net2 = Network(bgcolor=\"#222222\", font_color=\"white\", notebook=False, directed=True)\n",
    "\n",
    "\n",
    "# Parse rdf_strings\n",
    "\n",
    "def add_triples(rdf: Triple, _color: str):\n",
    "    net.add_node(rdf.subject, color=_color)\n",
    "    net.add_node(rdf.object, color=_color)\n",
    "    # if not any(edge['from'] == rdf.subject and edge['to'] == rdf.object and edge['title'] == rdf.predicate for edge in net.edges): # should be deprecated later\n",
    "    net.add_edge(rdf.subject, rdf.object, title=rdf.predicate, color=_color)\n",
    "    \n",
    "    net2.add_node(rdf.subject, color=_color)\n",
    "    net2.add_node(rdf.object, color=_color)\n",
    "    # if not any(edge['from'] == rdf.subject and edge['to'] == rdf.object and edge['title'] == rdf.predicate for edge in net.edges): # should be deprecated later\n",
    "    net2.add_edge(rdf.subject, rdf.object, title=rdf.predicate, color=_color)\n",
    "\n",
    "\n",
    "import random\n",
    "\n",
    "r = lambda: random.randint(0, 255)\n",
    "net.toggle_physics(True)\n",
    "\n",
    "colors = {}\n",
    "\n",
    "for idx, triple in enumerate(triples):\n",
    "    if triple.document_id in colors:\n",
    "        document = colors[triple.document_id]\n",
    "        if triple.id in document:\n",
    "            color = document[triple.id]\n",
    "        else:\n",
    "            color = '#%02X%02X%02X' % (r(), r(), r())\n",
    "            colors[triple.document_id][triple.id] = color\n",
    "    else:\n",
    "        colors[triple.document_id] = {} \n",
    "        color = '#%02X%02X%02X' % (r(), r(), r())\n",
    "        colors[triple.document_id][triple.id] = color\n",
    "\n",
    "    add_triples(triple, color)\n",
    "    # net.show(f\"{idx}.html\", notebook=False)\n",
    "net.show(\"graph.html\", notebook=True)\n",
    "# net2.show(\"graph2.html\", notebook=False) # For visualization outside notebook"
   ],
   "id": "4afb31f010c4930b",
   "outputs": [
    {
     "name": "stdout",
     "output_type": "stream",
     "text": [
      "Warning: When  cdn_resources is 'local' jupyter notebook has issues displaying graphics on chrome/safari. Use cdn_resources='in_line' or cdn_resources='remote' if you have issues viewing graphics in a notebook.\n",
      "graph.html\n"
     ]
    },
    {
     "data": {
      "text/plain": [
       "<IPython.lib.display.IFrame at 0x7f11c5380a60>"
      ],
      "text/html": [
       "\n",
       "        <iframe\n",
       "            width=\"100%\"\n",
       "            height=\"600px\"\n",
       "            src=\"graph.html\"\n",
       "            frameborder=\"0\"\n",
       "            allowfullscreen\n",
       "            \n",
       "        ></iframe>\n",
       "        "
      ]
     },
     "execution_count": 5,
     "metadata": {},
     "output_type": "execute_result"
    }
   ],
   "execution_count": 5
  },
  {
   "metadata": {
    "ExecuteTime": {
     "end_time": "2024-11-13T00:51:31.855556Z",
     "start_time": "2024-11-13T00:51:31.848322Z"
    }
   },
   "cell_type": "code",
   "source": [
    "# Workaround for now. Backtracking to source\n",
    "def get_chunk(_hex_code):\n",
    "    _hex_code = _hex_code.upper()\n",
    "    print(_hex_code)\n",
    "    possible_docs = []\n",
    "    for _document in colors:\n",
    "        for _chunk in colors[_document]:\n",
    "            if colors[_document][_chunk] == _hex_code:\n",
    "                possible_docs.append([_document, _chunk])\n",
    "                \n",
    "    if len(possible_docs) == 0:\n",
    "        return None\n",
    "    \n",
    "    # print(possible_docs)\n",
    "    \n",
    "    docs = []\n",
    "    \n",
    "    for doc in possible_docs:\n",
    "       docs.append(graph_gen.split_chunks(graph_gen.preprocess_document(documents[doc[0]]))[doc[1]])\n",
    "    \n",
    "    return docs"
   ],
   "id": "4b0de6f618d2567e",
   "outputs": [],
   "execution_count": 6
  },
  {
   "metadata": {
    "ExecuteTime": {
     "end_time": "2024-11-13T01:15:27.483019Z",
     "start_time": "2024-11-13T01:15:26.802392Z"
    }
   },
   "cell_type": "code",
   "source": [
    "graph_gen.free_model()\n",
    "del graph_gen"
   ],
   "id": "bfd159f592bd1ffb",
   "outputs": [],
   "execution_count": 14
  },
  {
   "metadata": {
    "ExecuteTime": {
     "end_time": "2024-11-13T01:15:27.687900Z",
     "start_time": "2024-11-13T01:15:27.488492Z"
    }
   },
   "cell_type": "code",
   "source": [
    "import torch, gc\n",
    "# graph_gen.free_model()\n",
    "# del graph_gen\n",
    "gc.collect()\n",
    "torch.cuda.empty_cache()"
   ],
   "id": "1145bd943aee9491",
   "outputs": [],
   "execution_count": 15
  },
  {
   "metadata": {},
   "cell_type": "code",
   "outputs": [],
   "execution_count": null,
   "source": [
    "from QueryGen.query_gen_integration import QueryGen\n",
    "query_gen = QueryGen(triples)"
   ],
   "id": "a4f0bbf5189f2e1c"
  },
  {
   "metadata": {
    "ExecuteTime": {
     "end_time": "2024-11-02T05:49:44.773547Z",
     "start_time": "2024-11-02T05:49:35.536948Z"
    }
   },
   "cell_type": "code",
   "source": [
    "# question = input(\"Enter your question: \")\n",
    "query = query_gen.generate(question)\n",
    "query"
   ],
   "id": "57af6fc682716e52",
   "outputs": [
    {
     "data": {
      "text/plain": [
       "'SELECT DISTINCT ?uri WHERE { <Los_Angeles_Dodgers> <locationCity> ?uri }'"
      ]
     },
     "execution_count": 10,
     "metadata": {},
     "output_type": "execute_result"
    }
   ],
   "execution_count": 10
  },
  {
   "metadata": {
    "ExecuteTime": {
     "end_time": "2024-10-31T06:56:26.234858Z",
     "start_time": "2024-10-31T06:56:26.231368Z"
    }
   },
   "cell_type": "code",
   "source": "",
   "id": "d70cd388b9e46775",
   "outputs": [],
   "execution_count": null
  },
  {
   "metadata": {
    "ExecuteTime": {
     "end_time": "2024-10-31T06:56:26.921726Z",
     "start_time": "2024-10-31T06:56:26.890443Z"
    }
   },
   "cell_type": "code",
   "source": [
    "from rdflib import Graph, Literal, RDF, URIRef\n",
    "g = Graph()\n",
    "for triple in triples:\n",
    "    g.add((URIRef(triple.subject), URIRef(triple.predicate), URIRef(triple.object)))"
   ],
   "id": "702c31abea511a08",
   "outputs": [
    {
     "name": "stderr",
     "output_type": "stream",
     "text": [
      "\"Nationwide\" does not look like a valid URI, trying to serialize this will break.\n",
      "\"Scholars' Bowl\" does not look like a valid URI, trying to serialize this will break.\n",
      "\"Scholars' Bowl\", \"Academic Bowl\", \"Academic Team\", \"Academic Challenge\", \"Scholastic Bowl\", \"Primary School Quiz Bowl\", \"Middle School Quiz Bowl\", \"High School Quiz Bowl\", \"University Quiz Bowl\" does not look like a valid URI, trying to serialize this will break.\n",
      "\"Nationwide\" does not look like a valid URI, trying to serialize this will break.\n",
      "\"Unlimited\" does not look like a valid URI, trying to serialize this will break.\n",
      "\"Unlimited\" does not look like a valid URI, trying to serialize this will break.\n",
      "\"Single-elimination tournament\" does not look like a valid URI, trying to serialize this will break.\n",
      "\"4 per team\" does not look like a valid URI, trying to serialize this will break.\n",
      "\"Buzzer\" does not look like a valid URI, trying to serialize this will break.\n",
      "\"1953-09-28\" does not look like a valid URI, trying to serialize this will break.\n",
      "\"1970-04-12\" does not look like a valid URI, trying to serialize this will break.\n",
      "\"The College Quiz Bowl\" does not look like a valid URI, trying to serialize this will break.\n",
      "\"College Bowl\" does not look like a valid URI, trying to serialize this will break.\n",
      "\"1959-09-28\" does not look like a valid URI, trying to serialize this will break.\n",
      "\"1948-09-28\" does not look like a valid URI, trying to serialize this will break.\n",
      "\"Delaware County, Pennsylvania\" does not look like a valid URI, trying to serialize this will break.\n",
      "\"Scott Paper Company\" does not look like a valid URI, trying to serialize this will break.\n",
      "\"1959-09-28\" does not look like a valid URI, trying to serialize this will break.\n",
      "\"1961-09-28\" does not look like a valid URI, trying to serialize this will break.\n",
      "\"Nationwide\" does not look like a valid URI, trying to serialize this will break.\n"
     ]
    }
   ],
   "execution_count": 39
  },
  {
   "metadata": {
    "ExecuteTime": {
     "end_time": "2024-10-31T06:56:28.081571Z",
     "start_time": "2024-10-31T06:56:28.068903Z"
    }
   },
   "cell_type": "code",
   "source": [
    "# Apply the query to the graph and iterate through results\n",
    "r_r = []\n",
    "for r in g.query(query):\n",
    "    print(r[0])\n",
    "    r_r.append(str(r[0]))\n",
    "r_r"
   ],
   "id": "e1cab88b4345216",
   "outputs": [
    {
     "data": {
      "text/plain": [
       "[]"
      ]
     },
     "execution_count": 40,
     "metadata": {},
     "output_type": "execute_result"
    }
   ],
   "execution_count": 40
  },
  {
   "metadata": {
    "ExecuteTime": {
     "end_time": "2024-10-31T06:57:21.179242Z",
     "start_time": "2024-10-31T06:57:21.150928Z"
    }
   },
   "cell_type": "code",
   "source": [
    "query_gen.free_model()\n",
    "del query_gen\n",
    "gc.collect()\n",
    "torch.cuda.empty_cache()"
   ],
   "id": "93c4cf07596e9deb",
   "outputs": [
    {
     "ename": "NameError",
     "evalue": "name 'query_gen' is not defined",
     "output_type": "error",
     "traceback": [
      "\u001B[0;31m---------------------------------------------------------------------------\u001B[0m",
      "\u001B[0;31mNameError\u001B[0m                                 Traceback (most recent call last)",
      "Cell \u001B[0;32mIn[45], line 1\u001B[0m\n\u001B[0;32m----> 1\u001B[0m \u001B[43mquery_gen\u001B[49m\u001B[38;5;241m.\u001B[39mfree_model()\n\u001B[1;32m      2\u001B[0m \u001B[38;5;28;01mdel\u001B[39;00m query_gen\n\u001B[1;32m      3\u001B[0m gc\u001B[38;5;241m.\u001B[39mcollect()\n",
      "\u001B[0;31mNameError\u001B[0m: name 'query_gen' is not defined"
     ]
    }
   ],
   "execution_count": 45
  },
  {
   "metadata": {
    "ExecuteTime": {
     "end_time": "2024-10-31T06:56:54.611228Z",
     "start_time": "2024-10-31T06:56:32.165290Z"
    }
   },
   "cell_type": "code",
   "source": [
    "from AnswerGen.answer_gen_integration import AnswerGen\n",
    "answer_gen = AnswerGen()\n",
    "\n",
    "answer = answer_gen.generate(question, str(r_r))\n",
    "answer"
   ],
   "id": "5f173da7b79fb783",
   "outputs": [
    {
     "name": "stdout",
     "output_type": "stream",
     "text": [
      "==((====))==  Unsloth 2024.8: Fast Gemma2 patching. Transformers = 4.44.2.\n",
      "   \\\\   /|    GPU: NVIDIA GeForce RTX 2060. Max memory: 6.0 GB. Platform = Linux.\n",
      "O^O/ \\_/ \\    Pytorch: 2.4.0+cu121. CUDA = 7.5. CUDA Toolkit = 12.1.\n",
      "\\        /    Bfloat16 = FALSE. FA [Xformers = 0.0.27.post2. FA2 = False]\n",
      " \"-____-\"     Free Apache license: http://github.com/unslothai/unsloth\n"
     ]
    },
    {
     "data": {
      "text/plain": [
       "'The quizbowl is the sport of the quiz bowl.<eos>'"
      ]
     },
     "execution_count": 42,
     "metadata": {},
     "output_type": "execute_result"
    }
   ],
   "execution_count": 42
  },
  {
   "metadata": {
    "ExecuteTime": {
     "end_time": "2024-10-31T06:57:28.858522Z",
     "start_time": "2024-10-31T06:57:27.678314Z"
    }
   },
   "cell_type": "code",
   "source": [
    "answer_gen.free_model()\n",
    "del answer_gen\n",
    "gc.collect()\n",
    "torch.cuda.empty_cache()"
   ],
   "id": "d0f29ffc59d74768",
   "outputs": [],
   "execution_count": 46
  },
  {
   "metadata": {
    "ExecuteTime": {
     "end_time": "2024-10-31T06:57:06.840238Z",
     "start_time": "2024-10-31T06:57:06.836163Z"
    }
   },
   "cell_type": "code",
   "source": "print(answer.replace(\"<eos>\", \"\"))",
   "id": "9f75b88ac1a14d59",
   "outputs": [
    {
     "name": "stdout",
     "output_type": "stream",
     "text": [
      "The quizbowl is the sport of the quiz bowl.\n"
     ]
    }
   ],
   "execution_count": 43
  },
  {
   "metadata": {},
   "cell_type": "code",
   "outputs": [],
   "execution_count": null,
   "source": [
    "graph_gen = GraphGen([], keyword_reward=1.1)\n",
    "graph_gen.reset_model([], 0)"
   ],
   "id": "757162f971743fab"
  },
  {
   "metadata": {
    "ExecuteTime": {
     "end_time": "2024-11-13T00:53:06.026662Z",
     "start_time": "2024-11-13T00:53:03.509774Z"
    }
   },
   "cell_type": "code",
   "source": [
    "# CHUNK LOOKUP\n",
    "hex_code = input(\"Enter hex code for chunk lookup\")\n",
    "chunks = get_chunk(hex_code)\n",
    "if chunks is None:\n",
    "    print(\"No related chunk found. Try again\")\n",
    "elif len(chunks) == 1:\n",
    "    print(\"CHUNK: \")\n",
    "    print(chunks[0])\n",
    "elif len(chunks) > 1:\n",
    "    print(f\"{len(chunks)} chunks somehow got assigned the same color. Find them below\")\n",
    "    for chunk in chunks:\n",
    "        print(chunk)"
   ],
   "id": "e4371cc8d0178c57",
   "outputs": [
    {
     "name": "stdout",
     "output_type": "stream",
     "text": [
      "#D55923\n",
      "CHUNK: \n",
      "Will Wood is an American musician, singer-songwriter, and comedian. [4][5] Wood has released four studio albums; Everything Is a Lot (2015), SELF-iSH (2016), The Normal Album (2020),[6] and \"In case I make it,\" (2022). The former two were released as Will Wood and the Tapeworms, Wood's prior band name. He has additionally released two live albums and a soundtrack.\n"
     ]
    }
   ],
   "execution_count": 8
  },
  {
   "metadata": {
    "ExecuteTime": {
     "end_time": "2024-10-31T07:00:46.783286Z",
     "start_time": "2024-10-31T07:00:46.776652Z"
    }
   },
   "cell_type": "code",
   "source": "colors",
   "id": "9f84fc2829b6bfaa",
   "outputs": [
    {
     "data": {
      "text/plain": [
       "{0: {0: '#2B6E1E', 1: '#A29881', 2: '#74686B'},\n",
       " 1: {0: '#355423', 1: '#752F2E', 2: '#A19E54', 3: '#B0681C', 4: '#B5BCC9'}}"
      ]
     },
     "execution_count": 50,
     "metadata": {},
     "output_type": "execute_result"
    }
   ],
   "execution_count": 50
  },
  {
   "metadata": {},
   "cell_type": "code",
   "outputs": [],
   "execution_count": null,
   "source": "",
   "id": "bb99b79a91c1a71"
  }
 ],
 "metadata": {
  "kernelspec": {
   "display_name": "Python 3",
   "language": "python",
   "name": "python3"
  },
  "language_info": {
   "codemirror_mode": {
    "name": "ipython",
    "version": 2
   },
   "file_extension": ".py",
   "mimetype": "text/x-python",
   "name": "python",
   "nbconvert_exporter": "python",
   "pygments_lexer": "ipython2",
   "version": "2.7.6"
  }
 },
 "nbformat": 4,
 "nbformat_minor": 5
}
