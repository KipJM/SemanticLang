{
 "cells": [
  {
   "metadata": {},
   "cell_type": "markdown",
   "source": [
    "# How to use\n",
    "Run all and enter data when prompted"
   ],
   "id": "e496af9caf2df527"
  },
  {
   "cell_type": "code",
   "id": "initial_id",
   "metadata": {
    "collapsed": true,
    "ExecuteTime": {
     "end_time": "2024-10-31T06:45:08.276418Z",
     "start_time": "2024-10-31T06:44:27.990122Z"
    }
   },
   "source": [
    "from torch.cuda import graph\n",
    "\n",
    "# Get documents\n",
    "documents = []\n",
    "\n",
    "for i in range(int(input(\"Enter the number of documents for the AI to understand\"))):\n",
    "    documents.append(input(\"Copy the document here\").replace(\"\\n\\n\", \"\"))\n",
    "\n",
    "documents"
   ],
   "outputs": [
    {
     "data": {
      "text/plain": [
       "[\"Quiz bowl (quizbowl,[1] scholars' bowl, scholastic bowl, academic bowl, academic team, academic challenge, etc.) is a family of quiz-based competitions that test players on a wide variety of academic subjects. Standardized quiz bowl formats are played by primary school, middle school, high school, and university students throughout North America, Asia, Europe, Australia, and Africa.[2]Quiz bowl competitions are typically played with a lockout buzzer system[1] between at least two teams, usually consisting of four players each. A moderator reads questions to the players, who try to score points for their team by buzzing first and responding with the correct answer.\",\n",
       " 'Most forms of modern quiz bowl are modeled after game shows.[4] College Bowl, which was created by Don Reid as a USO activity for U.S. service men during World War II, was an influential early quiz bowl program.[5][6] Also known as \"The College Quiz Bowl,\" it started on radio in 1953 and then aired on national television in the U.S. from 1959 to 1970.[7]In the first half of the 20th century, many other quiz-bowl-like competitions were also created. Delco Hi-Q began in 1948 as a radio quiz competition sponsored by the Scott Paper Company for high school students in Delaware County, Pennsylvania. It claims to be the oldest continuously running student quiz contest in the United States.[8] The It\\'s Academic televised student quiz show program has been run for high school teams in the Washington, D.C., metropolitan area since 1961 and is recognized by the Guinness Book of World Records as the longest-running quiz program in television history.[9] It\\'s Academic has been spun off in many other U.S. media markets and has inspired many other televised high school competitions.[9]']"
      ]
     },
     "execution_count": 1,
     "metadata": {},
     "output_type": "execute_result"
    }
   ],
   "execution_count": 1
  },
  {
   "metadata": {
    "ExecuteTime": {
     "end_time": "2024-10-31T06:54:49.739034Z",
     "start_time": "2024-10-31T06:54:42.696516Z"
    }
   },
   "cell_type": "code",
   "source": [
    "question = input(\"Enter your question: \")\n",
    "graph_gen = None"
   ],
   "id": "3b3c6cfc53d188b4",
   "outputs": [],
   "execution_count": 35
  },
  {
   "metadata": {
    "ExecuteTime": {
     "end_time": "2024-10-31T06:47:17.562249Z",
     "start_time": "2024-10-31T06:45:34.010956Z"
    }
   },
   "cell_type": "code",
   "source": [
    "from GraphGen.graph_gen_integration import GraphGen\n",
    "# Parse documents\n",
    "triples = []\n",
    "chunks = []\n",
    "\n",
    "if graph_gen is None:\n",
    "    graph_gen = GraphGen([], keyword_reward=1.3)\n",
    "\n",
    "\n",
    "for idx, document in enumerate(documents):\n",
    "    print(f\"==================== Process document {idx+1}/{len(documents)} ====================\")\n",
    "    graph_gen.reset_model(triples, idx)\n",
    "    triples += graph_gen.generate(document)\n",
    "    chunks.append(graph_gen.split_chunks(document))\n",
    "    \n",
    "print(\"ACTUALLY DONE!\")"
   ],
   "id": "50d4b9d3130150ae",
   "outputs": [
    {
     "name": "stdout",
     "output_type": "stream",
     "text": [
      "🦥 Unsloth: Will patch your computer to enable 2x faster free finetuning.\n",
      "==((====))==  Unsloth 2024.8: Fast Gemma2 patching. Transformers = 4.44.2.\n",
      "   \\\\   /|    GPU: NVIDIA GeForce RTX 2060. Max memory: 6.0 GB. Platform = Linux.\n",
      "O^O/ \\_/ \\    Pytorch: 2.4.0+cu121. CUDA = 7.5. CUDA Toolkit = 12.1.\n",
      "\\        /    Bfloat16 = FALSE. FA [Xformers = 0.0.27.post2. FA2 = False]\n",
      " \"-____-\"     Free Apache license: http://github.com/unslothai/unsloth\n"
     ]
    },
    {
     "name": "stderr",
     "output_type": "stream",
     "text": [
      "Unsloth 2024.8 patched 26 layers with 26 QKV layers, 26 O layers and 26 MLP layers.\n"
     ]
    },
    {
     "name": "stdout",
     "output_type": "stream",
     "text": [
      "==================== Process document 1/2 ====================\n",
      "PROCESSING (1/3)\n",
      "Processing \"Quiz bowl (quizbowl,[1] scholars' bowl, scholastic...nd Africa.\"\n",
      "Below is an instruction that describes a task, paired with an input that provides further context. Write a response that appropriately completes the request.\n",
      "### Instruction:\n",
      "Extract the most confident information in the sentence below as much as possible, and express the relationships in RDF Triples that complement the existing RDF triples. Do not use information from common sense.\n",
      "### Existing RDF triples:\n",
      "None\n",
      "### Input:\n",
      "Quiz bowl (quizbowl,[1] scholars' bowl, scholastic bowl, academic bowl, academic team, academic challenge, etc.) is a family of quiz-based competitions that test players on a wide variety of academic subjects. Standardized quiz bowl formats are played by primary school, middle school, high school, and university students throughout North America, Asia, Europe, Australia, and Africa.\n",
      "### Response:\n",
      "<unused0>\n",
      "---\n",
      "Done!\n",
      "<unused0>Academic_Bowl<unused1>country<unused2>United_States<unused0>Academic_Bowl<unused1>region<unused2>\"Nationwide\"<unused0>Academic_Bowl<unused1>alternativeName<unused2>\"Scholars' Bowl\"<unused0>Academic_Bowl<unused1>sport<unused2>Quiz_bowl<unused0>Quiz_bowl<unused1>alternativeName<unused2>\"Scholars' Bowl\", \"Academic Bowl\", \"Academic Team\", \"Academic Challenge\", \"Scholastic Bowl\", \"Primary School Quiz Bowl\", \"Middle School Quiz Bowl\", \"High School Quiz Bowl\", \"University Quiz Bowl\"\n",
      "\n",
      "Academic_Bowl<unused1>country<unused2>United_States\n",
      "Academic_Bowl<unused1>region<unused2>\"Nationwide\"\n",
      "Academic_Bowl<unused1>alternativeName<unused2>\"Scholars' Bowl\"\n",
      "Academic_Bowl<unused1>sport<unused2>Quiz_bowl\n",
      "Quiz_bowl<unused1>alternativeName<unused2>\"Scholars' Bowl\", \"Academic Bowl\", \"Academic Team\", \"Academic Challenge\", \"Scholastic Bowl\", \"Primary School Quiz Bowl\", \"Middle School Quiz Bowl\", \"High School Quiz Bowl\", \"University Quiz Bowl\"\n",
      "DONE\n",
      "PROCESSING (2/3)\n",
      "Processing \"Standardized quiz bowl formats are played by prima...nd Africa.\"\n",
      "Below is an instruction that describes a task, paired with an input that provides further context. Write a response that appropriately completes the request.\n",
      "### Instruction:\n",
      "Extract the most confident information in the sentence below as much as possible, and express the relationships in RDF Triples that complement the existing RDF triples. Do not use information from common sense.\n",
      "### Existing RDF triples:\n",
      "<unused0>Academic_Bowl<unused1>region<unused2>\"Nationwide\" <unused0>Quiz_bowl<unused1>alternativeName<unused2>\"Scholars' Bowl\", \"Academic Bowl\", \"Academic Team\", \"Academic Challenge\", \"Scholastic Bowl\", \"Primary School Quiz Bowl\", \"Middle School Quiz Bowl\", \"High School Quiz Bowl\", \"University Quiz Bowl\" <unused0>Academic_Bowl<unused1>alternativeName<unused2>\"Scholars' Bowl\" <unused0>Academic_Bowl<unused1>sport<unused2>Quiz_bowl <unused0>Academic_Bowl<unused1>country<unused2>United_States\n",
      "### Input:\n",
      "Standardized quiz bowl formats are played by primary school, middle school, high school, and university students throughout North America, Asia, Europe, Australia, and Africa.\n",
      "### Response:\n",
      "<unused0>\n",
      "---\n",
      "Done!\n",
      "<unused0>Academic_Bowl<unused1>location<unused2>\"Nationwide\"<unused0>Academic_Bowl<unused1>region<unused2>\"Nationwide\"<unused0>Academic_Bowl<unused1>numberOfPlayers<unused2>\"Unlimited\"<unused0>Academic_Bowl<unused1>numberOfRounds<unused2>\"Unlimited\"\n",
      "\n",
      "Academic_Bowl<unused1>location<unused2>\"Nationwide\"\n",
      "Academic_Bowl<unused1>region<unused2>\"Nationwide\"\n",
      "Academic_Bowl<unused1>numberOfPlayers<unused2>\"Unlimited\"\n",
      "Academic_Bowl<unused1>numberOfRounds<unused2>\"Unlimited\"\n",
      "DONE\n",
      "PROCESSING (3/3)\n",
      "Processing \"[2]Quiz bowl competitions are typically played wit...ct answer.\"\n",
      "Below is an instruction that describes a task, paired with an input that provides further context. Write a response that appropriately completes the request.\n",
      "### Instruction:\n",
      "Extract the most confident information in the sentence below as much as possible, and express the relationships in RDF Triples that complement the existing RDF triples. Do not use information from common sense.\n",
      "### Existing RDF triples:\n",
      "<unused0>Academic_Bowl<unused1>alternativeName<unused2>\"Scholars' Bowl\" <unused0>Academic_Bowl<unused1>numberOfRounds<unused2>\"Unlimited\" <unused0>Academic_Bowl<unused1>numberOfPlayers<unused2>\"Unlimited\" <unused0>Academic_Bowl<unused1>country<unused2>United_States <unused0>Academic_Bowl<unused1>sport<unused2>Quiz_bowl <unused0>Academic_Bowl<unused1>region<unused2>\"Nationwide\" <unused0>Quiz_bowl<unused1>alternativeName<unused2>\"Scholars' Bowl\", \"Academic Bowl\", \"Academic Team\", \"Academic Challenge\", \"Scholastic Bowl\", \"Primary School Quiz Bowl\", \"Middle School Quiz Bowl\", \"High School Quiz Bowl\", \"University Quiz Bowl\" <unused0>Academic_Bowl<unused1>location<unused2>\"Nationwide\"\n",
      "### Input:\n",
      "[2]Quiz bowl competitions are typically played with a lockout buzzer system[1] between at least two teams, usually consisting of four players each. A moderator reads questions to the players, who try to score points for their team by buzzing first and responding with the correct answer.\n",
      "### Response:\n",
      "<unused0>\n",
      "---\n",
      "Done!\n",
      "<unused0>Quiz_bowl<unused1>gameType<unused2>\"Single-elimination tournament\"<unused0>Quiz_bowl<unused1>playerCount<unused2>\"4 per team\"<unused0>Quiz_bowl<unused1>scoringSystem<unused2>\"Buzzer\"\n",
      "\n",
      "Quiz_bowl<unused1>gameType<unused2>\"Single-elimination tournament\"\n",
      "Quiz_bowl<unused1>playerCount<unused2>\"4 per team\"\n",
      "Quiz_bowl<unused1>scoringSystem<unused2>\"Buzzer\"\n",
      "DONE\n",
      "==================== Process document 2/2 ====================\n",
      "PROCESSING (1/5)\n",
      "Processing \"Most forms of modern quiz bowl are modeled after g...9 to 1970.\"\n",
      "Below is an instruction that describes a task, paired with an input that provides further context. Write a response that appropriately completes the request.\n",
      "### Instruction:\n",
      "Extract the most confident information in the sentence below as much as possible, and express the relationships in RDF Triples that complement the existing RDF triples. Do not use information from common sense.\n",
      "### Existing RDF triples:\n",
      "None\n",
      "### Input:\n",
      "Most forms of modern quiz bowl are modeled after game shows. [4] College Bowl, which was created by Don Reid as a USO activity for U.S. service men during World War II, was an influential early quiz bowl program. [5][6] Also known as \"The College Quiz Bowl,\" it started on radio in 1953 and then aired on national television in the U.S. from 1959 to 1970.\n",
      "### Response:\n",
      "<unused0>\n",
      "---\n",
      "Done!\n",
      "<unused0>4_College_Bowl<unused1>creator<unused2>Don_Reid<unused0>4_College_Bowl<unused1>firstAired<unused2>\"1953-09-28\"<unused0>4_College_Bowl<unused1>lastAired<unused2>\"1970-04-12\"<unused0>4_College_Bowl<unused1>country<unused2>United_States<unused0>4_College_Bowl<unused1>host<unused2>Paul_Kaufman<unused0>4_College_Bowl<unused1>genre<unused2>Quiz_bowl<unused0>4_College_Bowl<unused1>alternativeName<unused2>\"The College Quiz Bowl\"<unused0>4_College_Bowl<unused1>influentialEarlyQuizBowlProgram<unused2>\"College Bowl\"\n",
      "\n",
      "4_College_Bowl<unused1>creator<unused2>Don_Reid\n",
      "4_College_Bowl<unused1>firstAired<unused2>\"1953-09-28\"\n",
      "4_College_Bowl<unused1>lastAired<unused2>\"1970-04-12\"\n",
      "4_College_Bowl<unused1>country<unused2>United_States\n",
      "4_College_Bowl<unused1>host<unused2>Paul_Kaufman\n",
      "4_College_Bowl<unused1>genre<unused2>Quiz_bowl\n",
      "4_College_Bowl<unused1>alternativeName<unused2>\"The College Quiz Bowl\"\n",
      "4_College_Bowl<unused1>influentialEarlyQuizBowlProgram<unused2>\"College Bowl\"\n",
      "DONE\n",
      "PROCESSING (2/5)\n",
      "Processing \"[5][6] Also known as \"The College Quiz Bowl,\" it s...9 to 1970.\"\n",
      "Below is an instruction that describes a task, paired with an input that provides further context. Write a response that appropriately completes the request.\n",
      "### Instruction:\n",
      "Extract the most confident information in the sentence below as much as possible, and express the relationships in RDF Triples that complement the existing RDF triples. Do not use information from common sense.\n",
      "### Existing RDF triples:\n",
      "<unused0>4_College_Bowl<unused1>firstAired<unused2>\"1953-09-28\" <unused0>4_College_Bowl<unused1>lastAired<unused2>\"1970-04-12\" <unused0>4_College_Bowl<unused1>country<unused2>United_States <unused0>4_College_Bowl<unused1>host<unused2>Paul_Kaufman <unused0>4_College_Bowl<unused1>genre<unused2>Quiz_bowl <unused0>4_College_Bowl<unused1>alternativeName<unused2>\"The College Quiz Bowl\" <unused0>4_College_Bowl<unused1>influentialEarlyQuizBowlProgram<unused2>\"College Bowl\" <unused0>4_College_Bowl<unused1>creator<unused2>Don_Reid\n",
      "### Input:\n",
      "[5][6] Also known as \"The College Quiz Bowl,\" it started on radio in 1953 and then aired on national television in the U.S. from 1959 to 1970.\n",
      "### Response:\n",
      "<unused0>\n",
      "---\n",
      "Done!\n",
      "<unused0>4_College_Bowl<unused1>firstAired<unused2>\"1959-09-28\"\n",
      "\n",
      "4_College_Bowl<unused1>firstAired<unused2>\"1959-09-28\"\n",
      "DONE\n",
      "PROCESSING (3/5)\n",
      "Processing \"[7]In the first half of the 20th century, many oth...ed States.\"\n",
      "Below is an instruction that describes a task, paired with an input that provides further context. Write a response that appropriately completes the request.\n",
      "### Instruction:\n",
      "Extract the most confident information in the sentence below as much as possible, and express the relationships in RDF Triples that complement the existing RDF triples. Do not use information from common sense.\n",
      "### Existing RDF triples:\n",
      "<unused0>4_College_Bowl<unused1>host<unused2>Paul_Kaufman <unused0>4_College_Bowl<unused1>firstAired<unused2>\"1953-09-28\" <unused0>4_College_Bowl<unused1>influentialEarlyQuizBowlProgram<unused2>\"College Bowl\" <unused0>4_College_Bowl<unused1>firstAired<unused2>\"1959-09-28\" <unused0>4_College_Bowl<unused1>creator<unused2>Don_Reid <unused0>4_College_Bowl<unused1>country<unused2>United_States <unused0>4_College_Bowl<unused1>genre<unused2>Quiz_bowl <unused0>4_College_Bowl<unused1>lastAired<unused2>\"1970-04-12\" <unused0>4_College_Bowl<unused1>alternativeName<unused2>\"The College Quiz Bowl\"\n",
      "### Input:\n",
      "[7]In the first half of the 20th century, many other quiz-bowl-like competitions were also created. Delco Hi-Q began in 1948 as a radio quiz competition sponsored by the Scott Paper Company for high school students in Delaware County, Pennsylvania. It claims to be the oldest continuously running student quiz contest in the United States.\n",
      "### Response:\n",
      "<unused0>\n",
      "---\n",
      "Done!\n",
      "<unused0>Delco_Hi-Q<unused1>numberOfRepeats<unused2>\"1948-09-28\"<unused0>Delco_Hi-Q<unused1>state<unused2>\"Delaware County, Pennsylvania\"<unused0>Delco_Hi-Q<unused1>sponsor<unused2>\"Scott Paper Company\"\n",
      "\n",
      "Delco_Hi-Q<unused1>numberOfRepeats<unused2>\"1948-09-28\"\n",
      "Delco_Hi-Q<unused1>state<unused2>\"Delaware County, Pennsylvania\"\n",
      "Delco_Hi-Q<unused1>sponsor<unused2>\"Scott Paper Company\"\n",
      "DONE\n",
      "PROCESSING (4/5)\n",
      "Processing \"It claims to be the oldest continuously running st...ed States.\"\n",
      "Below is an instruction that describes a task, paired with an input that provides further context. Write a response that appropriately completes the request.\n",
      "### Instruction:\n",
      "Extract the most confident information in the sentence below as much as possible, and express the relationships in RDF Triples that complement the existing RDF triples. Do not use information from common sense.\n",
      "### Existing RDF triples:\n",
      "<unused0>4_College_Bowl<unused1>host<unused2>Paul_Kaufman <unused0>4_College_Bowl<unused1>country<unused2>United_States <unused0>Delco_Hi-Q<unused1>state<unused2>\"Delaware County, Pennsylvania\" <unused0>4_College_Bowl<unused1>lastAired<unused2>\"1970-04-12\" <unused0>Delco_Hi-Q<unused1>sponsor<unused2>\"Scott Paper Company\" <unused0>4_College_Bowl<unused1>influentialEarlyQuizBowlProgram<unused2>\"College Bowl\" <unused0>4_College_Bowl<unused1>genre<unused2>Quiz_bowl <unused0>4_College_Bowl<unused1>firstAired<unused2>\"1953-09-28\" <unused0>Delco_Hi-Q<unused1>numberOfRepeats<unused2>\"1948-09-28\" <unused0>4_College_Bowl<unused1>alternativeName<unused2>\"The College Quiz Bowl\" <unused0>4_College_Bowl<unused1>firstAired<unused2>\"1959-09-28\" <unused0>4_College_Bowl<unused1>creator<unused2>Don_Reid\n",
      "### Input:\n",
      "It claims to be the oldest continuously running student quiz contest in the United States.\n",
      "### Response:\n",
      "<unused0>\n",
      "---\n",
      "Done!\n",
      "<unused0>4_College_Bowl<unused1>longestRun<unused2>\"1959-09-28\"\n",
      "\n",
      "4_College_Bowl<unused1>longestRun<unused2>\"1959-09-28\"\n",
      "DONE\n",
      "PROCESSING (5/5)\n",
      "Processing \"[8] The It's Academic televised student quiz show ...tions. [9]\"\n",
      "Below is an instruction that describes a task, paired with an input that provides further context. Write a response that appropriately completes the request.\n",
      "### Instruction:\n",
      "Extract the most confident information in the sentence below as much as possible, and express the relationships in RDF Triples that complement the existing RDF triples. Do not use information from common sense.\n",
      "### Existing RDF triples:\n",
      "<unused0>4_College_Bowl<unused1>country<unused2>United_States <unused0>4_College_Bowl<unused1>creator<unused2>Don_Reid <unused0>4_College_Bowl<unused1>firstAired<unused2>\"1959-09-28\" <unused0>Delco_Hi-Q<unused1>numberOfRepeats<unused2>\"1948-09-28\" <unused0>4_College_Bowl<unused1>influentialEarlyQuizBowlProgram<unused2>\"College Bowl\" <unused0>4_College_Bowl<unused1>genre<unused2>Quiz_bowl <unused0>4_College_Bowl<unused1>alternativeName<unused2>\"The College Quiz Bowl\" <unused0>4_College_Bowl<unused1>firstAired<unused2>\"1953-09-28\" <unused0>4_College_Bowl<unused1>host<unused2>Paul_Kaufman <unused0>4_College_Bowl<unused1>longestRun<unused2>\"1959-09-28\" <unused0>4_College_Bowl<unused1>lastAired<unused2>\"1970-04-12\" <unused0>Delco_Hi-Q<unused1>sponsor<unused2>\"Scott Paper Company\" <unused0>Delco_Hi-Q<unused1>state<unused2>\"Delaware County, Pennsylvania\"\n",
      "### Input:\n",
      "[8] The It's Academic televised student quiz show program has been run for high school teams in the Washington, D.C., metropolitan area since 1961 and is recognized by the Guinness Book of World Records as the longest-running quiz program in television history. [9] It's Academic has been spun off in many other U.S. media markets and has inspired many other televised high school competitions. [9]\n",
      "### Response:\n",
      "<unused0>\n",
      "---\n",
      "Done!\n",
      "<unused0>It's_Academic<unused1>numberOfRepeats<unused2>\"1961-09-28\"<unused0>It's_Academic<unused1>city<unused2>Washington,_D.C.<unused0>It's_Academic<unused1>region<unused2>\"Nationwide\"<unused0>It's_Academic<unused1>sponsor<unused2>Guinness_World_Records\n",
      "\n",
      "It's_Academic<unused1>numberOfRepeats<unused2>\"1961-09-28\"\n",
      "It's_Academic<unused1>city<unused2>Washington,_D.C.\n",
      "It's_Academic<unused1>region<unused2>\"Nationwide\"\n",
      "It's_Academic<unused1>sponsor<unused2>Guinness_World_Records\n",
      "DONE\n",
      "ACTUALLY DONE!\n"
     ]
    }
   ],
   "execution_count": 3
  },
  {
   "metadata": {
    "ExecuteTime": {
     "end_time": "2024-10-31T06:47:17.587001Z",
     "start_time": "2024-10-31T06:47:17.580391Z"
    }
   },
   "cell_type": "code",
   "source": "triples",
   "id": "ae023bd615c5aff1",
   "outputs": [
    {
     "data": {
      "text/plain": [
       "[Triple(subject='Academic_Bowl', predicate='country', object='United_States', id=0, document_id=0),\n",
       " Triple(subject='Academic_Bowl', predicate='region', object='\"Nationwide\"', id=0, document_id=0),\n",
       " Triple(subject='Academic_Bowl', predicate='alternativeName', object='\"Scholars\\' Bowl\"', id=0, document_id=0),\n",
       " Triple(subject='Academic_Bowl', predicate='sport', object='Quiz_bowl', id=0, document_id=0),\n",
       " Triple(subject='Quiz_bowl', predicate='alternativeName', object='\"Scholars\\' Bowl\", \"Academic Bowl\", \"Academic Team\", \"Academic Challenge\", \"Scholastic Bowl\", \"Primary School Quiz Bowl\", \"Middle School Quiz Bowl\", \"High School Quiz Bowl\", \"University Quiz Bowl\"', id=0, document_id=0),\n",
       " Triple(subject='Academic_Bowl', predicate='location', object='\"Nationwide\"', id=1, document_id=0),\n",
       " Triple(subject='Academic_Bowl', predicate='numberOfPlayers', object='\"Unlimited\"', id=1, document_id=0),\n",
       " Triple(subject='Academic_Bowl', predicate='numberOfRounds', object='\"Unlimited\"', id=1, document_id=0),\n",
       " Triple(subject='Quiz_bowl', predicate='gameType', object='\"Single-elimination tournament\"', id=2, document_id=0),\n",
       " Triple(subject='Quiz_bowl', predicate='playerCount', object='\"4 per team\"', id=2, document_id=0),\n",
       " Triple(subject='Quiz_bowl', predicate='scoringSystem', object='\"Buzzer\"', id=2, document_id=0),\n",
       " Triple(subject='4_College_Bowl', predicate='creator', object='Don_Reid', id=0, document_id=1),\n",
       " Triple(subject='4_College_Bowl', predicate='firstAired', object='\"1953-09-28\"', id=0, document_id=1),\n",
       " Triple(subject='4_College_Bowl', predicate='lastAired', object='\"1970-04-12\"', id=0, document_id=1),\n",
       " Triple(subject='4_College_Bowl', predicate='country', object='United_States', id=0, document_id=1),\n",
       " Triple(subject='4_College_Bowl', predicate='host', object='Paul_Kaufman', id=0, document_id=1),\n",
       " Triple(subject='4_College_Bowl', predicate='genre', object='Quiz_bowl', id=0, document_id=1),\n",
       " Triple(subject='4_College_Bowl', predicate='alternativeName', object='\"The College Quiz Bowl\"', id=0, document_id=1),\n",
       " Triple(subject='4_College_Bowl', predicate='influentialEarlyQuizBowlProgram', object='\"College Bowl\"', id=0, document_id=1),\n",
       " Triple(subject='4_College_Bowl', predicate='firstAired', object='\"1959-09-28\"', id=1, document_id=1),\n",
       " Triple(subject='Delco_Hi-Q', predicate='numberOfRepeats', object='\"1948-09-28\"', id=2, document_id=1),\n",
       " Triple(subject='Delco_Hi-Q', predicate='state', object='\"Delaware County, Pennsylvania\"', id=2, document_id=1),\n",
       " Triple(subject='Delco_Hi-Q', predicate='sponsor', object='\"Scott Paper Company\"', id=2, document_id=1),\n",
       " Triple(subject='4_College_Bowl', predicate='longestRun', object='\"1959-09-28\"', id=3, document_id=1),\n",
       " Triple(subject=\"It's_Academic\", predicate='numberOfRepeats', object='\"1961-09-28\"', id=4, document_id=1),\n",
       " Triple(subject=\"It's_Academic\", predicate='city', object='Washington,_D.C.', id=4, document_id=1),\n",
       " Triple(subject=\"It's_Academic\", predicate='region', object='\"Nationwide\"', id=4, document_id=1),\n",
       " Triple(subject=\"It's_Academic\", predicate='sponsor', object='Guinness_World_Records', id=4, document_id=1)]"
      ]
     },
     "execution_count": 4,
     "metadata": {},
     "output_type": "execute_result"
    }
   ],
   "execution_count": 4
  },
  {
   "metadata": {
    "ExecuteTime": {
     "end_time": "2024-10-31T06:47:17.785749Z",
     "start_time": "2024-10-31T06:47:17.745462Z"
    }
   },
   "cell_type": "code",
   "source": [
    "from pyvis.network import Network\n",
    "from GraphGen.graph_gen_integration import Triple\n",
    "from GraphGen import graph_gen_integration\n",
    "\n",
    "net = Network(bgcolor=\"#222222\", font_color=\"white\", notebook=True, directed=True)\n",
    "net2 = Network(bgcolor=\"#222222\", font_color=\"white\", notebook=False, directed=True)\n",
    "\n",
    "\n",
    "# Parse rdf_strings\n",
    "\n",
    "def add_triples(rdf: Triple, _color: str):\n",
    "    net.add_node(rdf.subject, color=_color)\n",
    "    net.add_node(rdf.object, color=_color)\n",
    "    # if not any(edge['from'] == rdf.subject and edge['to'] == rdf.object and edge['title'] == rdf.predicate for edge in net.edges): # should be deprecated later\n",
    "    net.add_edge(rdf.subject, rdf.object, title=rdf.predicate, color=_color)\n",
    "    \n",
    "    net2.add_node(rdf.subject, color=_color)\n",
    "    net2.add_node(rdf.object, color=_color)\n",
    "    # if not any(edge['from'] == rdf.subject and edge['to'] == rdf.object and edge['title'] == rdf.predicate for edge in net.edges): # should be deprecated later\n",
    "    net2.add_edge(rdf.subject, rdf.object, title=rdf.predicate, color=_color)\n",
    "\n",
    "\n",
    "import random\n",
    "\n",
    "r = lambda: random.randint(0, 255)\n",
    "net.toggle_physics(True)\n",
    "\n",
    "colors = {}\n",
    "\n",
    "for idx, triple in enumerate(triples):\n",
    "    if triple.document_id in colors:\n",
    "        document = colors[triple.document_id]\n",
    "        if triple.id in document:\n",
    "            color = document[triple.id]\n",
    "        else:\n",
    "            color = '#%02X%02X%02X' % (r(), r(), r())\n",
    "            colors[triple.document_id][triple.id] = color\n",
    "    else:\n",
    "        colors[triple.document_id] = {} \n",
    "        color = '#%02X%02X%02X' % (r(), r(), r())\n",
    "        colors[triple.document_id][triple.id] = color\n",
    "\n",
    "    add_triples(triple, color)\n",
    "    # net.show(f\"{idx}.html\", notebook=False)\n",
    "net.show(\"graph.html\", notebook=True)\n",
    "# net2.show(\"graph2.html\", notebook=False) # For visualization outside notebook"
   ],
   "id": "4afb31f010c4930b",
   "outputs": [
    {
     "name": "stdout",
     "output_type": "stream",
     "text": [
      "Warning: When  cdn_resources is 'local' jupyter notebook has issues displaying graphics on chrome/safari. Use cdn_resources='in_line' or cdn_resources='remote' if you have issues viewing graphics in a notebook.\n",
      "graph.html\n"
     ]
    },
    {
     "data": {
      "text/plain": [
       "<IPython.lib.display.IFrame at 0x7fb5afe04880>"
      ],
      "text/html": [
       "\n",
       "        <iframe\n",
       "            width=\"100%\"\n",
       "            height=\"600px\"\n",
       "            src=\"graph.html\"\n",
       "            frameborder=\"0\"\n",
       "            allowfullscreen\n",
       "            \n",
       "        ></iframe>\n",
       "        "
      ]
     },
     "execution_count": 5,
     "metadata": {},
     "output_type": "execute_result"
    }
   ],
   "execution_count": 5
  },
  {
   "metadata": {
    "ExecuteTime": {
     "end_time": "2024-10-31T07:03:55.447662Z",
     "start_time": "2024-10-31T07:03:55.442813Z"
    }
   },
   "cell_type": "code",
   "source": [
    "# Workaround for now. Backtracking to source\n",
    "def get_chunk(hex_code):\n",
    "    possible_docs = []\n",
    "    for _document in colors:\n",
    "        for _chunk in colors[_document]:\n",
    "            if colors[_document][_chunk] == hex_code:\n",
    "                possible_docs.append([_document, _chunk])\n",
    "                \n",
    "    if len(possible_docs) == 0:\n",
    "        return None\n",
    "    \n",
    "    # print(possible_docs)\n",
    "    \n",
    "    docs = []\n",
    "    \n",
    "    for doc in possible_docs:\n",
    "       docs.append(graph_gen.split_chunks(documents[doc[0]])[doc[1]])\n",
    "    \n",
    "    return docs"
   ],
   "id": "4b0de6f618d2567e",
   "outputs": [],
   "execution_count": 55
  },
  {
   "metadata": {
    "ExecuteTime": {
     "end_time": "2024-10-31T06:48:27.219131Z",
     "start_time": "2024-10-31T06:48:27.214117Z"
    }
   },
   "cell_type": "code",
   "source": "del graph_gen",
   "id": "bfd159f592bd1ffb",
   "outputs": [],
   "execution_count": 9
  },
  {
   "metadata": {
    "ExecuteTime": {
     "end_time": "2024-10-31T06:55:19.314470Z",
     "start_time": "2024-10-31T06:54:57.476247Z"
    }
   },
   "cell_type": "code",
   "source": [
    "import torch, gc\n",
    "# graph_gen.free_model()\n",
    "# del graph_gen\n",
    "gc.collect()\n",
    "torch.cuda.empty_cache()\n",
    "\n",
    "from QueryGen.query_gen_integration import QueryGen\n",
    "query_gen = QueryGen(triples)"
   ],
   "id": "1145bd943aee9491",
   "outputs": [
    {
     "name": "stdout",
     "output_type": "stream",
     "text": [
      "[Triple(subject='Academic_Bowl', predicate='country', object='United_States', id=0, document_id=0), Triple(subject='Academic_Bowl', predicate='region', object='\"Nationwide\"', id=0, document_id=0), Triple(subject='Academic_Bowl', predicate='alternativeName', object='\"Scholars\\' Bowl\"', id=0, document_id=0), Triple(subject='Academic_Bowl', predicate='sport', object='Quiz_bowl', id=0, document_id=0), Triple(subject='Quiz_bowl', predicate='alternativeName', object='\"Scholars\\' Bowl\", \"Academic Bowl\", \"Academic Team\", \"Academic Challenge\", \"Scholastic Bowl\", \"Primary School Quiz Bowl\", \"Middle School Quiz Bowl\", \"High School Quiz Bowl\", \"University Quiz Bowl\"', id=0, document_id=0), Triple(subject='Academic_Bowl', predicate='location', object='\"Nationwide\"', id=1, document_id=0), Triple(subject='Academic_Bowl', predicate='numberOfPlayers', object='\"Unlimited\"', id=1, document_id=0), Triple(subject='Academic_Bowl', predicate='numberOfRounds', object='\"Unlimited\"', id=1, document_id=0), Triple(subject='Quiz_bowl', predicate='gameType', object='\"Single-elimination tournament\"', id=2, document_id=0), Triple(subject='Quiz_bowl', predicate='playerCount', object='\"4 per team\"', id=2, document_id=0), Triple(subject='Quiz_bowl', predicate='scoringSystem', object='\"Buzzer\"', id=2, document_id=0), Triple(subject='4_College_Bowl', predicate='creator', object='Don_Reid', id=0, document_id=1), Triple(subject='4_College_Bowl', predicate='firstAired', object='\"1953-09-28\"', id=0, document_id=1), Triple(subject='4_College_Bowl', predicate='lastAired', object='\"1970-04-12\"', id=0, document_id=1), Triple(subject='4_College_Bowl', predicate='country', object='United_States', id=0, document_id=1), Triple(subject='4_College_Bowl', predicate='host', object='Paul_Kaufman', id=0, document_id=1), Triple(subject='4_College_Bowl', predicate='genre', object='Quiz_bowl', id=0, document_id=1), Triple(subject='4_College_Bowl', predicate='alternativeName', object='\"The College Quiz Bowl\"', id=0, document_id=1), Triple(subject='4_College_Bowl', predicate='influentialEarlyQuizBowlProgram', object='\"College Bowl\"', id=0, document_id=1), Triple(subject='4_College_Bowl', predicate='firstAired', object='\"1959-09-28\"', id=1, document_id=1), Triple(subject='Delco_Hi-Q', predicate='numberOfRepeats', object='\"1948-09-28\"', id=2, document_id=1), Triple(subject='Delco_Hi-Q', predicate='state', object='\"Delaware County, Pennsylvania\"', id=2, document_id=1), Triple(subject='Delco_Hi-Q', predicate='sponsor', object='\"Scott Paper Company\"', id=2, document_id=1), Triple(subject='4_College_Bowl', predicate='longestRun', object='\"1959-09-28\"', id=3, document_id=1), Triple(subject=\"It's_Academic\", predicate='numberOfRepeats', object='\"1961-09-28\"', id=4, document_id=1), Triple(subject=\"It's_Academic\", predicate='city', object='Washington,_D.C.', id=4, document_id=1), Triple(subject=\"It's_Academic\", predicate='region', object='\"Nationwide\"', id=4, document_id=1), Triple(subject=\"It's_Academic\", predicate='sponsor', object='Guinness_World_Records', id=4, document_id=1)]\n",
      "==((====))==  Unsloth 2024.8: Fast Gemma2 patching. Transformers = 4.44.2.\n",
      "   \\\\   /|    GPU: NVIDIA GeForce RTX 2060. Max memory: 6.0 GB. Platform = Linux.\n",
      "O^O/ \\_/ \\    Pytorch: 2.4.0+cu121. CUDA = 7.5. CUDA Toolkit = 12.1.\n",
      "\\        /    Bfloat16 = FALSE. FA [Xformers = 0.0.27.post2. FA2 = False]\n",
      " \"-____-\"     Free Apache license: http://github.com/unslothai/unsloth\n"
     ]
    }
   ],
   "execution_count": 37
  },
  {
   "metadata": {},
   "cell_type": "markdown",
   "source": "",
   "id": "e3af50f8639fb81e"
  },
  {
   "metadata": {
    "ExecuteTime": {
     "end_time": "2024-10-31T06:56:23.551341Z",
     "start_time": "2024-10-31T06:56:21.708515Z"
    }
   },
   "cell_type": "code",
   "source": [
    "# question = input(\"Enter your question: \")\n",
    "query = query_gen.generate(question)\n",
    "query"
   ],
   "id": "57af6fc682716e52",
   "outputs": [
    {
     "data": {
      "text/plain": [
       "'SELECT DISTINCT ?uri WHERE {?uri <type> <QuizBowl>  . }'"
      ]
     },
     "execution_count": 38,
     "metadata": {},
     "output_type": "execute_result"
    }
   ],
   "execution_count": 38
  },
  {
   "metadata": {
    "ExecuteTime": {
     "end_time": "2024-10-31T06:56:26.234858Z",
     "start_time": "2024-10-31T06:56:26.231368Z"
    }
   },
   "cell_type": "code",
   "source": "",
   "id": "d70cd388b9e46775",
   "outputs": [],
   "execution_count": null
  },
  {
   "metadata": {
    "ExecuteTime": {
     "end_time": "2024-10-31T06:56:26.921726Z",
     "start_time": "2024-10-31T06:56:26.890443Z"
    }
   },
   "cell_type": "code",
   "source": [
    "from rdflib import Graph, Literal, RDF, URIRef\n",
    "g = Graph()\n",
    "for triple in triples:\n",
    "    g.add((URIRef(triple.subject), URIRef(triple.predicate), URIRef(triple.object)))"
   ],
   "id": "702c31abea511a08",
   "outputs": [
    {
     "name": "stderr",
     "output_type": "stream",
     "text": [
      "\"Nationwide\" does not look like a valid URI, trying to serialize this will break.\n",
      "\"Scholars' Bowl\" does not look like a valid URI, trying to serialize this will break.\n",
      "\"Scholars' Bowl\", \"Academic Bowl\", \"Academic Team\", \"Academic Challenge\", \"Scholastic Bowl\", \"Primary School Quiz Bowl\", \"Middle School Quiz Bowl\", \"High School Quiz Bowl\", \"University Quiz Bowl\" does not look like a valid URI, trying to serialize this will break.\n",
      "\"Nationwide\" does not look like a valid URI, trying to serialize this will break.\n",
      "\"Unlimited\" does not look like a valid URI, trying to serialize this will break.\n",
      "\"Unlimited\" does not look like a valid URI, trying to serialize this will break.\n",
      "\"Single-elimination tournament\" does not look like a valid URI, trying to serialize this will break.\n",
      "\"4 per team\" does not look like a valid URI, trying to serialize this will break.\n",
      "\"Buzzer\" does not look like a valid URI, trying to serialize this will break.\n",
      "\"1953-09-28\" does not look like a valid URI, trying to serialize this will break.\n",
      "\"1970-04-12\" does not look like a valid URI, trying to serialize this will break.\n",
      "\"The College Quiz Bowl\" does not look like a valid URI, trying to serialize this will break.\n",
      "\"College Bowl\" does not look like a valid URI, trying to serialize this will break.\n",
      "\"1959-09-28\" does not look like a valid URI, trying to serialize this will break.\n",
      "\"1948-09-28\" does not look like a valid URI, trying to serialize this will break.\n",
      "\"Delaware County, Pennsylvania\" does not look like a valid URI, trying to serialize this will break.\n",
      "\"Scott Paper Company\" does not look like a valid URI, trying to serialize this will break.\n",
      "\"1959-09-28\" does not look like a valid URI, trying to serialize this will break.\n",
      "\"1961-09-28\" does not look like a valid URI, trying to serialize this will break.\n",
      "\"Nationwide\" does not look like a valid URI, trying to serialize this will break.\n"
     ]
    }
   ],
   "execution_count": 39
  },
  {
   "metadata": {
    "ExecuteTime": {
     "end_time": "2024-10-31T06:56:28.081571Z",
     "start_time": "2024-10-31T06:56:28.068903Z"
    }
   },
   "cell_type": "code",
   "source": [
    "# Apply the query to the graph and iterate through results\n",
    "r_r = []\n",
    "for r in g.query(query):\n",
    "    print(r[0])\n",
    "    r_r.append(str(r[0]))\n",
    "r_r"
   ],
   "id": "e1cab88b4345216",
   "outputs": [
    {
     "data": {
      "text/plain": [
       "[]"
      ]
     },
     "execution_count": 40,
     "metadata": {},
     "output_type": "execute_result"
    }
   ],
   "execution_count": 40
  },
  {
   "metadata": {
    "ExecuteTime": {
     "end_time": "2024-10-31T06:57:21.179242Z",
     "start_time": "2024-10-31T06:57:21.150928Z"
    }
   },
   "cell_type": "code",
   "source": [
    "query_gen.free_model()\n",
    "del query_gen\n",
    "gc.collect()\n",
    "torch.cuda.empty_cache()"
   ],
   "id": "93c4cf07596e9deb",
   "outputs": [
    {
     "ename": "NameError",
     "evalue": "name 'query_gen' is not defined",
     "output_type": "error",
     "traceback": [
      "\u001B[0;31m---------------------------------------------------------------------------\u001B[0m",
      "\u001B[0;31mNameError\u001B[0m                                 Traceback (most recent call last)",
      "Cell \u001B[0;32mIn[45], line 1\u001B[0m\n\u001B[0;32m----> 1\u001B[0m \u001B[43mquery_gen\u001B[49m\u001B[38;5;241m.\u001B[39mfree_model()\n\u001B[1;32m      2\u001B[0m \u001B[38;5;28;01mdel\u001B[39;00m query_gen\n\u001B[1;32m      3\u001B[0m gc\u001B[38;5;241m.\u001B[39mcollect()\n",
      "\u001B[0;31mNameError\u001B[0m: name 'query_gen' is not defined"
     ]
    }
   ],
   "execution_count": 45
  },
  {
   "metadata": {
    "ExecuteTime": {
     "end_time": "2024-10-31T06:56:54.611228Z",
     "start_time": "2024-10-31T06:56:32.165290Z"
    }
   },
   "cell_type": "code",
   "source": [
    "from AnswerGen.answer_gen_integration import AnswerGen\n",
    "answer_gen = AnswerGen()\n",
    "\n",
    "answer = answer_gen.generate(question, str(r_r))\n",
    "answer"
   ],
   "id": "5f173da7b79fb783",
   "outputs": [
    {
     "name": "stdout",
     "output_type": "stream",
     "text": [
      "==((====))==  Unsloth 2024.8: Fast Gemma2 patching. Transformers = 4.44.2.\n",
      "   \\\\   /|    GPU: NVIDIA GeForce RTX 2060. Max memory: 6.0 GB. Platform = Linux.\n",
      "O^O/ \\_/ \\    Pytorch: 2.4.0+cu121. CUDA = 7.5. CUDA Toolkit = 12.1.\n",
      "\\        /    Bfloat16 = FALSE. FA [Xformers = 0.0.27.post2. FA2 = False]\n",
      " \"-____-\"     Free Apache license: http://github.com/unslothai/unsloth\n"
     ]
    },
    {
     "data": {
      "text/plain": [
       "'The quizbowl is the sport of the quiz bowl.<eos>'"
      ]
     },
     "execution_count": 42,
     "metadata": {},
     "output_type": "execute_result"
    }
   ],
   "execution_count": 42
  },
  {
   "metadata": {
    "ExecuteTime": {
     "end_time": "2024-10-31T06:57:28.858522Z",
     "start_time": "2024-10-31T06:57:27.678314Z"
    }
   },
   "cell_type": "code",
   "source": [
    "answer_gen.free_model()\n",
    "del answer_gen\n",
    "gc.collect()\n",
    "torch.cuda.empty_cache()"
   ],
   "id": "d0f29ffc59d74768",
   "outputs": [],
   "execution_count": 46
  },
  {
   "metadata": {
    "ExecuteTime": {
     "end_time": "2024-10-31T06:57:06.840238Z",
     "start_time": "2024-10-31T06:57:06.836163Z"
    }
   },
   "cell_type": "code",
   "source": "print(answer.replace(\"<eos>\", \"\"))",
   "id": "9f75b88ac1a14d59",
   "outputs": [
    {
     "name": "stdout",
     "output_type": "stream",
     "text": [
      "The quizbowl is the sport of the quiz bowl.\n"
     ]
    }
   ],
   "execution_count": 43
  },
  {
   "metadata": {},
   "cell_type": "code",
   "outputs": [],
   "execution_count": null,
   "source": [
    "graph_gen = GraphGen([], keyword_reward=1.1)\n",
    "graph_gen.reset_model(triples, idx)"
   ],
   "id": "757162f971743fab"
  },
  {
   "metadata": {
    "ExecuteTime": {
     "end_time": "2024-10-31T07:04:01.493088Z",
     "start_time": "2024-10-31T07:03:59.127131Z"
    }
   },
   "cell_type": "code",
   "source": [
    "# CHUNK LOOKUP\n",
    "hex_code = input(\"Enter hex code for chunk lookup\")\n",
    "chunks = get_chunk(hex_code)\n",
    "if chunks is None:\n",
    "    print(\"No related chunk found. Try again\")\n",
    "if len(chunks) == 1:\n",
    "    print(\"CHUNK: \")\n",
    "    print(chunks[0])\n",
    "if len(chunks) > 1:\n",
    "    print(f\"{len(chunks)} chunks somehow got assigned the same color. Find them below\")\n",
    "    for chunk in chunks:\n",
    "        print(chunk)"
   ],
   "id": "e4371cc8d0178c57",
   "outputs": [
    {
     "name": "stdout",
     "output_type": "stream",
     "text": [
      "CHUNK: \n",
      "[8] The It's Academic televised student quiz show program has been run for high school teams in the Washington, D.C., metropolitan area since 1961 and is recognized by the Guinness Book of World Records as the longest-running quiz program in television history. [9] It's Academic has been spun off in many other U.S. media markets and has inspired many other televised high school competitions. [9]\n"
     ]
    }
   ],
   "execution_count": 56
  },
  {
   "metadata": {
    "ExecuteTime": {
     "end_time": "2024-10-31T07:00:46.783286Z",
     "start_time": "2024-10-31T07:00:46.776652Z"
    }
   },
   "cell_type": "code",
   "source": "colors",
   "id": "9f84fc2829b6bfaa",
   "outputs": [
    {
     "data": {
      "text/plain": [
       "{0: {0: '#2B6E1E', 1: '#A29881', 2: '#74686B'},\n",
       " 1: {0: '#355423', 1: '#752F2E', 2: '#A19E54', 3: '#B0681C', 4: '#B5BCC9'}}"
      ]
     },
     "execution_count": 50,
     "metadata": {},
     "output_type": "execute_result"
    }
   ],
   "execution_count": 50
  },
  {
   "metadata": {},
   "cell_type": "code",
   "outputs": [],
   "execution_count": null,
   "source": "",
   "id": "bb99b79a91c1a71"
  }
 ],
 "metadata": {
  "kernelspec": {
   "display_name": "Python 3",
   "language": "python",
   "name": "python3"
  },
  "language_info": {
   "codemirror_mode": {
    "name": "ipython",
    "version": 2
   },
   "file_extension": ".py",
   "mimetype": "text/x-python",
   "name": "python",
   "nbconvert_exporter": "python",
   "pygments_lexer": "ipython2",
   "version": "2.7.6"
  }
 },
 "nbformat": 4,
 "nbformat_minor": 5
}
