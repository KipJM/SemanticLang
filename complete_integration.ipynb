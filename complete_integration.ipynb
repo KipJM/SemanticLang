{
 "cells": [
  {
   "metadata": {},
   "cell_type": "markdown",
   "source": [
    "# How to use\n",
    "Run all and enter"
   ],
   "id": "e496af9caf2df527"
  },
  {
   "cell_type": "code",
   "id": "initial_id",
   "metadata": {
    "collapsed": true,
    "ExecuteTime": {
     "end_time": "2024-09-13T06:05:29.455907Z",
     "start_time": "2024-09-13T06:04:56.045151Z"
    }
   },
   "source": [
    "from torch.cuda import graph\n",
    "\n",
    "# Get documents\n",
    "documents = []\n",
    "\n",
    "for i in range(int(input(\"Enter the number of documents for the AI to understand\"))):\n",
    "    documents.append(input(\"Copy the document here\").replace(\"\\n\\n\", \"\"))\n",
    "\n",
    "documents"
   ],
   "outputs": [
    {
     "data": {
      "text/plain": [
       "['The Semantic Web, sometimes known as Web 3.0 (not to be confused with Web3), is an extension of the World Wide Web through standards[1] set by the World Wide Web Consortium (W3C). The goal of the Semantic Web is to make Internet data machine-readable.To enable the encoding of semantics with the data, technologies such as Resource Description Framework (RDF)[2] and Web Ontology Language (OWL)[3] are used. These technologies are used to formally represent metadata. For example, ontology can describe concepts, relationships between entities, and categories of things. These embedded semantics offer significant advantages such as reasoning over data and operating with heterogeneous data sources.[4]These standards promote common data formats and exchange protocols on the Web, fundamentally the RDF. According to the W3C, \"The Semantic Web provides a common framework that allows data to be shared and reused across application, enterprise, and community boundaries.\"[5] The Semantic Web is therefore regarded as an integrator across different content and information applications and systems.The term was coined by Tim Berners-Lee for a web of data (or data web)[6] that can be processed by machines[7]—that is, one in which much of the meaning is machine-readable. While its critics have questioned its feasibility, proponents argue that applications in library and information science, industry, biology and human sciences research have already proven the validity of the original concept.[8]Berners-Lee originally expressed his vision of the Semantic Web in 1999 as follows:    I have a dream for the Web [in which computers] become capable of analyzing all the data on the Web – the content, links, and transactions between people and computers. A \"Semantic Web\", which makes this possible, has yet to emerge, but when it does, the day-to-day mechanisms of trade, bureaucracy and our daily lives will be handled by machines talking to machines. The \"intelligent agents\" people have touted for ages will finally materialize.[9]The 2001 Scientific American article by Berners-Lee, Hendler, and Lassila described an expected evolution of the existing Web to a Semantic Web.[10] In 2006, Berners-Lee and colleagues stated that: \"This simple idea…remains largely unrealized\".[11] In 2013, more than four million Web domains (out of roughly 250 million total) contained Semantic Web markup.',\n",
       " 'The Resource Description Framework (RDF) is a World Wide Web Consortium (W3C) standard originally designed as a data model for metadata. It has come to be used as a general method for description and exchange of graph data. RDF provides a variety of syntax notations and data serialization formats, with Turtle (Terse RDF Triple Language) currently being the most widely used notation.RDF is a directed graph composed of triple statements. An RDF graph statement is represented by: 1) a node for the subject, 2) an arc that goes from a subject to an object for the predicate, and 3) a node for the object. Each of the three parts of the statement can be identified by a Uniform Resource Identifier (URI). An object can also be a literal value. This simple, flexible data model has a lot of expressive power to represent complex situations, relationships, and other things of interest, while also being appropriately abstract.RDF was adopted as a W3C recommendation in 1999. The RDF 1.0 specification was published in 2004, and the RDF 1.1 specification in 2014. SPARQL is a standard query language for RDF graphs. RDF Schema (RDFS), Web Ontology Language (OWL) and SHACL (Shapes Constraint Language) are ontology languages that are used to describe RDF data.',\n",
       " 'The World Wide Web (WWW or simply the Web) is an information system that enables content sharing over the Internet through user-friendly ways meant to appeal to users beyond IT specialists and hobbyists.[1] It allows documents and other web resources to be accessed over the Internet according to specific rules of the Hypertext Transfer Protocol (HTTP).[2]The Web was invented by English computer scientist Tim Berners-Lee while at CERN in 1989 and opened to the public in 1991. It was conceived as a \"universal linked information system\".[3][4] Documents and other media content are made available to the network through web servers and can be accessed by programs such as web browsers. Servers and resources on the World Wide Web are identified and located through character strings called uniform resource locators (URLs).The original and still very common document type is a web page formatted in Hypertext Markup Language (HTML). This markup language supports plain text, images, embedded video and audio contents, and scripts (short programs) that implement complex user interaction. The HTML language also supports hyperlinks (embedded URLs) which provide immediate access to other web resources. Web navigation, or web surfing, is the common practice of following such hyperlinks across multiple websites. Web applications are web pages that function as application software. The information in the Web is transferred across the Internet using HTTP. Multiple web resources with a common theme and usually a common domain name make up a website. A single web server may provide multiple websites, while some websites, especially the most popular ones, may be provided by multiple servers. Website content is provided by a myriad of companies, organizations, government agencies, and individual users; and comprises an enormous amount of educational, entertainment, commercial, and government information.The Web has become the world\\'s dominant information systems platform.[5][6][7][8] It is the primary tool that billions of people worldwide use to interact with the Internet.']"
      ]
     },
     "execution_count": 1,
     "metadata": {},
     "output_type": "execute_result"
    }
   ],
   "execution_count": 1
  },
  {
   "metadata": {},
   "cell_type": "code",
   "outputs": [],
   "execution_count": null,
   "source": "question = input(\"Enter your question: \")",
   "id": "3b3c6cfc53d188b4"
  },
  {
   "metadata": {},
   "cell_type": "code",
   "outputs": [],
   "execution_count": null,
   "source": [
    "from GraphGen.graph_gen_integration import GraphGen\n",
    "# Parse documents\n",
    "triples = []\n",
    "\n",
    "graph_gen = GraphGen([], keyword_reward=1.1)\n",
    "\n",
    "for idx, document in enumerate(documents):\n",
    "    print(f\"==================== Process document {idx+1}/{len(documents)} ====================\")\n",
    "    graph_gen.reset_model(triples, idx)\n",
    "    triples += graph_gen.generate(document)\n",
    "    \n",
    "print(\"ACTUALLY DONE!\")"
   ],
   "id": "50d4b9d3130150ae"
  },
  {
   "metadata": {
    "ExecuteTime": {
     "end_time": "2024-09-13T06:23:15.379621Z",
     "start_time": "2024-09-13T06:23:15.355294Z"
    }
   },
   "cell_type": "code",
   "source": "triples",
   "id": "ae023bd615c5aff1",
   "outputs": [
    {
     "data": {
      "text/plain": [
       "[Triple(subject='Semantic_Web', predicate='extension', object='World_Wide_Web_Consortium', id=0, document_id=0),\n",
       " Triple(subject='Semantic_Web', predicate='isPartOf', object='World_Wide_Web', id=0, document_id=0),\n",
       " Triple(subject='Semantic_Web', predicate='isPartOf', object='World_Wide_Web_Consortium', id=0, document_id=0),\n",
       " Triple(subject='Semantic_Web', predicate='isPartOf', object='Web3.0', id=0, document_id=0),\n",
       " Triple(subject='Semantic_Web', predicate='technology', object='RDF', id=2, document_id=0),\n",
       " Triple(subject='Semantic_Web', predicate='technology', object='Web_Ontology_Language', id=2, document_id=0),\n",
       " Triple(subject='Semantic_Web', predicate='category', object='Ontology', id=3, document_id=0),\n",
       " Triple(subject='Semantic_Web', predicate='isPartOf', object='World_Wide_Web_Consortium_W3C', id=5, document_id=0),\n",
       " Triple(subject='Semantic_Web', predicate='application', object='Library_and_information_science_research', id=8, document_id=0),\n",
       " Triple(subject='Semantic_Web', predicate='application', object='Biology_research', id=8, document_id=0),\n",
       " Triple(subject='Semantic_Web', predicate='application', object='Human_sciences_research', id=8, document_id=0),\n",
       " Triple(subject='Semantic_Web', predicate='isPartOf', object='Semantic_Web_Dream', id=10, document_id=0),\n",
       " Triple(subject='Semantic_Web', predicate='expectedEvolution', object='Semantic_Web_Dream', id=14, document_id=0),\n",
       " Triple(subject='Semantic_Web_Dream', predicate='isPartOf', object='Semantic_Web', id=14, document_id=0),\n",
       " Triple(subject='Semantic_Web_Dream', predicate='isPartOf', object='World_Wide_Web_Consortium_W3C', id=14, document_id=0),\n",
       " Triple(subject='Semantic_Web_Dream', predicate='isPartOf', object='World_Wide_Web', id=14, document_id=0),\n",
       " Triple(subject='Semantic_Web_Dream', predicate='isPartOf', object='Web3.0', id=14, document_id=0),\n",
       " Triple(subject='RDF', predicate='isPartOf', object='World_Wide_Web_Consortium', id=0, document_id=1),\n",
       " Triple(subject='RDF', predicate='isPartOf', object='W3C', id=0, document_id=1),\n",
       " Triple(subject='RDF', predicate='isPartOf', object='General_method_for_description_and_exchange_of_graph_data', id=0, document_id=1),\n",
       " Triple(subject='RDF', predicate='isPartOf', object='RDF_RDF_Triples_Language', id=1, document_id=1),\n",
       " Triple(subject='RDF', predicate='isPartOf', object='RDF_RDF_Triples_Language_Syntax_Notation', id=2, document_id=1),\n",
       " Triple(subject='RDF', predicate='isPartOf', object='RDF_RDF_Graph_Statement', id=3, document_id=1),\n",
       " Triple(subject='RDF', predicate='isPartOf', object='RDF_RDF_Triples_Language_Literal_Values', id=4, document_id=1),\n",
       " Triple(subject='RDF_RDF_Graph_Statement', predicate='versionNumber', object='\"RDF_RDF_Graph_Statement_1.0.0\"', id=6, document_id=1),\n",
       " Triple(subject='RDF_RDF_Graph_Statement', predicate='versionDate', object='2004-03-03', id=6, document_id=1),\n",
       " Triple(subject='RDF_RDF_Graph_Statement', predicate='versionDate', object='2014-03-03', id=6, document_id=1),\n",
       " Triple(subject='RDF_RDF_Graph_Statement', predicate='language', object='RDF_RDF_Graph_Statement_Language_Literal_Values', id=6, document_id=1),\n",
       " Triple(subject='World_Wide_Web', predicate='isPartOf', object='Internet', id=0, document_id=2),\n",
       " Triple(subject='World_Wide_Web', predicate='accessMethod', object='\"user-friendly\"', id=0, document_id=2),\n",
       " Triple(subject='World_Wide_Web', predicate='isPartOf', object='Internet_protocol', id=0, document_id=2),\n",
       " Triple(subject='World_Wide_Web', predicate='inventedBy', object='Tim_Berners-Lee', id=2, document_id=2),\n",
       " Triple(subject='World_Wide_Web', predicate='accessMethod', object='\"web_server\"', id=3, document_id=2),\n",
       " Triple(subject='World_Wide_Web', predicate='documentType', object='\"web_page\"', id=4, document_id=2),\n",
       " Triple(subject='World_Wide_Web', predicate='supportedMedia', object='\"plain_text\"', id=5, document_id=2),\n",
       " Triple(subject='World_Wide_Web', predicate='supportedMedia', object='\"images\"', id=5, document_id=2),\n",
       " Triple(subject='World_Wide_Web', predicate='supportedMedia', object='\"embedded_video\"', id=5, document_id=2),\n",
       " Triple(subject='World_Wide_Web', predicate='supportedMedia', object='\"embedded_audio\"', id=5, document_id=2),\n",
       " Triple(subject='HTML_language', predicate='supportsHyperlinks', object='\"embedded_urls\"', id=6, document_id=2),\n",
       " Triple(subject='World_Wide_Web', predicate='transferProtocol', object='\"HTTP\"', id=7, document_id=2),\n",
       " Triple(subject='World_Wide_Web', predicate='isPartOf', object='\"Internet_protocol\"', id=8, document_id=2),\n",
       " Triple(subject='World_Wide_Web', predicate='isPartOf', object='\"Internet_server\"', id=9, document_id=2),\n",
       " Triple(subject='HTML_language', predicate='isPartOf', object='\"HTML_language\"', id=10, document_id=2)]"
      ]
     },
     "execution_count": 3,
     "metadata": {},
     "output_type": "execute_result"
    }
   ],
   "execution_count": 3
  },
  {
   "metadata": {
    "ExecuteTime": {
     "end_time": "2024-09-13T06:23:58.781508Z",
     "start_time": "2024-09-13T06:23:48.580407Z"
    }
   },
   "cell_type": "code",
   "source": [
    "from GraphGen import graph_gen_integration\n",
    "\n",
    "graph_gen_integration.draw_graph(triples)"
   ],
   "id": "4afb31f010c4930b",
   "outputs": [
    {
     "name": "stdout",
     "output_type": "stream",
     "text": [
      "network.html\n"
     ]
    }
   ],
   "execution_count": 4
  },
  {
   "metadata": {
    "ExecuteTime": {
     "end_time": "2024-09-13T06:27:17.768930Z",
     "start_time": "2024-09-13T06:26:44.400274Z"
    }
   },
   "cell_type": "code",
   "source": [
    "import torch, gc\n",
    "graph_gen.free_model()\n",
    "del graph_gen\n",
    "gc.collect()\n",
    "torch.cuda.empty_cache()\n",
    "\n",
    "from QueryGen.query_gen_integration import QueryGen\n",
    "query_gen = QueryGen(triples)"
   ],
   "id": "1145bd943aee9491",
   "outputs": [
    {
     "name": "stdout",
     "output_type": "stream",
     "text": [
      "==((====))==  Unsloth 2024.8: Fast Gemma2 patching. Transformers = 4.44.2.\n",
      "   \\\\   /|    GPU: NVIDIA GeForce RTX 2060. Max memory: 6.0 GB. Platform = Linux.\n",
      "O^O/ \\_/ \\    Pytorch: 2.4.0+cu121. CUDA = 7.5. CUDA Toolkit = 12.1.\n",
      "\\        /    Bfloat16 = FALSE. FA [Xformers = 0.0.27.post2. FA2 = False]\n",
      " \"-____-\"     Free Apache license: http://github.com/unslothai/unsloth\n"
     ]
    }
   ],
   "execution_count": 6
  },
  {
   "metadata": {
    "ExecuteTime": {
     "end_time": "2024-09-13T06:35:28.933668Z",
     "start_time": "2024-09-13T06:35:27.469357Z"
    }
   },
   "cell_type": "code",
   "source": [
    "query = query_gen.generate(question)\n",
    "query"
   ],
   "id": "57af6fc682716e52",
   "outputs": [
    {
     "ename": "KeyboardInterrupt",
     "evalue": "Interrupted by user",
     "output_type": "error",
     "traceback": [
      "\u001B[0;31m---------------------------------------------------------------------------\u001B[0m",
      "\u001B[0;31mKeyboardInterrupt\u001B[0m                         Traceback (most recent call last)",
      "Cell \u001B[0;32mIn[12], line 1\u001B[0m\n\u001B[0;32m----> 1\u001B[0m question \u001B[38;5;241m=\u001B[39m \u001B[38;5;28;43minput\u001B[39;49m\u001B[43m(\u001B[49m\u001B[38;5;124;43m\"\u001B[39;49m\u001B[38;5;124;43mEnter your question: \u001B[39;49m\u001B[38;5;124;43m\"\u001B[39;49m\u001B[43m)\u001B[49m\n\u001B[1;32m      2\u001B[0m query \u001B[38;5;241m=\u001B[39m query_gen\u001B[38;5;241m.\u001B[39mgenerate(question)\n\u001B[1;32m      3\u001B[0m query \u001B[38;5;241m=\u001B[39m \u001B[38;5;124m'\u001B[39m\u001B[38;5;124mSELECT DISTINCT ?uri WHERE \u001B[39m\u001B[38;5;124m{\u001B[39m\u001B[38;5;124m Semantic_Web <partOf> ?uri  . }\u001B[39m\u001B[38;5;124m'\u001B[39m\n",
      "File \u001B[0;32m~/.virtualenvs/SemanticLang/lib/python3.10/site-packages/ipykernel/kernelbase.py:1282\u001B[0m, in \u001B[0;36mKernel.raw_input\u001B[0;34m(self, prompt)\u001B[0m\n\u001B[1;32m   1280\u001B[0m     msg \u001B[38;5;241m=\u001B[39m \u001B[38;5;124m\"\u001B[39m\u001B[38;5;124mraw_input was called, but this frontend does not support input requests.\u001B[39m\u001B[38;5;124m\"\u001B[39m\n\u001B[1;32m   1281\u001B[0m     \u001B[38;5;28;01mraise\u001B[39;00m StdinNotImplementedError(msg)\n\u001B[0;32m-> 1282\u001B[0m \u001B[38;5;28;01mreturn\u001B[39;00m \u001B[38;5;28;43mself\u001B[39;49m\u001B[38;5;241;43m.\u001B[39;49m\u001B[43m_input_request\u001B[49m\u001B[43m(\u001B[49m\n\u001B[1;32m   1283\u001B[0m \u001B[43m    \u001B[49m\u001B[38;5;28;43mstr\u001B[39;49m\u001B[43m(\u001B[49m\u001B[43mprompt\u001B[49m\u001B[43m)\u001B[49m\u001B[43m,\u001B[49m\n\u001B[1;32m   1284\u001B[0m \u001B[43m    \u001B[49m\u001B[38;5;28;43mself\u001B[39;49m\u001B[38;5;241;43m.\u001B[39;49m\u001B[43m_parent_ident\u001B[49m\u001B[43m[\u001B[49m\u001B[38;5;124;43m\"\u001B[39;49m\u001B[38;5;124;43mshell\u001B[39;49m\u001B[38;5;124;43m\"\u001B[39;49m\u001B[43m]\u001B[49m\u001B[43m,\u001B[49m\n\u001B[1;32m   1285\u001B[0m \u001B[43m    \u001B[49m\u001B[38;5;28;43mself\u001B[39;49m\u001B[38;5;241;43m.\u001B[39;49m\u001B[43mget_parent\u001B[49m\u001B[43m(\u001B[49m\u001B[38;5;124;43m\"\u001B[39;49m\u001B[38;5;124;43mshell\u001B[39;49m\u001B[38;5;124;43m\"\u001B[39;49m\u001B[43m)\u001B[49m\u001B[43m,\u001B[49m\n\u001B[1;32m   1286\u001B[0m \u001B[43m    \u001B[49m\u001B[43mpassword\u001B[49m\u001B[38;5;241;43m=\u001B[39;49m\u001B[38;5;28;43;01mFalse\u001B[39;49;00m\u001B[43m,\u001B[49m\n\u001B[1;32m   1287\u001B[0m \u001B[43m\u001B[49m\u001B[43m)\u001B[49m\n",
      "File \u001B[0;32m~/.virtualenvs/SemanticLang/lib/python3.10/site-packages/ipykernel/kernelbase.py:1325\u001B[0m, in \u001B[0;36mKernel._input_request\u001B[0;34m(self, prompt, ident, parent, password)\u001B[0m\n\u001B[1;32m   1322\u001B[0m \u001B[38;5;28;01mexcept\u001B[39;00m \u001B[38;5;167;01mKeyboardInterrupt\u001B[39;00m:\n\u001B[1;32m   1323\u001B[0m     \u001B[38;5;66;03m# re-raise KeyboardInterrupt, to truncate traceback\u001B[39;00m\n\u001B[1;32m   1324\u001B[0m     msg \u001B[38;5;241m=\u001B[39m \u001B[38;5;124m\"\u001B[39m\u001B[38;5;124mInterrupted by user\u001B[39m\u001B[38;5;124m\"\u001B[39m\n\u001B[0;32m-> 1325\u001B[0m     \u001B[38;5;28;01mraise\u001B[39;00m \u001B[38;5;167;01mKeyboardInterrupt\u001B[39;00m(msg) \u001B[38;5;28;01mfrom\u001B[39;00m \u001B[38;5;28;01mNone\u001B[39;00m\n\u001B[1;32m   1326\u001B[0m \u001B[38;5;28;01mexcept\u001B[39;00m \u001B[38;5;167;01mException\u001B[39;00m:\n\u001B[1;32m   1327\u001B[0m     \u001B[38;5;28mself\u001B[39m\u001B[38;5;241m.\u001B[39mlog\u001B[38;5;241m.\u001B[39mwarning(\u001B[38;5;124m\"\u001B[39m\u001B[38;5;124mInvalid Message:\u001B[39m\u001B[38;5;124m\"\u001B[39m, exc_info\u001B[38;5;241m=\u001B[39m\u001B[38;5;28;01mTrue\u001B[39;00m)\n",
      "\u001B[0;31mKeyboardInterrupt\u001B[0m: Interrupted by user"
     ]
    }
   ],
   "execution_count": 12
  },
  {
   "metadata": {
    "ExecuteTime": {
     "end_time": "2024-09-13T06:36:51.339925Z",
     "start_time": "2024-09-13T06:36:51.324161Z"
    }
   },
   "cell_type": "code",
   "source": "# query = 'SELECT DISTINCT ?uri WHERE { <Semantic_Web> <isPartOf> ?uri  . }'",
   "id": "d70cd388b9e46775",
   "outputs": [],
   "execution_count": 19
  },
  {
   "metadata": {
    "ExecuteTime": {
     "end_time": "2024-09-13T06:36:52.092110Z",
     "start_time": "2024-09-13T06:36:51.994826Z"
    }
   },
   "cell_type": "code",
   "source": [
    "from rdflib import Graph, Literal, RDF, URIRef\n",
    "g = Graph()\n",
    "for triple in triples:\n",
    "    g.add((URIRef(triple.subject), URIRef(triple.predicate), URIRef(triple.object)))"
   ],
   "id": "702c31abea511a08",
   "outputs": [
    {
     "name": "stderr",
     "output_type": "stream",
     "text": [
      "\"RDF_RDF_Graph_Statement_1.0.0\" does not look like a valid URI, trying to serialize this will break.\n",
      "\"user-friendly\" does not look like a valid URI, trying to serialize this will break.\n",
      "\"web_server\" does not look like a valid URI, trying to serialize this will break.\n",
      "\"web_page\" does not look like a valid URI, trying to serialize this will break.\n",
      "\"plain_text\" does not look like a valid URI, trying to serialize this will break.\n",
      "\"images\" does not look like a valid URI, trying to serialize this will break.\n",
      "\"embedded_video\" does not look like a valid URI, trying to serialize this will break.\n",
      "\"embedded_audio\" does not look like a valid URI, trying to serialize this will break.\n",
      "\"embedded_urls\" does not look like a valid URI, trying to serialize this will break.\n",
      "\"HTTP\" does not look like a valid URI, trying to serialize this will break.\n",
      "\"Internet_protocol\" does not look like a valid URI, trying to serialize this will break.\n",
      "\"Internet_server\" does not look like a valid URI, trying to serialize this will break.\n",
      "\"HTML_language\" does not look like a valid URI, trying to serialize this will break.\n"
     ]
    }
   ],
   "execution_count": 20
  },
  {
   "metadata": {
    "ExecuteTime": {
     "end_time": "2024-09-13T06:37:05.862860Z",
     "start_time": "2024-09-13T06:37:05.813322Z"
    }
   },
   "cell_type": "code",
   "source": [
    "# Apply the query to the graph and iterate through results\n",
    "r_r = []\n",
    "for r in g.query(query):\n",
    "    print(r[0])\n",
    "    r_r.append(str(r[0]))\n",
    "r_r"
   ],
   "id": "e1cab88b4345216",
   "outputs": [
    {
     "name": "stdout",
     "output_type": "stream",
     "text": [
      "World_Wide_Web\n",
      "World_Wide_Web_Consortium\n",
      "Web3.0\n",
      "World_Wide_Web_Consortium_W3C\n",
      "Semantic_Web_Dream\n"
     ]
    },
    {
     "data": {
      "text/plain": [
       "['World_Wide_Web',\n",
       " 'World_Wide_Web_Consortium',\n",
       " 'Web3.0',\n",
       " 'World_Wide_Web_Consortium_W3C',\n",
       " 'Semantic_Web_Dream']"
      ]
     },
     "execution_count": 22,
     "metadata": {},
     "output_type": "execute_result"
    }
   ],
   "execution_count": 22
  },
  {
   "metadata": {
    "ExecuteTime": {
     "end_time": "2024-09-13T06:39:04.180244Z",
     "start_time": "2024-09-13T06:39:00.809785Z"
    }
   },
   "cell_type": "code",
   "source": [
    "query_gen.free_model()\n",
    "del query_gen\n",
    "gc.collect()\n",
    "torch.cuda.empty_cache()"
   ],
   "id": "93c4cf07596e9deb",
   "outputs": [],
   "execution_count": 25
  },
  {
   "metadata": {
    "ExecuteTime": {
     "end_time": "2024-09-13T06:39:57.395610Z",
     "start_time": "2024-09-13T06:39:06.046598Z"
    }
   },
   "cell_type": "code",
   "source": [
    "from AnswerGen.answer_gen_integration import AnswerGen\n",
    "answer_gen = AnswerGen()\n",
    "\n",
    "answer = answer_gen.generate(question, str(r_r))\n",
    "answer"
   ],
   "id": "5f173da7b79fb783",
   "outputs": [
    {
     "name": "stdout",
     "output_type": "stream",
     "text": [
      "==((====))==  Unsloth 2024.8: Fast Gemma2 patching. Transformers = 4.44.2.\n",
      "   \\\\   /|    GPU: NVIDIA GeForce RTX 2060. Max memory: 6.0 GB. Platform = Linux.\n",
      "O^O/ \\_/ \\    Pytorch: 2.4.0+cu121. CUDA = 7.5. CUDA Toolkit = 12.1.\n",
      "\\        /    Bfloat16 = FALSE. FA [Xformers = 0.0.27.post2. FA2 = False]\n",
      " \"-____-\"     Free Apache license: http://github.com/unslothai/unsloth\n"
     ]
    },
    {
     "data": {
      "text/plain": [
       "'The parts of the Semantic Web are World_Wide_Web, World_Wide_Web_Consortium, Web3.0, World_Wide_Web_Consortium_W3C, Semantic_Web_Dream.<eos>'"
      ]
     },
     "execution_count": 26,
     "metadata": {},
     "output_type": "execute_result"
    }
   ],
   "execution_count": 26
  },
  {
   "metadata": {
    "ExecuteTime": {
     "end_time": "2024-09-13T06:41:24.166462Z",
     "start_time": "2024-09-13T06:41:22.834849Z"
    }
   },
   "cell_type": "code",
   "source": [
    "answer_gen.free_model()\n",
    "del answer_gen\n",
    "gc.collect()\n",
    "torch.cuda.empty_cache()\n",
    "\n",
    "print(answer.replace(\"<eos\", \"\"))"
   ],
   "id": "d0f29ffc59d74768",
   "outputs": [
    {
     "name": "stdout",
     "output_type": "stream",
     "text": [
      "The parts of the Semantic Web are World_Wide_Web, World_Wide_Web_Consortium, Web3.0, World_Wide_Web_Consortium_W3C, Semantic_Web_Dream.>\n"
     ]
    }
   ],
   "execution_count": 27
  },
  {
   "metadata": {},
   "cell_type": "code",
   "outputs": [],
   "execution_count": null,
   "source": "",
   "id": "9f75b88ac1a14d59"
  }
 ],
 "metadata": {
  "kernelspec": {
   "display_name": "Python 3",
   "language": "python",
   "name": "python3"
  },
  "language_info": {
   "codemirror_mode": {
    "name": "ipython",
    "version": 2
   },
   "file_extension": ".py",
   "mimetype": "text/x-python",
   "name": "python",
   "nbconvert_exporter": "python",
   "pygments_lexer": "ipython2",
   "version": "2.7.6"
  }
 },
 "nbformat": 4,
 "nbformat_minor": 5
}
