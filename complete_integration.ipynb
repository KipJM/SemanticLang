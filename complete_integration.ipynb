{
 "cells": [
  {
   "metadata": {},
   "cell_type": "markdown",
   "source": [
    "# How to use\n",
    "Run all and enter data when prompted"
   ],
   "id": "e496af9caf2df527"
  },
  {
   "cell_type": "code",
   "id": "initial_id",
   "metadata": {
    "collapsed": true,
    "ExecuteTime": {
     "end_time": "2024-11-14T01:54:01.344612Z",
     "start_time": "2024-11-14T01:52:00.325477Z"
    }
   },
   "source": [
    "from torch.cuda import graph\n",
    "\n",
    "# Get documents\n",
    "documents = []\n",
    "\n",
    "for i in range(int(input(\"Enter the number of documents for the AI to understand\"))):\n",
    "    documents.append(input(\"Copy the document here\").replace(\"\\n\\n\", \"\"))\n",
    "\n",
    "documents"
   ],
   "outputs": [
    {
     "data": {
      "text/plain": [
       "[\"The Federal Communications Commission (FCC) is an independent agency of the United States government that regulates communications by radio, television, wire, satellite, and cable across the United States. The FCC maintains jurisdiction over the areas of broadband access, fair competition, radio frequency use, media responsibility, public safety, and homeland security.[4]The FCC was formed by the Communications Act of 1934 to replace the radio regulation functions of the previous Federal Radio Commission.[5] The FCC took over wire communication regulation from the Interstate Commerce Commission. The FCC's mandated jurisdiction covers the 50 states, the District of Columbia, and the territories of the United States. The FCC also provides varied degrees of cooperation, oversight, and leadership for similar communications bodies in other countries in North America. The FCC is funded entirely by regulatory fees. It has an estimated fiscal-2022 budget of US $388 million.[2] It has 1,482 federal employees as of July 2020.[6]\"]"
      ]
     },
     "execution_count": 1,
     "metadata": {},
     "output_type": "execute_result"
    }
   ],
   "execution_count": 1
  },
  {
   "metadata": {
    "ExecuteTime": {
     "end_time": "2024-11-14T01:54:04.195005Z",
     "start_time": "2024-11-14T01:54:04.190256Z"
    }
   },
   "cell_type": "code",
   "source": "graph_gen = None",
   "id": "d87bd9b3458b0270",
   "outputs": [],
   "execution_count": 2
  },
  {
   "metadata": {
    "ExecuteTime": {
     "end_time": "2024-11-14T01:56:45.717408Z",
     "start_time": "2024-11-14T01:54:04.605234Z"
    }
   },
   "cell_type": "code",
   "source": [
    "from GraphGen.graph_gen_integration import GraphGen\n",
    "# Parse documents\n",
    "triples = []\n",
    "chunks = []\n",
    "\n",
    "if graph_gen is None:\n",
    "    graph_gen = GraphGen([], keyword_reward=1.05)\n",
    "\n",
    "\n",
    "for idx, document in enumerate(documents):\n",
    "    print(f\"==================== Process document {idx+1}/{len(documents)} ====================\")\n",
    "    graph_gen.reset_model(triples, idx)\n",
    "    triples += graph_gen.generate(document)\n",
    "    chunks.append(graph_gen.split_chunks(document))\n",
    "    \n",
    "print(\"ACTUALLY DONE!\")"
   ],
   "id": "50d4b9d3130150ae",
   "outputs": [
    {
     "name": "stdout",
     "output_type": "stream",
     "text": [
      "🦥 Unsloth: Will patch your computer to enable 2x faster free finetuning.\n",
      "==((====))==  Unsloth 2024.8: Fast Gemma2 patching. Transformers = 4.44.2.\n",
      "   \\\\   /|    GPU: NVIDIA GeForce RTX 2060. Max memory: 6.0 GB. Platform = Linux.\n",
      "O^O/ \\_/ \\    Pytorch: 2.4.0+cu121. CUDA = 7.5. CUDA Toolkit = 12.1.\n",
      "\\        /    Bfloat16 = FALSE. FA [Xformers = 0.0.27.post2. FA2 = False]\n",
      " \"-____-\"     Free Apache license: http://github.com/unslothai/unsloth\n"
     ]
    },
    {
     "name": "stderr",
     "output_type": "stream",
     "text": [
      "Unsloth 2024.8 patched 26 layers with 26 QKV layers, 26 O layers and 26 MLP layers.\n"
     ]
    },
    {
     "name": "stdout",
     "output_type": "stream",
     "text": [
      "==================== Process document 1/1 ====================\n",
      "PROCESSING (1/5)\n",
      "Phase 1 text chunk \"The Federal Communications Commission (FCC) is an ...d homeland security.\"\n",
      "Phase 1 context \"None...None\"\n",
      "---\n",
      "Phase 1 model start\n",
      "Phase 2 model generation done\n",
      "\n",
      "United_States<unused1>governmentType<unused2>Federalism\n",
      "United_States<unused1>leaderTitle<unused2>President_of_the_United_States\n",
      "United_States<unused1>leader<unused2>Joe_Biden\n",
      "United_States<unused1>independentAgency<unused2>Federal_Communications_Commission\n",
      "United_States<unused1>media期刊论文<unused2>Broadband_Access\n",
      "United_States<unused1>language<unused2>English_language\n",
      "United_States<unused1>region<unused2>United_States_House_of_Representatives\n",
      "United_States<unused1>governingBody<unused2>FCC\n",
      "United_States<unused1>areaOfWater<unused2>5.1234 (square kilometres)\n",
      "United_States<unused1>populationDensity<unused2>926.0 (inhabitants per square kilometre)\n",
      "United_States<unused1>largestCity<unused2>New_York_City\n",
      "Phase 3 parsing done\n",
      "chunk DONE\n",
      "PROCESSING (2/5)\n",
      "Phase 1 text chunk \"The FCC maintains jurisdiction over the areas of b...d homeland security.\"\n",
      "Phase 1 context \"<unused0>United_States<unused1...nused2>New_York_City\"\n",
      "---\n",
      "Phase 1 model start\n",
      "Phase 2 model generation done\n",
      "\n",
      "FCC<unused1>jurisdiction<unused2>Broadband_Access\n",
      "FCC<unused1>jurisdiction<unused2>Media_responsibility\n",
      "FCC<unused1>jurisdiction<unused2>Radio_frequency_management\n",
      "FCC<unused1>jurisdiction<unused2>Public_safety\n",
      "FCC<unused1>jurisdiction<unused2>Homeland_security\n",
      "Phase 3 parsing done\n",
      "chunk DONE\n",
      "PROCESSING (3/5)\n",
      "Phase 1 text chunk \"[4]The FCC was formed by the Communications Act of...f the United States.\"\n",
      "Phase 1 context \"<unused0>United_States<unused1... (square kilometres)\"\n",
      "---\n",
      "Phase 1 model start\n",
      "Phase 2 model generation done\n",
      "\n",
      "FCC<unused1>successor<unused2>Federal_Radio_Commission\n",
      "FCC<unused1>jurisdiction<unused2>Wire_communication\n",
      "United_States<unused1>areaTotal<unused2>9833344.1 (square kilometres)\n",
      "Phase 3 parsing done\n",
      "chunk DONE\n",
      "PROCESSING (4/5)\n",
      "Phase 1 text chunk \"The FCC's mandated jurisdiction covers the 50 stat...f the United States.\"\n",
      "Phase 1 context \"<unused0>FCC<unused1>jurisdict...e<unused2>Federalism\"\n",
      "---\n",
      "Phase 1 model start\n",
      "Phase 2 model generation done\n",
      "\n",
      "United_States<unused1>region<unused2>50_states\n",
      "Phase 3 parsing done\n",
      "chunk DONE\n",
      "PROCESSING (5/5)\n",
      "Phase 1 text chunk \"The FCC also provides varied degrees of cooperatio...as of July 2020. [6]\"\n",
      "Phase 1 context \"<unused0>United_States<unused1... (square kilometres)\"\n",
      "---\n",
      "Phase 1 model start\n",
      "Phase 2 model generation done\n",
      "\n",
      "United_States<unused1>language<unused2>English_language\n",
      "United_States<unused1>demonym<unused2>Americans\n",
      "United_States<unused1>leader<unused2>John_Roberts\n",
      "United_States<unused1>populationDensity<unused2>926.0 (inhabitants per square kilometre)\n",
      "United_States<unused1>leader<unused2>Paul_Ryan\n",
      "United_States<unused1>populationTotal<unused2>327426744\n",
      "Phase 3 parsing done\n",
      "chunk DONE\n",
      "ACTUALLY DONE!\n"
     ]
    }
   ],
   "execution_count": 3
  },
  {
   "metadata": {
    "ExecuteTime": {
     "end_time": "2024-11-14T01:57:10.026789Z",
     "start_time": "2024-11-14T01:57:10.015067Z"
    }
   },
   "cell_type": "code",
   "source": [
    "import pickle\n",
    "\n",
    "with open('triples.smlgraph', 'wb') as outp:\n",
    "    pickle.dump(triples, outp)\n",
    "    \n",
    "triples"
   ],
   "id": "ae023bd615c5aff1",
   "outputs": [
    {
     "data": {
      "text/plain": [
       "[Triple(subject='United_States', predicate='governmentType', object='Federalism', id=0, document_id=0),\n",
       " Triple(subject='United_States', predicate='leaderTitle', object='President_of_the_United_States', id=0, document_id=0),\n",
       " Triple(subject='United_States', predicate='leader', object='Joe_Biden', id=0, document_id=0),\n",
       " Triple(subject='United_States', predicate='independentAgency', object='Federal_Communications_Commission', id=0, document_id=0),\n",
       " Triple(subject='United_States', predicate='media期刊论文', object='Broadband_Access', id=0, document_id=0),\n",
       " Triple(subject='United_States', predicate='language', object='English_language', id=0, document_id=0),\n",
       " Triple(subject='United_States', predicate='region', object='United_States_House_of_Representatives', id=0, document_id=0),\n",
       " Triple(subject='United_States', predicate='governingBody', object='FCC', id=0, document_id=0),\n",
       " Triple(subject='United_States', predicate='areaOfWater', object='5.1234 (square kilometres)', id=0, document_id=0),\n",
       " Triple(subject='United_States', predicate='populationDensity', object='926.0 (inhabitants per square kilometre)', id=0, document_id=0),\n",
       " Triple(subject='United_States', predicate='largestCity', object='New_York_City', id=0, document_id=0),\n",
       " Triple(subject='FCC', predicate='jurisdiction', object='Broadband_Access', id=1, document_id=0),\n",
       " Triple(subject='FCC', predicate='jurisdiction', object='Media_responsibility', id=1, document_id=0),\n",
       " Triple(subject='FCC', predicate='jurisdiction', object='Radio_frequency_management', id=1, document_id=0),\n",
       " Triple(subject='FCC', predicate='jurisdiction', object='Public_safety', id=1, document_id=0),\n",
       " Triple(subject='FCC', predicate='jurisdiction', object='Homeland_security', id=1, document_id=0),\n",
       " Triple(subject='FCC', predicate='successor', object='Federal_Radio_Commission', id=2, document_id=0),\n",
       " Triple(subject='FCC', predicate='jurisdiction', object='Wire_communication', id=2, document_id=0),\n",
       " Triple(subject='United_States', predicate='areaTotal', object='9833344.1 (square kilometres)', id=2, document_id=0),\n",
       " Triple(subject='United_States', predicate='region', object='50_states', id=3, document_id=0),\n",
       " Triple(subject='United_States', predicate='demonym', object='Americans', id=4, document_id=0),\n",
       " Triple(subject='United_States', predicate='leader', object='John_Roberts', id=4, document_id=0),\n",
       " Triple(subject='United_States', predicate='leader', object='Paul_Ryan', id=4, document_id=0),\n",
       " Triple(subject='United_States', predicate='populationTotal', object='327426744', id=4, document_id=0)]"
      ]
     },
     "execution_count": 4,
     "metadata": {},
     "output_type": "execute_result"
    }
   ],
   "execution_count": 4
  },
  {
   "metadata": {
    "ExecuteTime": {
     "end_time": "2024-11-14T01:57:16.583308Z",
     "start_time": "2024-11-14T01:57:16.523134Z"
    }
   },
   "cell_type": "code",
   "source": [
    "from pyvis.network import Network\n",
    "from GraphGen.graph_gen_integration import Triple\n",
    "from GraphGen import graph_gen_integration\n",
    "\n",
    "net = Network(bgcolor=\"#222222\", font_color=\"white\", notebook=True, directed=True)\n",
    "net2 = Network(bgcolor=\"#222222\", font_color=\"white\", notebook=False, directed=True)\n",
    "\n",
    "\n",
    "# Parse rdf_strings\n",
    "\n",
    "def add_triples(rdf: Triple, _color: str):\n",
    "    net.add_node(rdf.subject, color=_color)\n",
    "    net.add_node(rdf.object, color=_color)\n",
    "    # if not any(edge['from'] == rdf.subject and edge['to'] == rdf.object and edge['title'] == rdf.predicate for edge in net.edges): # should be deprecated later\n",
    "    net.add_edge(rdf.subject, rdf.object, title=rdf.predicate, color=_color)\n",
    "    \n",
    "    net2.add_node(rdf.subject, color=_color)\n",
    "    net2.add_node(rdf.object, color=_color)\n",
    "    # if not any(edge['from'] == rdf.subject and edge['to'] == rdf.object and edge['title'] == rdf.predicate for edge in net.edges): # should be deprecated later\n",
    "    net2.add_edge(rdf.subject, rdf.object, title=rdf.predicate, color=_color)\n",
    "\n",
    "\n",
    "import random\n",
    "\n",
    "r = lambda: random.randint(0, 255)\n",
    "net.toggle_physics(True)\n",
    "\n",
    "colors = {}\n",
    "\n",
    "for idx, triple in enumerate(triples):\n",
    "    if triple.document_id in colors:\n",
    "        document = colors[triple.document_id]\n",
    "        if triple.id in document:\n",
    "            color = document[triple.id]\n",
    "        else:\n",
    "            color = '#%02X%02X%02X' % (r(), r(), r())\n",
    "            colors[triple.document_id][triple.id] = color\n",
    "    else:\n",
    "        colors[triple.document_id] = {} \n",
    "        color = '#%02X%02X%02X' % (r(), r(), r())\n",
    "        colors[triple.document_id][triple.id] = color\n",
    "\n",
    "    add_triples(triple, color)\n",
    "    # net.show(f\"{idx}.html\", notebook=False)\n",
    "net.show(\"graph.html\", notebook=True)\n",
    "# net2.show(\"graph2.html\", notebook=False) # For visualization outside notebook"
   ],
   "id": "4afb31f010c4930b",
   "outputs": [
    {
     "name": "stdout",
     "output_type": "stream",
     "text": [
      "Warning: When  cdn_resources is 'local' jupyter notebook has issues displaying graphics on chrome/safari. Use cdn_resources='in_line' or cdn_resources='remote' if you have issues viewing graphics in a notebook.\n",
      "graph.html\n"
     ]
    },
    {
     "data": {
      "text/plain": [
       "<IPython.lib.display.IFrame at 0x7f06681e57b0>"
      ],
      "text/html": [
       "\n",
       "        <iframe\n",
       "            width=\"100%\"\n",
       "            height=\"600px\"\n",
       "            src=\"graph.html\"\n",
       "            frameborder=\"0\"\n",
       "            allowfullscreen\n",
       "            \n",
       "        ></iframe>\n",
       "        "
      ]
     },
     "execution_count": 5,
     "metadata": {},
     "output_type": "execute_result"
    }
   ],
   "execution_count": 5
  },
  {
   "metadata": {
    "ExecuteTime": {
     "end_time": "2024-11-13T06:15:35.055534Z",
     "start_time": "2024-11-13T06:15:35.050258Z"
    }
   },
   "cell_type": "code",
   "source": [
    "# Workaround for now. Backtracking to source\n",
    "def get_chunk(_hex_code):\n",
    "    _hex_code = _hex_code.upper()\n",
    "    print(_hex_code)\n",
    "    possible_docs = []\n",
    "    for _document in colors:\n",
    "        for _chunk in colors[_document]:\n",
    "            if colors[_document][_chunk] == _hex_code:\n",
    "                possible_docs.append([_document, _chunk])\n",
    "                \n",
    "    if len(possible_docs) == 0:\n",
    "        return None\n",
    "    \n",
    "    # print(possible_docs)\n",
    "    \n",
    "    docs = []\n",
    "    \n",
    "    for doc in possible_docs:\n",
    "       docs.append(graph_gen.split_chunks(graph_gen.preprocess_document(documents[doc[0]]))[doc[1]])\n",
    "    \n",
    "    return docs"
   ],
   "id": "4b0de6f618d2567e",
   "outputs": [],
   "execution_count": 6
  },
  {
   "metadata": {
    "ExecuteTime": {
     "end_time": "2024-11-14T01:58:06.076095Z",
     "start_time": "2024-11-14T01:58:04.768273Z"
    }
   },
   "cell_type": "code",
   "source": [
    "graph_gen.free_model()\n",
    "del graph_gen"
   ],
   "id": "bfd159f592bd1ffb",
   "outputs": [],
   "execution_count": 6
  },
  {
   "metadata": {
    "ExecuteTime": {
     "end_time": "2024-11-14T01:58:06.839782Z",
     "start_time": "2024-11-14T01:58:06.610734Z"
    }
   },
   "cell_type": "code",
   "source": [
    "import torch, gc\n",
    "# graph_gen.free_model()\n",
    "# del graph_gen\n",
    "gc.collect()\n",
    "torch.cuda.empty_cache()"
   ],
   "id": "1145bd943aee9491",
   "outputs": [],
   "execution_count": 7
  },
  {
   "metadata": {
    "ExecuteTime": {
     "end_time": "2024-11-14T01:58:15.830878Z",
     "start_time": "2024-11-14T01:58:15.820051Z"
    }
   },
   "cell_type": "code",
   "source": [
    "with open('triples.smlgraph', 'rb') as inp:\n",
    "    triples = pickle.load(inp)\n",
    "triples"
   ],
   "id": "89eacb061ad178e9",
   "outputs": [
    {
     "data": {
      "text/plain": [
       "[Triple(subject='United_States', predicate='governmentType', object='Federalism', id=0, document_id=0),\n",
       " Triple(subject='United_States', predicate='leaderTitle', object='President_of_the_United_States', id=0, document_id=0),\n",
       " Triple(subject='United_States', predicate='leader', object='Joe_Biden', id=0, document_id=0),\n",
       " Triple(subject='United_States', predicate='independentAgency', object='Federal_Communications_Commission', id=0, document_id=0),\n",
       " Triple(subject='United_States', predicate='media期刊论文', object='Broadband_Access', id=0, document_id=0),\n",
       " Triple(subject='United_States', predicate='language', object='English_language', id=0, document_id=0),\n",
       " Triple(subject='United_States', predicate='region', object='United_States_House_of_Representatives', id=0, document_id=0),\n",
       " Triple(subject='United_States', predicate='governingBody', object='FCC', id=0, document_id=0),\n",
       " Triple(subject='United_States', predicate='areaOfWater', object='5.1234 (square kilometres)', id=0, document_id=0),\n",
       " Triple(subject='United_States', predicate='populationDensity', object='926.0 (inhabitants per square kilometre)', id=0, document_id=0),\n",
       " Triple(subject='United_States', predicate='largestCity', object='New_York_City', id=0, document_id=0),\n",
       " Triple(subject='FCC', predicate='jurisdiction', object='Broadband_Access', id=1, document_id=0),\n",
       " Triple(subject='FCC', predicate='jurisdiction', object='Media_responsibility', id=1, document_id=0),\n",
       " Triple(subject='FCC', predicate='jurisdiction', object='Radio_frequency_management', id=1, document_id=0),\n",
       " Triple(subject='FCC', predicate='jurisdiction', object='Public_safety', id=1, document_id=0),\n",
       " Triple(subject='FCC', predicate='jurisdiction', object='Homeland_security', id=1, document_id=0),\n",
       " Triple(subject='FCC', predicate='successor', object='Federal_Radio_Commission', id=2, document_id=0),\n",
       " Triple(subject='FCC', predicate='jurisdiction', object='Wire_communication', id=2, document_id=0),\n",
       " Triple(subject='United_States', predicate='areaTotal', object='9833344.1 (square kilometres)', id=2, document_id=0),\n",
       " Triple(subject='United_States', predicate='region', object='50_states', id=3, document_id=0),\n",
       " Triple(subject='United_States', predicate='demonym', object='Americans', id=4, document_id=0),\n",
       " Triple(subject='United_States', predicate='leader', object='John_Roberts', id=4, document_id=0),\n",
       " Triple(subject='United_States', predicate='leader', object='Paul_Ryan', id=4, document_id=0),\n",
       " Triple(subject='United_States', predicate='populationTotal', object='327426744', id=4, document_id=0)]"
      ]
     },
     "execution_count": 8,
     "metadata": {},
     "output_type": "execute_result"
    }
   ],
   "execution_count": 8
  },
  {
   "metadata": {
    "ExecuteTime": {
     "end_time": "2024-11-14T01:59:03.688847Z",
     "start_time": "2024-11-14T01:58:18.933451Z"
    }
   },
   "cell_type": "code",
   "source": [
    "from QueryGen.query_gen_integration import QueryGen\n",
    "query_gen = QueryGen(triples)"
   ],
   "id": "a4f0bbf5189f2e1c",
   "outputs": [
    {
     "name": "stdout",
     "output_type": "stream",
     "text": [
      "==((====))==  Unsloth 2024.8: Fast Gemma2 patching. Transformers = 4.44.2.\n",
      "   \\\\   /|    GPU: NVIDIA GeForce RTX 2060. Max memory: 6.0 GB. Platform = Linux.\n",
      "O^O/ \\_/ \\    Pytorch: 2.4.0+cu121. CUDA = 7.5. CUDA Toolkit = 12.1.\n",
      "\\        /    Bfloat16 = FALSE. FA [Xformers = 0.0.27.post2. FA2 = False]\n",
      " \"-____-\"     Free Apache license: http://github.com/unslothai/unsloth\n"
     ]
    }
   ],
   "execution_count": 9
  },
  {
   "metadata": {
    "ExecuteTime": {
     "end_time": "2024-11-14T02:00:19.535330Z",
     "start_time": "2024-11-14T01:59:50.677224Z"
    }
   },
   "cell_type": "code",
   "source": "question = input(\"Enter your question:\")",
   "id": "f6dcc49bbe973a6c",
   "outputs": [],
   "execution_count": 10
  },
  {
   "metadata": {
    "ExecuteTime": {
     "end_time": "2024-11-14T02:00:25.940778Z",
     "start_time": "2024-11-14T02:00:20.907487Z"
    }
   },
   "cell_type": "code",
   "source": [
    "# question = input(\"Enter your question: \")\n",
    "query = query_gen.generate(question)\n",
    "# query\n",
    "print(query)"
   ],
   "id": "57af6fc682716e52",
   "outputs": [
    {
     "name": "stdout",
     "output_type": "stream",
     "text": [
      "A\n",
      "NOT STARTED\n",
      "A\n",
      "NOT STARTED\n",
      "A\n",
      "NOT STARTED\n",
      "A\n",
      "NOT STARTED\n",
      "A\n",
      "NOT STARTED\n",
      "A\n",
      "NOT STARTED\n",
      "A\n",
      "NOT STARTED\n",
      "A\n",
      "NOT STARTED\n",
      "A\n",
      "NOT STARTED\n",
      "A\n",
      "NOT STARTED\n",
      "A\n",
      "NOT STARTED\n",
      "A\n",
      "NOT STARTED\n",
      "A\n",
      "NOT STARTED\n",
      "A\n",
      "NOT STARTED\n",
      "A\n",
      "NOT STARTED\n",
      "A\n",
      "NOT STARTED\n",
      "A\n",
      "NOT STARTED\n",
      "A\n",
      "NOT STARTED\n",
      "A\n",
      "NOT STARTED\n",
      "A\n",
      "NOT STARTED\n",
      "A\n",
      "NOT STARTED\n",
      "SELECT DISTINCT ?uri WHERE {?uri <purpose> <Federal_Communications_Commission>  . }\n"
     ]
    }
   ],
   "execution_count": 11
  },
  {
   "metadata": {
    "ExecuteTime": {
     "end_time": "2024-10-31T06:56:26.234858Z",
     "start_time": "2024-10-31T06:56:26.231368Z"
    }
   },
   "cell_type": "code",
   "source": "",
   "id": "d70cd388b9e46775",
   "outputs": [],
   "execution_count": null
  },
  {
   "metadata": {
    "ExecuteTime": {
     "end_time": "2024-10-31T06:56:26.921726Z",
     "start_time": "2024-10-31T06:56:26.890443Z"
    }
   },
   "cell_type": "code",
   "source": [
    "from rdflib import Graph, Literal, RDF, URIRef\n",
    "g = Graph()\n",
    "for triple in triples:\n",
    "    g.add((URIRef(triple.subject), URIRef(triple.predicate), URIRef(triple.object)))"
   ],
   "id": "702c31abea511a08",
   "outputs": [
    {
     "name": "stderr",
     "output_type": "stream",
     "text": [
      "\"Nationwide\" does not look like a valid URI, trying to serialize this will break.\n",
      "\"Scholars' Bowl\" does not look like a valid URI, trying to serialize this will break.\n",
      "\"Scholars' Bowl\", \"Academic Bowl\", \"Academic Team\", \"Academic Challenge\", \"Scholastic Bowl\", \"Primary School Quiz Bowl\", \"Middle School Quiz Bowl\", \"High School Quiz Bowl\", \"University Quiz Bowl\" does not look like a valid URI, trying to serialize this will break.\n",
      "\"Nationwide\" does not look like a valid URI, trying to serialize this will break.\n",
      "\"Unlimited\" does not look like a valid URI, trying to serialize this will break.\n",
      "\"Unlimited\" does not look like a valid URI, trying to serialize this will break.\n",
      "\"Single-elimination tournament\" does not look like a valid URI, trying to serialize this will break.\n",
      "\"4 per team\" does not look like a valid URI, trying to serialize this will break.\n",
      "\"Buzzer\" does not look like a valid URI, trying to serialize this will break.\n",
      "\"1953-09-28\" does not look like a valid URI, trying to serialize this will break.\n",
      "\"1970-04-12\" does not look like a valid URI, trying to serialize this will break.\n",
      "\"The College Quiz Bowl\" does not look like a valid URI, trying to serialize this will break.\n",
      "\"College Bowl\" does not look like a valid URI, trying to serialize this will break.\n",
      "\"1959-09-28\" does not look like a valid URI, trying to serialize this will break.\n",
      "\"1948-09-28\" does not look like a valid URI, trying to serialize this will break.\n",
      "\"Delaware County, Pennsylvania\" does not look like a valid URI, trying to serialize this will break.\n",
      "\"Scott Paper Company\" does not look like a valid URI, trying to serialize this will break.\n",
      "\"1959-09-28\" does not look like a valid URI, trying to serialize this will break.\n",
      "\"1961-09-28\" does not look like a valid URI, trying to serialize this will break.\n",
      "\"Nationwide\" does not look like a valid URI, trying to serialize this will break.\n"
     ]
    }
   ],
   "execution_count": 39
  },
  {
   "metadata": {
    "ExecuteTime": {
     "end_time": "2024-10-31T06:56:28.081571Z",
     "start_time": "2024-10-31T06:56:28.068903Z"
    }
   },
   "cell_type": "code",
   "source": [
    "# Apply the query to the graph and iterate through results\n",
    "r_r = []\n",
    "for r in g.query(query):\n",
    "    print(r[0])\n",
    "    r_r.append(str(r[0]))\n",
    "r_r"
   ],
   "id": "e1cab88b4345216",
   "outputs": [
    {
     "data": {
      "text/plain": [
       "[]"
      ]
     },
     "execution_count": 40,
     "metadata": {},
     "output_type": "execute_result"
    }
   ],
   "execution_count": 40
  },
  {
   "metadata": {
    "ExecuteTime": {
     "end_time": "2024-10-31T06:57:21.179242Z",
     "start_time": "2024-10-31T06:57:21.150928Z"
    }
   },
   "cell_type": "code",
   "source": [
    "query_gen.free_model()\n",
    "del query_gen\n",
    "gc.collect()\n",
    "torch.cuda.empty_cache()"
   ],
   "id": "93c4cf07596e9deb",
   "outputs": [
    {
     "ename": "NameError",
     "evalue": "name 'query_gen' is not defined",
     "output_type": "error",
     "traceback": [
      "\u001B[0;31m---------------------------------------------------------------------------\u001B[0m",
      "\u001B[0;31mNameError\u001B[0m                                 Traceback (most recent call last)",
      "Cell \u001B[0;32mIn[45], line 1\u001B[0m\n\u001B[0;32m----> 1\u001B[0m \u001B[43mquery_gen\u001B[49m\u001B[38;5;241m.\u001B[39mfree_model()\n\u001B[1;32m      2\u001B[0m \u001B[38;5;28;01mdel\u001B[39;00m query_gen\n\u001B[1;32m      3\u001B[0m gc\u001B[38;5;241m.\u001B[39mcollect()\n",
      "\u001B[0;31mNameError\u001B[0m: name 'query_gen' is not defined"
     ]
    }
   ],
   "execution_count": 45
  },
  {
   "metadata": {
    "ExecuteTime": {
     "end_time": "2024-10-31T06:56:54.611228Z",
     "start_time": "2024-10-31T06:56:32.165290Z"
    }
   },
   "cell_type": "code",
   "source": [
    "from AnswerGen.answer_gen_integration import AnswerGen\n",
    "answer_gen = AnswerGen()\n",
    "\n",
    "answer = answer_gen.generate(question, str(r_r))\n",
    "answer"
   ],
   "id": "5f173da7b79fb783",
   "outputs": [
    {
     "name": "stdout",
     "output_type": "stream",
     "text": [
      "==((====))==  Unsloth 2024.8: Fast Gemma2 patching. Transformers = 4.44.2.\n",
      "   \\\\   /|    GPU: NVIDIA GeForce RTX 2060. Max memory: 6.0 GB. Platform = Linux.\n",
      "O^O/ \\_/ \\    Pytorch: 2.4.0+cu121. CUDA = 7.5. CUDA Toolkit = 12.1.\n",
      "\\        /    Bfloat16 = FALSE. FA [Xformers = 0.0.27.post2. FA2 = False]\n",
      " \"-____-\"     Free Apache license: http://github.com/unslothai/unsloth\n"
     ]
    },
    {
     "data": {
      "text/plain": [
       "'The quizbowl is the sport of the quiz bowl.<eos>'"
      ]
     },
     "execution_count": 42,
     "metadata": {},
     "output_type": "execute_result"
    }
   ],
   "execution_count": 42
  },
  {
   "metadata": {
    "ExecuteTime": {
     "end_time": "2024-10-31T06:57:28.858522Z",
     "start_time": "2024-10-31T06:57:27.678314Z"
    }
   },
   "cell_type": "code",
   "source": [
    "answer_gen.free_model()\n",
    "del answer_gen\n",
    "gc.collect()\n",
    "torch.cuda.empty_cache()"
   ],
   "id": "d0f29ffc59d74768",
   "outputs": [],
   "execution_count": 46
  },
  {
   "metadata": {
    "ExecuteTime": {
     "end_time": "2024-10-31T06:57:06.840238Z",
     "start_time": "2024-10-31T06:57:06.836163Z"
    }
   },
   "cell_type": "code",
   "source": "print(answer.replace(\"<eos>\", \"\"))",
   "id": "9f75b88ac1a14d59",
   "outputs": [
    {
     "name": "stdout",
     "output_type": "stream",
     "text": [
      "The quizbowl is the sport of the quiz bowl.\n"
     ]
    }
   ],
   "execution_count": 43
  },
  {
   "metadata": {},
   "cell_type": "code",
   "outputs": [],
   "execution_count": null,
   "source": [
    "graph_gen = GraphGen([], keyword_reward=1.1)\n",
    "graph_gen.reset_model([], 0)"
   ],
   "id": "757162f971743fab"
  },
  {
   "metadata": {
    "ExecuteTime": {
     "end_time": "2024-11-13T00:53:06.026662Z",
     "start_time": "2024-11-13T00:53:03.509774Z"
    }
   },
   "cell_type": "code",
   "source": [
    "# CHUNK LOOKUP\n",
    "hex_code = input(\"Enter hex code for chunk lookup\")\n",
    "chunks = get_chunk(hex_code)\n",
    "if chunks is None:\n",
    "    print(\"No related chunk found. Try again\")\n",
    "elif len(chunks) == 1:\n",
    "    print(\"CHUNK: \")\n",
    "    print(chunks[0])\n",
    "elif len(chunks) > 1:\n",
    "    print(f\"{len(chunks)} chunks somehow got assigned the same color. Find them below\")\n",
    "    for chunk in chunks:\n",
    "        print(chunk)"
   ],
   "id": "e4371cc8d0178c57",
   "outputs": [
    {
     "name": "stdout",
     "output_type": "stream",
     "text": [
      "#D55923\n",
      "CHUNK: \n",
      "Will Wood is an American musician, singer-songwriter, and comedian. [4][5] Wood has released four studio albums; Everything Is a Lot (2015), SELF-iSH (2016), The Normal Album (2020),[6] and \"In case I make it,\" (2022). The former two were released as Will Wood and the Tapeworms, Wood's prior band name. He has additionally released two live albums and a soundtrack.\n"
     ]
    }
   ],
   "execution_count": 8
  },
  {
   "metadata": {
    "ExecuteTime": {
     "end_time": "2024-10-31T07:00:46.783286Z",
     "start_time": "2024-10-31T07:00:46.776652Z"
    }
   },
   "cell_type": "code",
   "source": "colors",
   "id": "9f84fc2829b6bfaa",
   "outputs": [
    {
     "data": {
      "text/plain": [
       "{0: {0: '#2B6E1E', 1: '#A29881', 2: '#74686B'},\n",
       " 1: {0: '#355423', 1: '#752F2E', 2: '#A19E54', 3: '#B0681C', 4: '#B5BCC9'}}"
      ]
     },
     "execution_count": 50,
     "metadata": {},
     "output_type": "execute_result"
    }
   ],
   "execution_count": 50
  },
  {
   "metadata": {},
   "cell_type": "code",
   "outputs": [],
   "execution_count": null,
   "source": "",
   "id": "bb99b79a91c1a71"
  }
 ],
 "metadata": {
  "kernelspec": {
   "display_name": "Python 3",
   "language": "python",
   "name": "python3"
  },
  "language_info": {
   "codemirror_mode": {
    "name": "ipython",
    "version": 2
   },
   "file_extension": ".py",
   "mimetype": "text/x-python",
   "name": "python",
   "nbconvert_exporter": "python",
   "pygments_lexer": "ipython2",
   "version": "2.7.6"
  }
 },
 "nbformat": 4,
 "nbformat_minor": 5
}
