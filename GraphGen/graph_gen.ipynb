{
 "cells": [
  {
   "metadata": {
    "ExecuteTime": {
     "end_time": "2024-09-09T07:18:38.776253Z",
     "start_time": "2024-09-09T07:18:38.763282Z"
    }
   },
   "cell_type": "code",
   "source": [
    "import math\n",
    "\n",
    "input_text = \"\"\"Typhoon Yagi, known in the Philippines as Severe Tropical Storm Enteng, was a powerful and destructive tropical cyclone which impacted the Philippines, China and Vietnam in early September 2024. Yagi, which means goat or the constellation of Capricornus in Japanese, is the eleventh named storm, the first violent typhoon and Category 5 storm of the annual typhoon season. It was one of the most intense typhoons ever to strike northern Vietnam, the strongest typhoon to strike Hainan during the meteorological autumn and the strongest since Rammasun in 2014. It is one of only four Category 5 super typhoons recorded in the South China Sea, alongside Pamela in 1954, Rammasun in 2014 and Rai in 2021.\n",
    "\n",
    "Yagi originated from a low-pressure area that formed on August 30, approximately 540 km (330 mi) northwest of Palau. On September 1, the system was classified as a tropical storm and named Yagi by the Japan Meteorological Agency (JMA). After making landfall over Casiguran, Aurora in the Philippines, on September 2, Yagi weakened as it moved inland through the rugged terrain of the Cordillera Central of Luzon. It later emerged over the South China Sea and began merging with a secondary circulation west of Lingayen Gulf, with its deep convection starting to wrap and develop convective bands extending west and south. On September 5, the JMA reported that the storm reached its peak intensity with ten-minute sustained winds of 195 km/h (120 mph) and a central pressure of 915 hPa (27.02 inHg). It subsequently peaked as a Category 5-equivalent super typhoon on the Saffir-Simpson scale, with one-minute sustained winds of 260 km/h (160 mph). After weakening during an eyewall replacement cycle, Yagi slightly restrengthened before making landfall near Wenchang in China's Hainan Province on September 6. Yagi passed over northern Hainan and directly over Haikou, before briefly making landfall over Xuwen County in mainland Guangdong Province and moving into the open waters of the Gulf of Tonkin. It made landfall over Haiphong and Quang Ninh, Vietnam, on September 7 and moved southwestward inland until it was last noted on September 8.\n",
    "\n",
    "The combination of Yagi and the southwest monsoon led to heavy rains over Luzon, causing widespread flash floods in various areas. The Hong Kong Observatory issued a Gale or Storm No. 8 for Hong Kong as Typhoon Yagi approached. Power outages and downed trees were reported in Hainan; in preparation for Typhoon Yagi, schools in areas in the trajectory of the storm were closed along with local transport services across the island province. In Vietnam, several structures including electric poles were uprooted, leading to power outages in various areas. In total, the typhoon caused at least 48 deaths, 321 injuries, and left 39 people missing, resulting in US$9.29 billion in damage across several countries. \n",
    "\"\"\""
   ],
   "id": "308c20d26bb908e5",
   "outputs": [],
   "execution_count": 1
  },
  {
   "metadata": {
    "ExecuteTime": {
     "end_time": "2024-09-09T07:18:38.866142Z",
     "start_time": "2024-09-09T07:18:38.861150Z"
    }
   },
   "cell_type": "code",
   "source": [
    "# import nltk\n",
    "# nltk.download('punkt_tab')"
   ],
   "id": "7e5897bfbad8661e",
   "outputs": [],
   "execution_count": 2
  },
  {
   "metadata": {
    "ExecuteTime": {
     "end_time": "2024-09-09T07:18:39.456821Z",
     "start_time": "2024-09-09T07:18:38.898639Z"
    }
   },
   "cell_type": "code",
   "source": [
    "max_chunck_length = 400\n",
    "import nltk.data\n",
    "\n",
    "pkt_tokenizer = nltk.data.load('tokenizers/punkt/english.pickle')\n",
    "sentences = pkt_tokenizer.tokenize(input_text)\n",
    "\n",
    "merged_sentences = []\n",
    "\n",
    "for i in range(len(sentences)):\n",
    "    sentence = sentences[i]\n",
    "    if i >= 1 and len(merged_sentences[-1]) + len(sentence) <= max_chunck_length:\n",
    "        merged_sentences[-1] += \" \" + sentence\n",
    "    else:\n",
    "        if i >= 1:\n",
    "            merged_sentences.append(sentences[i - 1])\n",
    "        merged_sentences.append(sentence)\n",
    "\n",
    "merged_sentences"
   ],
   "id": "ef9a465f4e531859",
   "outputs": [
    {
     "data": {
      "text/plain": [
       "['Typhoon Yagi, known in the Philippines as Severe Tropical Storm Enteng, was a powerful and destructive tropical cyclone which impacted the Philippines, China and Vietnam in early September 2024. Yagi, which means goat or the constellation of Capricornus in Japanese, is the eleventh named storm, the first violent typhoon and Category 5 storm of the annual typhoon season.',\n",
       " 'Yagi, which means goat or the constellation of Capricornus in Japanese, is the eleventh named storm, the first violent typhoon and Category 5 storm of the annual typhoon season.',\n",
       " 'It was one of the most intense typhoons ever to strike northern Vietnam, the strongest typhoon to strike Hainan during the meteorological autumn and the strongest since Rammasun in 2014. It is one of only four Category 5 super typhoons recorded in the South China Sea, alongside Pamela in 1954, Rammasun in 2014 and Rai in 2021.',\n",
       " 'It is one of only four Category 5 super typhoons recorded in the South China Sea, alongside Pamela in 1954, Rammasun in 2014 and Rai in 2021.',\n",
       " 'Yagi originated from a low-pressure area that formed on August 30, approximately 540 km (330 mi) northwest of Palau. On September 1, the system was classified as a tropical storm and named Yagi by the Japan Meteorological Agency (JMA).',\n",
       " 'On September 1, the system was classified as a tropical storm and named Yagi by the Japan Meteorological Agency (JMA).',\n",
       " 'After making landfall over Casiguran, Aurora in the Philippines, on September 2, Yagi weakened as it moved inland through the rugged terrain of the Cordillera Central of Luzon. It later emerged over the South China Sea and began merging with a secondary circulation west of Lingayen Gulf, with its deep convection starting to wrap and develop convective bands extending west and south.',\n",
       " 'It later emerged over the South China Sea and began merging with a secondary circulation west of Lingayen Gulf, with its deep convection starting to wrap and develop convective bands extending west and south.',\n",
       " 'On September 5, the JMA reported that the storm reached its peak intensity with ten-minute sustained winds of 195 km/h (120 mph) and a central pressure of 915 hPa (27.02 inHg). It subsequently peaked as a Category 5-equivalent super typhoon on the Saffir-Simpson scale, with one-minute sustained winds of 260 km/h (160 mph).',\n",
       " 'It subsequently peaked as a Category 5-equivalent super typhoon on the Saffir-Simpson scale, with one-minute sustained winds of 260 km/h (160 mph).',\n",
       " \"After weakening during an eyewall replacement cycle, Yagi slightly restrengthened before making landfall near Wenchang in China's Hainan Province on September 6. Yagi passed over northern Hainan and directly over Haikou, before briefly making landfall over Xuwen County in mainland Guangdong Province and moving into the open waters of the Gulf of Tonkin.\",\n",
       " 'Yagi passed over northern Hainan and directly over Haikou, before briefly making landfall over Xuwen County in mainland Guangdong Province and moving into the open waters of the Gulf of Tonkin.',\n",
       " 'It made landfall over Haiphong and Quang Ninh, Vietnam, on September 7 and moved southwestward inland until it was last noted on September 8. The combination of Yagi and the southwest monsoon led to heavy rains over Luzon, causing widespread flash floods in various areas. The Hong Kong Observatory issued a Gale or Storm No. 8 for Hong Kong as Typhoon Yagi approached.',\n",
       " '8 for Hong Kong as Typhoon Yagi approached.',\n",
       " 'Power outages and downed trees were reported in Hainan; in preparation for Typhoon Yagi, schools in areas in the trajectory of the storm were closed along with local transport services across the island province. In Vietnam, several structures including electric poles were uprooted, leading to power outages in various areas.',\n",
       " 'In Vietnam, several structures including electric poles were uprooted, leading to power outages in various areas.',\n",
       " 'In total, the typhoon caused at least 48 deaths, 321 injuries, and left 39 people missing, resulting in US$9.29 billion in damage across several countries.']"
      ]
     },
     "execution_count": 3,
     "metadata": {},
     "output_type": "execute_result"
    }
   ],
   "execution_count": 3
  },
  {
   "metadata": {
    "ExecuteTime": {
     "end_time": "2024-09-09T07:19:26.739757Z",
     "start_time": "2024-09-09T07:18:39.802470Z"
    }
   },
   "cell_type": "code",
   "source": [
    "if True:\n",
    "    from unsloth import FastLanguageModel\n",
    "\n",
    "    model, tokenizer = FastLanguageModel.from_pretrained(\n",
    "        model_name=\"GraphGen/graph_2b_tokenfix\",\n",
    "        max_seq_length=2048,\n",
    "        dtype=None,\n",
    "        load_in_4bit=True,\n",
    "    )\n",
    "    FastLanguageModel.for_inference(model)  # Enable native 2x faster inference\n",
    "    "
   ],
   "id": "f2959ce081f95e37",
   "outputs": [
    {
     "name": "stdout",
     "output_type": "stream",
     "text": [
      "🦥 Unsloth: Will patch your computer to enable 2x faster free finetuning.\n",
      "==((====))==  Unsloth 2024.8: Fast Gemma2 patching. Transformers = 4.44.2.\n",
      "   \\\\   /|    GPU: NVIDIA GeForce RTX 2060. Max memory: 6.0 GB. Platform = Linux.\n",
      "O^O/ \\_/ \\    Pytorch: 2.4.0+cu121. CUDA = 7.5. CUDA Toolkit = 12.1.\n",
      "\\        /    Bfloat16 = FALSE. FA [Xformers = 0.0.27.post2. FA2 = False]\n",
      " \"-____-\"     Free Apache license: http://github.com/unslothai/unsloth\n"
     ]
    },
    {
     "name": "stderr",
     "output_type": "stream",
     "text": [
      "Unsloth 2024.8 patched 26 layers with 26 QKV layers, 26 O layers and 26 MLP layers.\n"
     ]
    }
   ],
   "execution_count": 4
  },
  {
   "metadata": {
    "ExecuteTime": {
     "end_time": "2024-09-09T07:19:26.817654Z",
     "start_time": "2024-09-09T07:19:26.812351Z"
    }
   },
   "cell_type": "code",
   "source": "tokenizer.decode(102)",
   "id": "e57a0f394f1d764",
   "outputs": [
    {
     "data": {
      "text/plain": [
       "'<unused95>'"
      ]
     },
     "execution_count": 5,
     "metadata": {},
     "output_type": "execute_result"
    }
   ],
   "execution_count": 5
  },
  {
   "metadata": {
    "ExecuteTime": {
     "end_time": "2024-09-09T07:23:21.237093Z",
     "start_time": "2024-09-09T07:23:21.226200Z"
    }
   },
   "cell_type": "code",
   "source": [
    "# Custom Logit Processors\n",
    "import random\n",
    "import torch\n",
    "from transformers.generation import LogitsProcessor, LogitsProcessorList\n",
    "\n",
    "def disable_tokens(scores, banned_tokens):\n",
    "    for token in banned_tokens:\n",
    "        scores[0][token] = -math.inf\n",
    "    return scores\n",
    "\n",
    "\n",
    "def find_largest_index(lst: list, value):\n",
    "    try:\n",
    "        return len(lst) - 1 - lst[::-1].index(value)\n",
    "    except:\n",
    "        return -1 # not found\n",
    "\n",
    "# Enforces <T><R><S> Structure\n",
    "class TRSLogits(LogitsProcessor):\n",
    "    def __init__(self, _tokenizer):\n",
    "        self.tokenizer = _tokenizer\n",
    "        self.t_token = _tokenizer(\"<unused0>\")['input_ids'][1] # <T>\n",
    "        self.r_token = _tokenizer(\"<unused1>\")['input_ids'][1] # <R>\n",
    "        self.s_token = _tokenizer(\"<unused2>\")['input_ids'][1] # <S>\n",
    "        \n",
    "        self.eos_token = _tokenizer(\"<eos>\")['input_ids'][1] # <EOS>\n",
    "        \n",
    "        # self.response_template_token = _tokenizer(response_template)['input_ids'][1]\n",
    "    \n",
    "    def __call__(self, input_ids, scores) -> torch.FloatTensor:\n",
    "        # get the closest token of interest\n",
    "        ids_list = input_ids.tolist()[0]\n",
    "        # print(ids_list)\n",
    "        \n",
    "        t_near_pos = find_largest_index(ids_list, self.t_token)\n",
    "        r_near_pos = find_largest_index(ids_list, self.r_token)\n",
    "        s_near_pos = find_largest_index(ids_list, self.s_token)\n",
    "        \n",
    "        near_pos = max(t_near_pos, r_near_pos, s_near_pos)\n",
    "        \n",
    "        if near_pos == len(ids_list) - 1:\n",
    "            # Just generated start token\n",
    "            # Enforce content generation (no special tokens!)\n",
    "            banned_tokens = [self.t_token, self.r_token, self.s_token, self.eos_token] # No special tokens allowed\n",
    "            # print(f\"#BAN at [{self.tokenizer.batch_decode(input_ids)[0][-10:]}]\")\n",
    "        # New special token enforce\n",
    "        elif near_pos == t_near_pos:\n",
    "            # T - setup\n",
    "            banned_tokens = [self.t_token,               self.s_token, self.eos_token] # R allowed\n",
    "            # print(f\"#T at [{self.tokenizer.batch_decode(input_ids)[0][-10:]}]\")\n",
    "        elif near_pos == r_near_pos:\n",
    "            # R - setup\n",
    "            banned_tokens = [self.t_token, self.r_token,               self.eos_token] # S allowed\n",
    "            # print(f\"#R at [{self.tokenizer.batch_decode(input_ids)[0][-10:]}]\")\n",
    "        elif near_pos == s_near_pos:\n",
    "            # S - setupz\n",
    "            banned_tokens = [              self.r_token, self.s_token,               ] # T, end allowed\n",
    "            # print(f\"#S at [{self.tokenizer.batch_decode(input_ids)[0][-10:]}]\")\n",
    "        else:\n",
    "            print(\"jjifdoasjddio not supposed to happen arghh!\")\n",
    "            raise Exception\n",
    "               \n",
    "        disabled_scores = disable_tokens(scores, banned_tokens)\n",
    "        # print(input_ids)\n",
    "        # print(f\"{scores} -> {disabled_scores}\")\n",
    "        return disabled_scores\n",
    "    "
   ],
   "id": "853cd3dbd698ac69",
   "outputs": [],
   "execution_count": 10
  },
  {
   "cell_type": "code",
   "id": "initial_id",
   "metadata": {
    "collapsed": true,
    "ExecuteTime": {
     "end_time": "2024-09-09T07:23:21.826142Z",
     "start_time": "2024-09-09T07:23:21.813947Z"
    }
   },
   "source": [
    "from dataclasses import dataclass\n",
    "import re\n",
    "\n",
    "# alpaca_prompt = You MUST copy from above!\n",
    "\n",
    "prompt = \"\"\"Below is an instruction that describes a task, paired with an input that provides further context. Write a response that appropriately completes the request.\n",
    "### Instruction:\n",
    "Extract the most confident information in the sentence below as much as possible, and express the relationships in RDF Triples that complement the existing RDF triples. Do not use information from common sense.\n",
    "### Existing RDF triples:\n",
    "{}\n",
    "### Input:\n",
    "{}\n",
    "### Response:\n",
    "<unused0>{}\"\"\" # start with <T>\n",
    "\n",
    "\n",
    "@dataclass\n",
    "class Triple:\n",
    "    subject: str\n",
    "    predicate: str\n",
    "    object: str\n",
    "    id: int\n",
    "\n",
    "    def __eq__(self, other: \"Triple\"):  # Python type hinting sucks\n",
    "        return self.subject == other.subject and self.predicate == other.predicate and self.object == other.object\n",
    "\n",
    "    def __str__(self):\n",
    "        return f\"<unused0>{self.subject}<unused1>{self.predicate}<unused2>{self.object}\"\n",
    "\n",
    "\n",
    "def generate_rdf(context: list[Triple], text: str, id: int) -> list[Triple]:\n",
    "    # context pre-processing\n",
    "    if len(context) == 0:\n",
    "        context_str = \"None\"\n",
    "    else:\n",
    "        context_str = \" \".join(str(con) for con in random.sample(context, min(len(context), 10)))\n",
    "\n",
    "    inputs = tokenizer(\n",
    "        [\n",
    "            prompt.format(\n",
    "                context_str,\n",
    "                text,  # input\n",
    "                \"\",  # output - leave this blank for generation!\n",
    "            )\n",
    "        ], return_tensors=\"pt\").to(\"cuda\")\n",
    "    print(f\"Processing \\\"{text[:50]}...{text[-10:]}\\\"\")\n",
    "    \n",
    "    outputs = model.generate(\n",
    "        **inputs, \n",
    "        \n",
    "        # temperature = 0.9,\n",
    "        # max_new_tokens = max(len(text) + 100, 700), \n",
    "        \n",
    "        logits_processor = LogitsProcessorList([TRSLogits(tokenizer)]),\n",
    "        # num_beams = 3,\n",
    "        # early_stopping = True,\n",
    "        \n",
    "        use_cache=True, # Use cache = false is broken haha, but beam search is broken when not using cache hahahah ;-;\n",
    "    )\n",
    "    \n",
    "    response = tokenizer.batch_decode(outputs)\n",
    "    \n",
    "    response = response[0].replace('\\n', '')\n",
    "    rdf_string = response.split(\"### Response:\")[1]\n",
    "    \n",
    "    print(f\"Done!\")\n",
    "    # print(rdf_string)\n",
    "    # convert rdf string to list\n",
    "    rdfs = []\n",
    "    rdf_string = rdf_string.removeprefix(\"<bos>\").removesuffix(\"<eos>\")\n",
    "    for _triple in rdf_string.split(\"<unused0>\"):\n",
    "        print(_triple)\n",
    "        try:\n",
    "            if _triple == \"\":\n",
    "                continue\n",
    "            split = re.split(\"<unused1>|<unused2>\", _triple)\n",
    "            subject = split[0]\n",
    "            predicate = split[1]\n",
    "            _object = split[2]\n",
    "\n",
    "            new_triple = Triple(subject, predicate, _object, id)\n",
    "\n",
    "            if not (any(con == new_triple for con in context) or any(con == new_triple for con in rdfs)):\n",
    "                rdfs.append(new_triple)\n",
    "\n",
    "        except Exception as e:\n",
    "            print(f\"NON-STANDARD TRIPLE {_triple} ({e})\")\n",
    "            continue\n",
    "    print(\"DONE\")\n",
    "    return rdfs\n"
   ],
   "outputs": [],
   "execution_count": 11
  },
  {
   "metadata": {
    "ExecuteTime": {
     "end_time": "2024-09-09T07:24:38.707052Z",
     "start_time": "2024-09-09T07:23:22.586721Z"
    }
   },
   "cell_type": "code",
   "source": [
    "triples = []\n",
    "for idx, m_sentence in enumerate(merged_sentences):\n",
    "    print(f\"PROCESSING ({idx + 1}/{len(merged_sentences)})\")\n",
    "    triples += generate_rdf(triples, m_sentence, idx)\n",
    "    # print(triples)\n",
    "\n",
    "triples"
   ],
   "id": "115f89a6596d9985",
   "outputs": [
    {
     "name": "stdout",
     "output_type": "stream",
     "text": [
      "PROCESSING (1/17)\n",
      "Processing \"Typhoon Yagi, known in the Philippines as Severe T...on season.\"\n",
      "Done!\n",
      "\n",
      "Typhoon_Yagi<unused1>country<unused2>Philippines\n",
      "Typhoon_Yagi<unused1>stormCategory<unused2>Category_5_typhoon\n",
      "Typhoon_Yagi<unused1>stormName<unused2>\"Severe_Tropical_Storm_Enteng\"\n",
      "Typhoon_Yagi<unused1>stormName<unused2>\"Typhoon_Yagi\"\n",
      "Typhoon_Yagi<unused1>stormSeason<unused2>2024\n",
      "Typhoon_Yagi<unused1>stormIntensity<unused2>\"Violent_typhoon\"\n",
      "DONE\n",
      "PROCESSING (2/17)\n",
      "Processing \"Yagi, which means goat or the constellation of Cap...on season.\"\n",
      "Done!\n",
      "\n",
      "Typhoon_Yagi<unused1>stormIntensity<unused2>\"Violent_typhoon\"\n",
      "Typhoon_Yagi<unused1>stormCategory<unused2>Category_5_typhoon\n",
      "Typhoon_Yagi<unused1>country<unused2>Philippines\n",
      "Typhoon_Yagi<unused1>stormName<unused2>\"Severe_Tropical_Storm_Enteng\"\n",
      "DONE\n",
      "PROCESSING (3/17)\n",
      "Processing \"It was one of the most intense typhoons ever to st...i in 2021.\"\n",
      "Done!\n",
      "\n",
      "Typhoon_Yagi<unused1>stormIntensity<unused2>\"Violent_typhoon\"\n",
      "Typhoon_Yagi<unused1>stormCategory<unused2>Category_5_typhoon\n",
      "Typhoon_Yagi<unused1>stormSeason<unused2>2024\n",
      "Typhoon_Yagi<unused1>country<unused2>Philippines\n",
      "Typhoon_Yagi<unused1>stormName<unused2>\"Typhoon_Yagi\"\n",
      "Typhoon_Yagi<unused1>stormName<unused2>\"Severe_Tropical_Storm_Enteng\"\n",
      "DONE\n",
      "PROCESSING (4/17)\n",
      "Processing \"It is one of only four Category 5 super typhoons r...i in 2021.\"\n",
      "Done!\n",
      "\n",
      "Typhoon_Yagi<unused1>stormIntensity<unused2>\"Category_5_typhoon\"\n",
      "DONE\n",
      "PROCESSING (5/17)\n",
      "Processing \"Yagi originated from a low-pressure area that form...ncy (JMA).\"\n",
      "Done!\n",
      "\n",
      "Typhoon_Yagi<unused1>origin<unused2>\"Low-pressure_area_in_the_Philippines\"\n",
      "DONE\n",
      "PROCESSING (6/17)\n",
      "Processing \"On September 1, the system was classified as a tro...ncy (JMA).\"\n",
      "Done!\n",
      "\n",
      "Typhoon_Yagi<unused1>origin<unused2>\"Low-pressure_area_in_the_Philippines\"\n",
      "DONE\n",
      "PROCESSING (7/17)\n",
      "Processing \"After making landfall over Casiguran, Aurora in th...and south.\"\n",
      "Done!\n",
      "\n",
      "Typhoon_Yagi<unused1>stormIntensity<unused2>\"Violent_typhoon\"\n",
      "Typhoon_Yagi<unused1>stormOrigin<unused2>\"Lingayen_Gulf\"\n",
      "DONE\n",
      "PROCESSING (8/17)\n",
      "Processing \"It later emerged over the South China Sea and bega...and south.\"\n",
      "Done!\n",
      "\n",
      "Typhoon_Yagi<unused1>origin<unused2>\"Lingayen_Gulf\"\n",
      "DONE\n",
      "PROCESSING (9/17)\n",
      "Processing \"On September 5, the JMA reported that the storm re...(160 mph).\"\n",
      "Done!\n",
      "\n",
      "Typhoon_Yagi<unused1>stormIntensity<unused2>\"Category_5_typhoon\"\n",
      "Typhoon_Yagi<unused1>stormIntensity<unused2>\"Violent_typhoon\"\n",
      "Typhoon_Yagi<unused1>stormIntensity<unused2>\"Category_5_typhoon\"\n",
      "Typhoon_Yagi<unused1>stormIntensity<unused2>\"Category_5_typhoon\"\n",
      "Typhoon_Yagi<unused1>stormIntensity<unused2>\"Category_5_typhoon\"\n",
      "DONE\n",
      "PROCESSING (10/17)\n",
      "Processing \"It subsequently peaked as a Category 5-equivalent ...(160 mph).\"\n",
      "Done!\n",
      "\n",
      "Typhoon_Yagi<unused1>stormIntensity<unused2>\"Category_5_typhoon\"\n",
      "DONE\n",
      "PROCESSING (11/17)\n",
      "Processing \"After weakening during an eyewall replacement cycl...of Tonkin.\"\n",
      "Done!\n",
      "\n",
      "Typhoon_Yagi<unused1>stormOrigin<unused2>\"Lingayen_Gulf\"\n",
      "Typhoon_Yagi<unused1>stormCategory<unused2>Category_5_typhoon\n",
      "Typhoon_Yagi<unused1>stormIntensity<unused2>\"Category_5_typhoon\"\n",
      "Typhoon_Yagi<unused1>stormOrigin<unused2>\"Lingayen_Gulf\"\n",
      "Typhoon_Yagi<unused1>stormCategory<unused2>\"Category_5_typhoon\"\n",
      "Typhoon_Yagi<unused1>stormIntensity<unused2>\"Category_5_typhoon\"\n",
      "Typhoon_Yagi<unused1>stormOrigin<unused2>\"Lingayen_Gulf\"\n",
      "DONE\n",
      "PROCESSING (12/17)\n",
      "Processing \"Yagi passed over northern Hainan and directly over...of Tonkin.\"\n",
      "Done!\n",
      "\n",
      "Typhoon_Yagi<unused1>stormOrigin<unused2>\"Xuwen_County\"\n",
      "DONE\n",
      "PROCESSING (13/17)\n",
      "Processing \"It made landfall over Haiphong and Quang Ninh, Vie...pproached.\"\n",
      "Done!\n",
      "\n",
      "Typhoon_Yagi<unused1>stormCategory<unused2>\"Gale_or_Storm_No._8\"\n",
      "Typhoon_Yagi<unused1>stormSeason<unused2>2024\n",
      "Typhoon_Yagi<unused1>stormOrigin<unused2>\"Hong_Kong\"\n",
      "DONE\n",
      "PROCESSING (14/17)\n",
      "Processing \"8 for Hong Kong as Typhoon Yagi approached....pproached.\"\n",
      "Done!\n",
      "\n",
      "Typhoon_Yagi<unused1>stormIntensity<unused2>\"Category_5_typhoon\"\n",
      "Typhoon_Yagi<unused1>stormOrigin<unused2>\"Lingayen_Gulf\"\n",
      "DONE\n",
      "PROCESSING (15/17)\n",
      "Processing \"Power outages and downed trees were reported in Ha...ous areas.\"\n",
      "Done!\n",
      "\n",
      "Typhoon_Yagi<unused1>stormCategory<unused2>\"Gale_or_Storm_No._8\"\n",
      "Typhoon_Yagi<unused1>stormSeason<unused2>2024\n",
      "Typhoon_Yagi<unused1>stormOrigin<unused2>\"Hong_Kong\"\n",
      "Typhoon_Yagi<unused1>stormName<unused2>\"Typhoon_Yagi\"\n",
      "Typhoon_Yagi<unused1>stormOrigin<unused2>\"Xuwen_County\"\n",
      "Typhoon_Yagi<unused1>stormOrigin<unused2>\"Lingayen_Gulf\"\n",
      "Typhoon_Yagi<unused1>country<unused2>Vietnam\n",
      "DONE\n",
      "PROCESSING (16/17)\n",
      "Processing \"In Vietnam, several structures including electric ...ous areas.\"\n",
      "Done!\n",
      "\n",
      "Typhoon_Yagi<unused1>damage<unused2>\"Power_outage\"\n",
      "DONE\n",
      "PROCESSING (17/17)\n",
      "Processing \"In total, the typhoon caused at least 48 deaths, 3...countries.\"\n",
      "Done!\n",
      "\n",
      "Typhoon_Yagi<unused1>deathCount<unused2>48\n",
      "Typhoon_Yagi<unused1>damage<unused2>US$9.29B\n",
      "DONE\n"
     ]
    },
    {
     "data": {
      "text/plain": [
       "[Triple(subject='Typhoon_Yagi', predicate='country', object='Philippines', id=0),\n",
       " Triple(subject='Typhoon_Yagi', predicate='stormCategory', object='Category_5_typhoon', id=0),\n",
       " Triple(subject='Typhoon_Yagi', predicate='stormName', object='\"Severe_Tropical_Storm_Enteng\"', id=0),\n",
       " Triple(subject='Typhoon_Yagi', predicate='stormName', object='\"Typhoon_Yagi\"', id=0),\n",
       " Triple(subject='Typhoon_Yagi', predicate='stormSeason', object='2024', id=0),\n",
       " Triple(subject='Typhoon_Yagi', predicate='stormIntensity', object='\"Violent_typhoon\"', id=0),\n",
       " Triple(subject='Typhoon_Yagi', predicate='stormIntensity', object='\"Category_5_typhoon\"', id=3),\n",
       " Triple(subject='Typhoon_Yagi', predicate='origin', object='\"Low-pressure_area_in_the_Philippines\"', id=4),\n",
       " Triple(subject='Typhoon_Yagi', predicate='stormOrigin', object='\"Lingayen_Gulf\"', id=6),\n",
       " Triple(subject='Typhoon_Yagi', predicate='origin', object='\"Lingayen_Gulf\"', id=7),\n",
       " Triple(subject='Typhoon_Yagi', predicate='stormCategory', object='\"Category_5_typhoon\"', id=10),\n",
       " Triple(subject='Typhoon_Yagi', predicate='stormOrigin', object='\"Xuwen_County\"', id=11),\n",
       " Triple(subject='Typhoon_Yagi', predicate='stormCategory', object='\"Gale_or_Storm_No._8\"', id=12),\n",
       " Triple(subject='Typhoon_Yagi', predicate='stormOrigin', object='\"Hong_Kong\"', id=12),\n",
       " Triple(subject='Typhoon_Yagi', predicate='country', object='Vietnam', id=14),\n",
       " Triple(subject='Typhoon_Yagi', predicate='damage', object='\"Power_outage\"', id=15),\n",
       " Triple(subject='Typhoon_Yagi', predicate='deathCount', object='48', id=16),\n",
       " Triple(subject='Typhoon_Yagi', predicate='damage', object='US$9.29B', id=16)]"
      ]
     },
     "execution_count": 12,
     "metadata": {},
     "output_type": "execute_result"
    }
   ],
   "execution_count": 12
  },
  {
   "metadata": {
    "ExecuteTime": {
     "end_time": "2024-09-09T07:24:48.209544Z",
     "start_time": "2024-09-09T07:24:47.562302Z"
    }
   },
   "cell_type": "code",
   "source": [
    "from pyvis.network import Network\n",
    "\n",
    "net = Network(bgcolor=\"#222222\", font_color=\"white\", notebook=True, directed=True)\n",
    "\n",
    "\n",
    "# Parse rdf_strings\n",
    "\n",
    "def add_triples(rdf: Triple, color: str):\n",
    "    net.add_node(rdf.subject, color=color)\n",
    "    net.add_node(rdf.object, color=color)\n",
    "    # if not any(edge['from'] == rdf.subject and edge['to'] == rdf.object and edge['title'] == rdf.predicate for edge in net.edges): # should be deprecated later\n",
    "    net.add_edge(rdf.subject, rdf.object, title=rdf.predicate, color=color)\n",
    "\n",
    "\n",
    "import random\n",
    "\n",
    "r = lambda: random.randint(0, 255)\n",
    "net.toggle_physics(True)\n",
    "\n",
    "colors = {}\n",
    "\n",
    "for idx, triple in enumerate(triples):\n",
    "    if triple.id in colors:\n",
    "        color = colors[triple.id]\n",
    "    else:\n",
    "        color = '#%02X%02X%02X' % (r(), r(), r())\n",
    "        colors[triple.id] = color\n",
    "\n",
    "    add_triples(triple, color)\n",
    "    # net.show(f\"{idx}.html\", notebook=False)\n",
    "\n",
    "print(net.nodes)"
   ],
   "id": "d7b4aa95ee3c6d1e",
   "outputs": [
    {
     "name": "stdout",
     "output_type": "stream",
     "text": [
      "Warning: When  cdn_resources is 'local' jupyter notebook has issues displaying graphics on chrome/safari. Use cdn_resources='in_line' or cdn_resources='remote' if you have issues viewing graphics in a notebook.\n",
      "[{'color': '#29E567', 'id': 'Typhoon_Yagi', 'label': 'Typhoon_Yagi', 'shape': 'dot', 'font': {'color': 'white'}}, {'color': '#29E567', 'id': 'Philippines', 'label': 'Philippines', 'shape': 'dot', 'font': {'color': 'white'}}, {'color': '#29E567', 'id': 'Category_5_typhoon', 'label': 'Category_5_typhoon', 'shape': 'dot', 'font': {'color': 'white'}}, {'color': '#29E567', 'id': '\"Severe_Tropical_Storm_Enteng\"', 'label': '\"Severe_Tropical_Storm_Enteng\"', 'shape': 'dot', 'font': {'color': 'white'}}, {'color': '#29E567', 'id': '\"Typhoon_Yagi\"', 'label': '\"Typhoon_Yagi\"', 'shape': 'dot', 'font': {'color': 'white'}}, {'color': '#29E567', 'id': '2024', 'label': '2024', 'shape': 'dot', 'font': {'color': 'white'}}, {'color': '#29E567', 'id': '\"Violent_typhoon\"', 'label': '\"Violent_typhoon\"', 'shape': 'dot', 'font': {'color': 'white'}}, {'color': '#C023FB', 'id': '\"Category_5_typhoon\"', 'label': '\"Category_5_typhoon\"', 'shape': 'dot', 'font': {'color': 'white'}}, {'color': '#351533', 'id': '\"Low-pressure_area_in_the_Philippines\"', 'label': '\"Low-pressure_area_in_the_Philippines\"', 'shape': 'dot', 'font': {'color': 'white'}}, {'color': '#571A64', 'id': '\"Lingayen_Gulf\"', 'label': '\"Lingayen_Gulf\"', 'shape': 'dot', 'font': {'color': 'white'}}, {'color': '#42404C', 'id': '\"Xuwen_County\"', 'label': '\"Xuwen_County\"', 'shape': 'dot', 'font': {'color': 'white'}}, {'color': '#738F03', 'id': '\"Gale_or_Storm_No._8\"', 'label': '\"Gale_or_Storm_No._8\"', 'shape': 'dot', 'font': {'color': 'white'}}, {'color': '#738F03', 'id': '\"Hong_Kong\"', 'label': '\"Hong_Kong\"', 'shape': 'dot', 'font': {'color': 'white'}}, {'color': '#71252F', 'id': 'Vietnam', 'label': 'Vietnam', 'shape': 'dot', 'font': {'color': 'white'}}, {'color': '#80688E', 'id': '\"Power_outage\"', 'label': '\"Power_outage\"', 'shape': 'dot', 'font': {'color': 'white'}}, {'color': '#0B25C4', 'id': '48', 'label': '48', 'shape': 'dot', 'font': {'color': 'white'}}, {'color': '#0B25C4', 'id': 'US$9.29B', 'label': 'US$9.29B', 'shape': 'dot', 'font': {'color': 'white'}}]\n"
     ]
    }
   ],
   "execution_count": 13
  },
  {
   "metadata": {
    "ExecuteTime": {
     "end_time": "2024-09-09T07:24:48.520802Z",
     "start_time": "2024-09-09T07:24:48.504600Z"
    }
   },
   "cell_type": "code",
   "source": [
    "net.toggle_physics(True)\n",
    "#save the HTML instead of show the html\n",
    "\n",
    "# from IPython.core.display import display\n",
    "net.show(\"network.html\")"
   ],
   "id": "fcead4539ba47f06",
   "outputs": [
    {
     "name": "stdout",
     "output_type": "stream",
     "text": [
      "network.html\n"
     ]
    },
    {
     "data": {
      "text/plain": [
       "<IPython.lib.display.IFrame at 0x7f04bf6d43d0>"
      ],
      "text/html": [
       "\n",
       "        <iframe\n",
       "            width=\"100%\"\n",
       "            height=\"600px\"\n",
       "            src=\"network.html\"\n",
       "            frameborder=\"0\"\n",
       "            allowfullscreen\n",
       "            \n",
       "        ></iframe>\n",
       "        "
      ]
     },
     "execution_count": 14,
     "metadata": {},
     "output_type": "execute_result"
    }
   ],
   "execution_count": 14
  },
  {
   "metadata": {},
   "cell_type": "markdown",
   "source": "# Dev: check similarity",
   "id": "65057ccbbe0d65f"
  },
  {
   "metadata": {
    "ExecuteTime": {
     "end_time": "2024-09-07T13:51:35.174409Z",
     "start_time": "2024-09-07T13:51:35.166749Z"
    }
   },
   "cell_type": "code",
   "source": [
    "node_names = [n[\"id\"] for n in net.nodes]\n",
    "node_names"
   ],
   "id": "977d29155fc4b16c",
   "outputs": [
    {
     "data": {
      "text/plain": [
       "['Butterflies',\n",
       " 'Lepidoptera',\n",
       " 'Insecta',\n",
       " 'Rhopalocera',\n",
       " 'Large_wings',\n",
       " 'Papilionoidea',\n",
       " 'Hedyloidea',\n",
       " 'Americas',\n",
       " 'Egg',\n",
       " 'Holometabola',\n",
       " 'Caterpillar',\n",
       " 'Paleozoic',\n",
       " 'Cretaceous_period',\n",
       " 'Winged_insect',\n",
       " 'Food_plant',\n",
       " 'Pupation',\n",
       " '\"rapidly\"',\n",
       " 'Adult',\n",
       " 'Adult_insect',\n",
       " 'Wings',\n",
       " 'Climbing',\n",
       " 'Complete_metamorphosis',\n",
       " 'Tropical_rainforest',\n",
       " '\"Several generations in a year, or a single generation, depending on the location\"',\n",
       " '\"Several years in cold locations\"',\n",
       " 'Aposematism',\n",
       " 'Mimicry',\n",
       " 'True',\n",
       " 'None',\n",
       " '\"None\"',\n",
       " 'Parasitoid',\n",
       " 'Wasp',\n",
       " 'Flies',\n",
       " 'Other_invertebrates',\n",
       " 'Protozoan',\n",
       " 'Domestic_crop',\n",
       " 'Other_insect',\n",
       " 'Tree',\n",
       " 'Plant',\n",
       " 'Crop',\n",
       " 'Coleoptera',\n",
       " 'Arthropoda',\n",
       " 'Diptera',\n",
       " 'Hymenoptera',\n",
       " 'Diplura',\n",
       " 'Pollination',\n",
       " 'Coleoptera ',\n",
       " 'Ant',\n",
       " 'Hymenoptera ',\n",
       " 'Diplura ',\n",
       " 'Diptera ',\n",
       " 'Lepidoptera ',\n",
       " 'Insecta ',\n",
       " 'Arthropoda ',\n",
       " 'Winged_insect ',\n",
       " 'Papilionoidea ',\n",
       " 'Rhopalocera ',\n",
       " 'Paleozoic ',\n",
       " 'Cretaceous_period ',\n",
       " 'Holometabola ',\n",
       " 'Diptera <']"
      ]
     },
     "execution_count": 14,
     "metadata": {},
     "output_type": "execute_result"
    }
   ],
   "execution_count": 14
  },
  {
   "metadata": {
    "ExecuteTime": {
     "end_time": "2024-09-07T13:59:43.155698Z",
     "start_time": "2024-09-07T13:59:43.130025Z"
    }
   },
   "cell_type": "code",
   "source": [
    "# mydifflib.py\n",
    "from difflib import SequenceMatcher\n",
    "from heapq import nlargest as _nlargest\n",
    "\n",
    "def get_close_matches_indexes(word, possibilities, n=3, cutoff=0.6):\n",
    "    \"\"\"Use SequenceMatcher to return a list of the indexes of the best \n",
    "    \"good enough\" matches. word is a sequence for which close matches \n",
    "    are desired (typically a string).\n",
    "    possibilities is a list of sequences against which to match word\n",
    "    (typically a list of strings).\n",
    "    Optional arg n (default 3) is the maximum number of close matches to\n",
    "    return.  n must be > 0.\n",
    "    Optional arg cutoff (default 0.6) is a float in [0, 1].  Possibilities\n",
    "    that don't score at least that similar to word are ignored.\n",
    "    \"\"\"\n",
    "\n",
    "    if not n >  0:\n",
    "        raise ValueError(\"n must be > 0: %r\" % (n,))\n",
    "    if not 0.0 <= cutoff <= 1.0:\n",
    "        raise ValueError(\"cutoff must be in [0.0, 1.0]: %r\" % (cutoff,))\n",
    "    result = []\n",
    "    s = SequenceMatcher()\n",
    "    s.set_seq2(word)\n",
    "    for idx, x in enumerate(possibilities):\n",
    "        s.set_seq1(x)\n",
    "        if s.real_quick_ratio() >= cutoff and \\\n",
    "           s.quick_ratio() >= cutoff and \\\n",
    "           s.ratio() >= cutoff:\n",
    "            result.append((s.ratio(), idx))\n",
    "\n",
    "    # Move the best scorers to head of list\n",
    "    result = _nlargest(n, result)\n",
    "\n",
    "    # Strip scores for the best n matches\n",
    "    return [x for score, x in result]\n",
    "\n",
    "for idx, name in enumerate(node_names):\n",
    "    # nodes_other = [x for x in node_names if x != name]\n",
    "    indexes = get_close_matches_indexes(name, node_names)\n",
    "    indexes.remove(idx)\n",
    "    if indexes == []:\n",
    "        continue\n",
    "    print(f\"{name}({idx}) | {[f'{node_names[i]}({i})' for i in indexes]}\")"
   ],
   "id": "3b66457f4b0f9f76",
   "outputs": [
    {
     "name": "stdout",
     "output_type": "stream",
     "text": [
      "Lepidoptera(1) | ['Lepidoptera (51)', 'Diptera(42)']\n",
      "Insecta(2) | ['Insecta (52)']\n",
      "Rhopalocera(3) | ['Rhopalocera (56)']\n",
      "Papilionoidea(5) | ['Papilionoidea (55)']\n",
      "Holometabola(9) | ['Holometabola (59)']\n",
      "Paleozoic(11) | ['Paleozoic (57)']\n",
      "Cretaceous_period(12) | ['Cretaceous_period (58)']\n",
      "Winged_insect(13) | ['Winged_insect (54)', 'Other_insect(36)']\n",
      "Pupation(15) | ['Pollination(45)']\n",
      "Adult_insect(18) | ['Other_insect(36)', 'Winged_insect(13)']\n",
      "True(27) | ['Tree(37)']\n",
      "None(28) | ['\"None\"(29)']\n",
      "\"None\"(29) | ['None(28)']\n",
      "Other_insect(36) | ['Adult_insect(18)', 'Other_invertebrates(33)']\n",
      "Tree(37) | ['True(27)']\n",
      "Coleoptera(40) | ['Coleoptera (46)', 'Hymenoptera(43)']\n",
      "Arthropoda(41) | ['Arthropoda (53)']\n",
      "Diptera(42) | ['Diptera (50)', 'Diptera <(60)']\n",
      "Hymenoptera(43) | ['Hymenoptera (48)', 'Coleoptera(40)']\n",
      "Diplura(44) | ['Diplura (49)', 'Diptera(42)']\n",
      "Pollination(45) | ['Pupation(15)']\n",
      "Coleoptera (46) | ['Coleoptera(40)', 'Lepidoptera (51)']\n",
      "Hymenoptera (48) | ['Hymenoptera(43)', 'Coleoptera (46)']\n",
      "Diplura (49) | ['Diplura(44)', 'Diptera (50)']\n",
      "Diptera (50) | ['Diptera <(60)', 'Diptera(42)']\n",
      "Lepidoptera (51) | ['Lepidoptera(1)', 'Diptera (50)']\n",
      "Insecta (52) | ['Insecta(2)']\n",
      "Arthropoda (53) | ['Arthropoda(41)']\n",
      "Winged_insect (54) | ['Winged_insect(13)', 'Other_insect(36)']\n",
      "Papilionoidea (55) | ['Papilionoidea(5)']\n",
      "Rhopalocera (56) | ['Rhopalocera(3)']\n",
      "Paleozoic (57) | ['Paleozoic(11)']\n",
      "Cretaceous_period (58) | ['Cretaceous_period(12)']\n",
      "Holometabola (59) | ['Holometabola(9)']\n",
      "Diptera <(60) | ['Diptera (50)', 'Diptera(42)']\n"
     ]
    }
   ],
   "execution_count": 20
  },
  {
   "metadata": {},
   "cell_type": "code",
   "outputs": [],
   "execution_count": null,
   "source": "",
   "id": "bc0b3abac0558b89"
  }
 ],
 "metadata": {
  "kernelspec": {
   "display_name": "Python 3",
   "language": "python",
   "name": "python3"
  },
  "language_info": {
   "codemirror_mode": {
    "name": "ipython",
    "version": 2
   },
   "file_extension": ".py",
   "mimetype": "text/x-python",
   "name": "python",
   "nbconvert_exporter": "python",
   "pygments_lexer": "ipython2",
   "version": "2.7.6"
  }
 },
 "nbformat": 4,
 "nbformat_minor": 5
}
