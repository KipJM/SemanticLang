{
 "cells": [
  {
   "metadata": {
    "ExecuteTime": {
     "end_time": "2024-09-13T04:20:48.399473Z",
     "start_time": "2024-09-13T04:20:40.879830Z"
    }
   },
   "cell_type": "code",
   "source": [
    "from GraphGen.graph_gen_integration import Triple\n",
    "import re\n",
    "\n",
    "# create some rdfs\n",
    "\n",
    "data = \"<T>Mexico<R>currency<S>Mexican_peso<T>Mexico<R>demonym<S>Mexicans<T>Bionico<R>course<S>Dessert<T>Bionico<R>region<S>Guadalajara<T>Dessert<R>dishVariation<S>Sandesh_(confectionery)<T>Bionico<R>ingredient<S>Condensed_milk<T>Bionico<R>country<S>Mexico\"\n",
    "\n",
    "triples = []\n",
    "for _triple in data.split(\"<T>\"):\n",
    "        print(_triple)\n",
    "        try:\n",
    "            if _triple == \"\":\n",
    "                continue\n",
    "            split = re.split(\"<R>|<S>\", _triple)\n",
    "            subject = split[0]\n",
    "            predicate = split[1]\n",
    "            _object = split[2]\n",
    "\n",
    "            triples.append(Triple(subject, predicate, _object, 0))\n",
    "\n",
    "        except Exception as e:\n",
    "            print(f\"NON-STANDARD TRIPLE {_triple} ({e})\")\n",
    "            continue\n",
    "            \n",
    "triples"
   ],
   "id": "a78d706ef8292c27",
   "outputs": [
    {
     "name": "stdout",
     "output_type": "stream",
     "text": [
      "🦥 Unsloth: Will patch your computer to enable 2x faster free finetuning.\n",
      "\n",
      "Mexico<R>currency<S>Mexican_peso\n",
      "Mexico<R>demonym<S>Mexicans\n",
      "Bionico<R>course<S>Dessert\n",
      "Bionico<R>region<S>Guadalajara\n",
      "Dessert<R>dishVariation<S>Sandesh_(confectionery)\n",
      "Bionico<R>ingredient<S>Condensed_milk\n",
      "Bionico<R>country<S>Mexico\n"
     ]
    },
    {
     "data": {
      "text/plain": [
       "[Triple(subject='Mexico', predicate='currency', object='Mexican_peso', id=0),\n",
       " Triple(subject='Mexico', predicate='demonym', object='Mexicans', id=0),\n",
       " Triple(subject='Bionico', predicate='course', object='Dessert', id=0),\n",
       " Triple(subject='Bionico', predicate='region', object='Guadalajara', id=0),\n",
       " Triple(subject='Dessert', predicate='dishVariation', object='Sandesh_(confectionery)', id=0),\n",
       " Triple(subject='Bionico', predicate='ingredient', object='Condensed_milk', id=0),\n",
       " Triple(subject='Bionico', predicate='country', object='Mexico', id=0)]"
      ]
     },
     "execution_count": 1,
     "metadata": {},
     "output_type": "execute_result"
    }
   ],
   "execution_count": 1
  },
  {
   "cell_type": "code",
   "id": "initial_id",
   "metadata": {
    "collapsed": true,
    "ExecuteTime": {
     "end_time": "2024-09-13T04:21:12.010077Z",
     "start_time": "2024-09-13T04:20:48.734059Z"
    }
   },
   "source": [
    "from query_gen_integration import QueryGen\n",
    "query_gen = QueryGen(triples)"
   ],
   "outputs": [
    {
     "name": "stdout",
     "output_type": "stream",
     "text": [
      "==((====))==  Unsloth 2024.8: Fast Gemma2 patching. Transformers = 4.44.2.\n",
      "   \\\\   /|    GPU: NVIDIA GeForce RTX 2060. Max memory: 6.0 GB. Platform = Linux.\n",
      "O^O/ \\_/ \\    Pytorch: 2.4.0+cu121. CUDA = 7.5. CUDA Toolkit = 12.1.\n",
      "\\        /    Bfloat16 = FALSE. FA [Xformers = 0.0.27.post2. FA2 = False]\n",
      " \"-____-\"     Free Apache license: http://github.com/unslothai/unsloth\n"
     ]
    },
    {
     "name": "stderr",
     "output_type": "stream",
     "text": [
      "Unsloth 2024.8 patched 26 layers with 26 QKV layers, 26 O layers and 26 MLP layers.\n"
     ]
    }
   ],
   "execution_count": 2
  },
  {
   "metadata": {
    "ExecuteTime": {
     "end_time": "2024-09-13T04:26:37.963379Z",
     "start_time": "2024-09-13T04:26:35.887764Z"
    }
   },
   "cell_type": "code",
   "source": [
    "q = query_gen.generate(\"List all ingredients used in desserts in mexico\")\n",
    "q"
   ],
   "id": "cfad6694c659883b",
   "outputs": [
    {
     "data": {
      "text/plain": [
       "'SELECT DISTINCT ?uri WHERE { ?x <country> <Mexico> . ?x <ingredient> ?uri  . }'"
      ]
     },
     "execution_count": 8,
     "metadata": {},
     "output_type": "execute_result"
    }
   ],
   "execution_count": 8
  },
  {
   "metadata": {
    "ExecuteTime": {
     "end_time": "2024-09-13T04:26:39.365256Z",
     "start_time": "2024-09-13T04:26:39.360940Z"
    }
   },
   "cell_type": "code",
   "source": [
    "from rdflib import Graph, Literal, RDF, URIRef\n",
    "g = Graph()\n",
    "for triple in triples:\n",
    "    g.add((URIRef(triple.subject), URIRef(triple.predicate), URIRef(triple.object)))"
   ],
   "id": "8ff862167f17333f",
   "outputs": [],
   "execution_count": 9
  },
  {
   "metadata": {
    "ExecuteTime": {
     "end_time": "2024-09-13T04:40:30.414445Z",
     "start_time": "2024-09-13T04:40:30.404712Z"
    }
   },
   "cell_type": "code",
   "source": [
    "# Apply the query to the graph and iterate through results\n",
    "r_r = None\n",
    "for r in g.query(q):\n",
    "    print(r[0])\n",
    "    r_r = r\n",
    "r_r"
   ],
   "id": "f82ed5d8860085bb",
   "outputs": [
    {
     "name": "stdout",
     "output_type": "stream",
     "text": [
      "Condensed_milk\n"
     ]
    },
    {
     "data": {
      "text/plain": [
       "(rdflib.term.URIRef('Condensed_milk'),)"
      ]
     },
     "execution_count": 28,
     "metadata": {},
     "output_type": "execute_result"
    }
   ],
   "execution_count": 28
  },
  {
   "metadata": {
    "ExecuteTime": {
     "end_time": "2024-09-13T04:41:55.043647Z",
     "start_time": "2024-09-13T04:41:55.037855Z"
    }
   },
   "cell_type": "code",
   "source": "[triple for triple in triples if (triple.subject == str(r_r[0]) or str(triple.object == r_r[0]))]",
   "id": "2138f15571f9219c",
   "outputs": [
    {
     "data": {
      "text/plain": [
       "[Triple(subject='Mexico', predicate='currency', object='Mexican_peso', id=0),\n",
       " Triple(subject='Mexico', predicate='demonym', object='Mexicans', id=0),\n",
       " Triple(subject='Bionico', predicate='course', object='Dessert', id=0),\n",
       " Triple(subject='Bionico', predicate='region', object='Guadalajara', id=0),\n",
       " Triple(subject='Dessert', predicate='dishVariation', object='Sandesh_(confectionery)', id=0),\n",
       " Triple(subject='Bionico', predicate='ingredient', object='Condensed_milk', id=0),\n",
       " Triple(subject='Bionico', predicate='country', object='Mexico', id=0)]"
      ]
     },
     "execution_count": 34,
     "metadata": {},
     "output_type": "execute_result"
    }
   ],
   "execution_count": 34
  },
  {
   "metadata": {
    "ExecuteTime": {
     "end_time": "2024-09-13T04:41:42.944022Z",
     "start_time": "2024-09-13T04:41:42.939426Z"
    }
   },
   "cell_type": "code",
   "source": "",
   "id": "9372fcddde03f7ed",
   "outputs": [
    {
     "name": "stdout",
     "output_type": "stream",
     "text": [
      "<unused0>Bionico<unused1>ingredient<unused2>Condensed_milk\n"
     ]
    }
   ],
   "execution_count": 33
  },
  {
   "metadata": {},
   "cell_type": "code",
   "outputs": [],
   "execution_count": null,
   "source": "",
   "id": "4c0df95f0ae1c71b"
  }
 ],
 "metadata": {
  "kernelspec": {
   "display_name": "Python 3",
   "language": "python",
   "name": "python3"
  },
  "language_info": {
   "codemirror_mode": {
    "name": "ipython",
    "version": 2
   },
   "file_extension": ".py",
   "mimetype": "text/x-python",
   "name": "python",
   "nbconvert_exporter": "python",
   "pygments_lexer": "ipython2",
   "version": "2.7.6"
  }
 },
 "nbformat": 4,
 "nbformat_minor": 5
}
