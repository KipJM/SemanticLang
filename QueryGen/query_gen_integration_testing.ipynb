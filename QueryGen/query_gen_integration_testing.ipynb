{
 "cells": [
  {
   "metadata": {
    "ExecuteTime": {
     "end_time": "2024-09-14T18:01:06.361311Z",
     "start_time": "2024-09-14T18:00:59.110604Z"
    }
   },
   "cell_type": "code",
   "source": [
    "from GraphGen.graph_gen_integration import Triple\n",
    "import re\n",
    "\n",
    "# create some rdfs\n",
    "\n",
    "data = \"<T>Ciudad_Ayala<R>populationMetro<S>1777539<T>Ciudad_Ayala<R>leaderTitle<S>\\\"City Manager\\\"<T>Ciudad_Ayala<R>type<S>City<T>Ciudad_Ayala<R>populationDensity<S>1604.0<T>Ciudad_Ayala<R>governmentType<S>Council-manager_government<T>Ciudad_Ayala<R>utcOffset<S>−6<T>Ciudad_Ayala<R>country<S>Mexico\"\n",
    "\n",
    "triples = []\n",
    "for _triple in data.split(\"<T>\"):\n",
    "        print(_triple)\n",
    "        try:\n",
    "            if _triple == \"\":\n",
    "                continue\n",
    "            split = re.split(\"<R>|<S>\", _triple)\n",
    "            subject = split[0]\n",
    "            predicate = split[1]\n",
    "            _object = split[2]\n",
    "\n",
    "            triples.append(Triple(subject, predicate, _object, 0, 0))\n",
    "\n",
    "        except Exception as e:\n",
    "            print(f\"NON-STANDARD TRIPLE {_triple} ({e})\")\n",
    "            continue\n",
    "            \n",
    "triples"
   ],
   "id": "a78d706ef8292c27",
   "outputs": [
    {
     "name": "stdout",
     "output_type": "stream",
     "text": [
      "🦥 Unsloth: Will patch your computer to enable 2x faster free finetuning.\n",
      "\n",
      "Ciudad_Ayala<R>populationMetro<S>1777539\n",
      "Ciudad_Ayala<R>leaderTitle<S>\"City Manager\"\n",
      "Ciudad_Ayala<R>type<S>City\n",
      "Ciudad_Ayala<R>populationDensity<S>1604.0\n",
      "Ciudad_Ayala<R>governmentType<S>Council-manager_government\n",
      "Ciudad_Ayala<R>utcOffset<S>−6\n",
      "Ciudad_Ayala<R>country<S>Mexico\n"
     ]
    },
    {
     "data": {
      "text/plain": [
       "[Triple(subject='Ciudad_Ayala', predicate='populationMetro', object='1777539', id=0, document_id=0),\n",
       " Triple(subject='Ciudad_Ayala', predicate='leaderTitle', object='\"City Manager\"', id=0, document_id=0),\n",
       " Triple(subject='Ciudad_Ayala', predicate='type', object='City', id=0, document_id=0),\n",
       " Triple(subject='Ciudad_Ayala', predicate='populationDensity', object='1604.0', id=0, document_id=0),\n",
       " Triple(subject='Ciudad_Ayala', predicate='governmentType', object='Council-manager_government', id=0, document_id=0),\n",
       " Triple(subject='Ciudad_Ayala', predicate='utcOffset', object='−6', id=0, document_id=0),\n",
       " Triple(subject='Ciudad_Ayala', predicate='country', object='Mexico', id=0, document_id=0)]"
      ]
     },
     "execution_count": 1,
     "metadata": {},
     "output_type": "execute_result"
    }
   ],
   "execution_count": 1
  },
  {
   "cell_type": "code",
   "id": "initial_id",
   "metadata": {
    "collapsed": true,
    "ExecuteTime": {
     "end_time": "2024-09-14T18:08:26.324592Z",
     "start_time": "2024-09-14T18:08:03.313817Z"
    }
   },
   "source": [
    "from query_gen_integration import QueryGen\n",
    "query_gen = QueryGen(triples)"
   ],
   "outputs": [
    {
     "name": "stdout",
     "output_type": "stream",
     "text": [
      "[Triple(subject='Ciudad_Ayala', predicate='populationMetro', object='1777539', id=0, document_id=0), Triple(subject='Ciudad_Ayala', predicate='leaderTitle', object='\"City Manager\"', id=0, document_id=0), Triple(subject='Ciudad_Ayala', predicate='type', object='City', id=0, document_id=0), Triple(subject='Ciudad_Ayala', predicate='populationDensity', object='1604.0', id=0, document_id=0), Triple(subject='Ciudad_Ayala', predicate='governmentType', object='Council-manager_government', id=0, document_id=0), Triple(subject='Ciudad_Ayala', predicate='utcOffset', object='−6', id=0, document_id=0), Triple(subject='Ciudad_Ayala', predicate='country', object='Mexico', id=0, document_id=0)]\n",
      "==((====))==  Unsloth 2024.8: Fast Gemma2 patching. Transformers = 4.44.2.\n",
      "   \\\\   /|    GPU: NVIDIA GeForce RTX 2060. Max memory: 6.0 GB. Platform = Linux.\n",
      "O^O/ \\_/ \\    Pytorch: 2.4.0+cu121. CUDA = 7.5. CUDA Toolkit = 12.1.\n",
      "\\        /    Bfloat16 = FALSE. FA [Xformers = 0.0.27.post2. FA2 = False]\n",
      " \"-____-\"     Free Apache license: http://github.com/unslothai/unsloth\n"
     ]
    },
    {
     "name": "stderr",
     "output_type": "stream",
     "text": [
      "Unsloth 2024.8 patched 26 layers with 26 QKV layers, 26 O layers and 26 MLP layers.\n"
     ]
    }
   ],
   "execution_count": 2
  },
  {
   "metadata": {
    "ExecuteTime": {
     "end_time": "2024-09-14T06:19:20.307383Z",
     "start_time": "2024-09-14T06:19:20.302167Z"
    }
   },
   "cell_type": "code",
   "source": [
    "# print(triples)\n",
    "query_gen.reset_model(triples)"
   ],
   "id": "490d22b69c48dc07",
   "outputs": [],
   "execution_count": 10
  },
  {
   "metadata": {
    "ExecuteTime": {
     "end_time": "2024-09-14T18:14:43.084004Z",
     "start_time": "2024-09-14T18:14:41.047758Z"
    }
   },
   "cell_type": "code",
   "source": [
    "q = query_gen.generate(\"What's the population of Ciudad?\")\n",
    "print(q)"
   ],
   "id": "cfad6694c659883b",
   "outputs": [
    {
     "data": {
      "text/plain": [
       "'SELECT DISTINCT COUNT(?uri) WHERE { <Ciudad> <population> ?uri  . }'"
      ]
     },
     "execution_count": 6,
     "metadata": {},
     "output_type": "execute_result"
    }
   ],
   "execution_count": 6
  },
  {
   "metadata": {
    "ExecuteTime": {
     "end_time": "2024-09-14T06:23:38.244618Z",
     "start_time": "2024-09-14T06:23:38.176344Z"
    }
   },
   "cell_type": "code",
   "source": [
    "from rdflib import Graph, Literal, RDF, URIRef\n",
    "g = Graph()\n",
    "for triple in triples:\n",
    "    g.add((URIRef(triple.subject), URIRef(triple.predicate), URIRef(triple.object)))"
   ],
   "id": "8ff862167f17333f",
   "outputs": [],
   "execution_count": 16
  },
  {
   "metadata": {
    "ExecuteTime": {
     "end_time": "2024-09-14T06:23:39.003308Z",
     "start_time": "2024-09-14T06:23:38.891997Z"
    }
   },
   "cell_type": "code",
   "source": [
    "# Apply the query to the graph and iterate through results\n",
    "r_r = None\n",
    "for r in g.query(q):\n",
    "    print(r[0])\n",
    "    r_r = r\n",
    "r_r"
   ],
   "id": "f82ed5d8860085bb",
   "outputs": [
    {
     "name": "stdout",
     "output_type": "stream",
     "text": [
      "Bionico\n"
     ]
    },
    {
     "data": {
      "text/plain": [
       "(rdflib.term.URIRef('Bionico'),)"
      ]
     },
     "execution_count": 17,
     "metadata": {},
     "output_type": "execute_result"
    }
   ],
   "execution_count": 17
  },
  {
   "metadata": {
    "ExecuteTime": {
     "end_time": "2024-09-14T06:23:40.318188Z",
     "start_time": "2024-09-14T06:23:40.311034Z"
    }
   },
   "cell_type": "code",
   "source": "[triple for triple in triples if (triple.subject == str(r_r[0]) or str(triple.object == r_r[0]))]",
   "id": "2138f15571f9219c",
   "outputs": [
    {
     "data": {
      "text/plain": [
       "[Triple(subject='Mexico', predicate='currency', object='Mexican_peso', id=0, document_id=0),\n",
       " Triple(subject='Mexico', predicate='demonym', object='Mexicans', id=0, document_id=0),\n",
       " Triple(subject='Bionico', predicate='course', object='Dessert', id=0, document_id=0),\n",
       " Triple(subject='Bionico', predicate='region', object='Guadalajara', id=0, document_id=0),\n",
       " Triple(subject='Dessert', predicate='dishVariation', object='Sandesh_(confectionery)', id=0, document_id=0),\n",
       " Triple(subject='Bionico', predicate='ingredient', object='Condensed_milk', id=0, document_id=0),\n",
       " Triple(subject='Bionico', predicate='country', object='Mexico', id=0, document_id=0)]"
      ]
     },
     "execution_count": 18,
     "metadata": {},
     "output_type": "execute_result"
    }
   ],
   "execution_count": 18
  },
  {
   "metadata": {
    "ExecuteTime": {
     "end_time": "2024-09-14T06:25:03.513190Z",
     "start_time": "2024-09-14T06:25:02.710905Z"
    }
   },
   "cell_type": "code",
   "source": [
    "query_gen.free_model()\n",
    "del query_gen\n",
    "import gc, torch\n",
    "gc.collect()\n",
    "torch.cuda.empty_cache()"
   ],
   "id": "9372fcddde03f7ed",
   "outputs": [],
   "execution_count": 19
  },
  {
   "metadata": {},
   "cell_type": "code",
   "outputs": [],
   "execution_count": null,
   "source": "",
   "id": "4c0df95f0ae1c71b"
  }
 ],
 "metadata": {
  "kernelspec": {
   "display_name": "Python 3",
   "language": "python",
   "name": "python3"
  },
  "language_info": {
   "codemirror_mode": {
    "name": "ipython",
    "version": 2
   },
   "file_extension": ".py",
   "mimetype": "text/x-python",
   "name": "python",
   "nbconvert_exporter": "python",
   "pygments_lexer": "ipython2",
   "version": "2.7.6"
  }
 },
 "nbformat": 4,
 "nbformat_minor": 5
}
