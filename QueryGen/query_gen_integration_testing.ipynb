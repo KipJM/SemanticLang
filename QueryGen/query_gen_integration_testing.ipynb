{
 "cells": [
  {
   "metadata": {
    "ExecuteTime": {
     "end_time": "2024-11-19T07:00:03.894655Z",
     "start_time": "2024-11-19T07:00:03.875980Z"
    }
   },
   "cell_type": "code",
   "source": "print(\"Hopefully pycharm behaves again\")",
   "id": "f3159185fced9e6c",
   "outputs": [
    {
     "name": "stdout",
     "output_type": "stream",
     "text": [
      "Hopefully pycharm behaves again\n"
     ]
    }
   ],
   "execution_count": 1
  },
  {
   "metadata": {
    "ExecuteTime": {
     "end_time": "2024-11-19T07:00:13.869168Z",
     "start_time": "2024-11-19T07:00:05.420899Z"
    }
   },
   "cell_type": "code",
   "source": [
    "from GraphGen.graph_gen_integration import Triple\n",
    "import re\n",
    "\n",
    "# create some rdfs\n",
    "\n",
    "data = \"<T>Ciudad_Ayala<R>populationMetro<S>1777539<T>Ciudad_Ayala<R>leaderTitle<S>\\\"City Manager\\\"<T>Ciudad_Ayala<R>type<S>City<T>Ciudad_Ayala<R>populationDensity<S>1604.0<T>Ciudad_Ayala<R>governmentType<S>Council-manager_government<T>Ciudad_Ayala<R>utcOffset<S>−6<T>Ciudad_Ayala<R>country<S>Mexico\"\n",
    "\n",
    "triples = []\n",
    "for _triple in data.split(\"<T>\"):\n",
    "        print(_triple)\n",
    "        try:\n",
    "            if _triple == \"\":\n",
    "                continue\n",
    "            split = re.split(\"<R>|<S>\", _triple)\n",
    "            subject = split[0]\n",
    "            predicate = split[1]\n",
    "            _object = split[2]\n",
    "\n",
    "            triples.append(Triple(subject, predicate, _object, 0, 0))\n",
    "\n",
    "        except Exception as e:\n",
    "            print(f\"NON-STANDARD TRIPLE {_triple} ({e})\")\n",
    "            continue\n",
    "            \n",
    "triples"
   ],
   "id": "a78d706ef8292c27",
   "outputs": [
    {
     "name": "stdout",
     "output_type": "stream",
     "text": [
      "🦥 Unsloth: Will patch your computer to enable 2x faster free finetuning.\n",
      "\n",
      "Ciudad_Ayala<R>populationMetro<S>1777539\n",
      "Ciudad_Ayala<R>leaderTitle<S>\"City Manager\"\n",
      "Ciudad_Ayala<R>type<S>City\n",
      "Ciudad_Ayala<R>populationDensity<S>1604.0\n",
      "Ciudad_Ayala<R>governmentType<S>Council-manager_government\n",
      "Ciudad_Ayala<R>utcOffset<S>−6\n",
      "Ciudad_Ayala<R>country<S>Mexico\n"
     ]
    },
    {
     "data": {
      "text/plain": [
       "[Triple(subject='Ciudad_Ayala', predicate='populationMetro', object='1777539', id=0, document_id=0),\n",
       " Triple(subject='Ciudad_Ayala', predicate='leaderTitle', object='\"City Manager\"', id=0, document_id=0),\n",
       " Triple(subject='Ciudad_Ayala', predicate='type', object='City', id=0, document_id=0),\n",
       " Triple(subject='Ciudad_Ayala', predicate='populationDensity', object='1604.0', id=0, document_id=0),\n",
       " Triple(subject='Ciudad_Ayala', predicate='governmentType', object='Council-manager_government', id=0, document_id=0),\n",
       " Triple(subject='Ciudad_Ayala', predicate='utcOffset', object='−6', id=0, document_id=0),\n",
       " Triple(subject='Ciudad_Ayala', predicate='country', object='Mexico', id=0, document_id=0)]"
      ]
     },
     "execution_count": 2,
     "metadata": {},
     "output_type": "execute_result"
    }
   ],
   "execution_count": 2
  },
  {
   "cell_type": "code",
   "id": "initial_id",
   "metadata": {
    "collapsed": true,
    "ExecuteTime": {
     "end_time": "2024-11-19T07:01:26.303072Z",
     "start_time": "2024-11-19T07:00:14.029423Z"
    }
   },
   "source": [
    "from query_gen_integration import QueryGen\n",
    "query_gen = QueryGen(triples)"
   ],
   "outputs": [
    {
     "name": "stdout",
     "output_type": "stream",
     "text": [
      "==((====))==  Unsloth 2024.11.5: Fast Gemma2 patching. Transformers = 4.46.2.\n",
      "   \\\\   /|    GPU: NVIDIA A100 80GB PCIe. Max memory: 30.0 GB. Platform = Linux.\n",
      "O^O/ \\_/ \\    Pytorch: 2.5.1. CUDA = 8.0. CUDA Toolkit = 12.1.\n",
      "\\        /    Bfloat16 = TRUE. FA [Xformers = 0.0.28.post3. FA2 = True]\n",
      " \"-____-\"     Free Apache license: http://github.com/unslothai/unsloth\n",
      "Unsloth: Fast downloading is enabled - ignore downloading bars which are red colored!\n"
     ]
    },
    {
     "name": "stderr",
     "output_type": "stream",
     "text": [
      "Unsloth 2024.11.5 patched 42 layers with 42 QKV layers, 42 O layers and 42 MLP layers.\n"
     ]
    }
   ],
   "execution_count": 3
  },
  {
   "metadata": {
    "ExecuteTime": {
     "end_time": "2024-11-19T07:01:26.453787Z",
     "start_time": "2024-11-19T07:01:26.442168Z"
    }
   },
   "cell_type": "code",
   "source": "query_gen.reset_model(triples)",
   "id": "490d22b69c48dc07",
   "outputs": [],
   "execution_count": 4
  },
  {
   "metadata": {
    "ExecuteTime": {
     "end_time": "2024-11-19T07:01:32.116674Z",
     "start_time": "2024-11-19T07:01:26.574398Z"
    }
   },
   "cell_type": "code",
   "source": [
    "q = query_gen.generate(\"What's the population of Ciudad?\")\n",
    "print(q)"
   ],
   "id": "cfad6694c659883b",
   "outputs": [
    {
     "name": "stdout",
     "output_type": "stream",
     "text": [
      "\n",
      "<unused12>\n",
      "CONTENT\n",
      "-1\n",
      "\n",
      "<unused12><unused14>\n",
      "CONTENT\n",
      "0\n",
      "\n",
      "<unused12><unused14><pad>\n",
      "CONTENT\n",
      "0\n",
      "\n",
      "<unused12><unused14><pad> \n",
      "CONTENT\n",
      "0\n",
      "\n",
      "<unused12><unused14><pad> <unused10>\n",
      "CONTENT\n",
      "[CURRENT] \n",
      "[ALLOW->] governmentpopulationutcleadercountrytype\n",
      "1\n",
      "\n",
      "<unused12><unused14><pad> <unused10>population\n",
      "CONTENT\n",
      "[CURRENT] population\n",
      "[ALLOW->] DensityMetro\n",
      "1\n",
      "\n",
      "<unused12><unused14><pad> <unused10>populationDensity\n",
      "CONTENT\n",
      "[CURRENT] populationDensity\n",
      "[ALLOW->] <unused11>\n",
      "1\n",
      "\n",
      "<unused12><unused14><pad> <unused10>populationDensity<unused11>\n",
      "CONTENT\n",
      "[CURRENT] populationDensity<unused11>\n",
      "[ALLOW->] \n",
      "1\n",
      "\n",
      "<unused12><unused14><pad> <unused10>populationDensity<unused11> \n",
      "CONTENT\n",
      "[CURRENT] populationDensity<unused11> \n",
      "[ALLOW->] \n",
      "1\n",
      "\n",
      "<unused12><unused14><pad> <unused10>populationDensity<unused11> <unused10>\n",
      "CONTENT\n",
      "[CURRENT] \n",
      "[ALLOW->] \"1CiudadCouncilCityMexico−\n",
      "2\n",
      "\n",
      "<unused12><unused14><pad> <unused10>populationDensity<unused11> <unused10>Ciudad\n",
      "CONTENT\n",
      "[CURRENT] Ciudad\n",
      "[ALLOW->] _\n",
      "2\n",
      "\n",
      "<unused12><unused14><pad> <unused10>populationDensity<unused11> <unused10>Ciudad_\n",
      "CONTENT\n",
      "[CURRENT] Ciudad_\n",
      "[ALLOW->] Ay\n",
      "2\n",
      "\n",
      "<unused12><unused14><pad> <unused10>populationDensity<unused11> <unused10>Ciudad_Ay\n",
      "CONTENT\n",
      "[CURRENT] Ciudad_Ay\n",
      "[ALLOW->] ala\n",
      "2\n",
      "\n",
      "<unused12><unused14><pad> <unused10>populationDensity<unused11> <unused10>Ciudad_Ayala\n",
      "CONTENT\n",
      "[CURRENT] Ciudad_Ayala\n",
      "[ALLOW->] <unused11>\n",
      "2\n",
      "\n",
      "<unused12><unused14><pad> <unused10>populationDensity<unused11> <unused10>Ciudad_Ayala<unused11>\n",
      "CONTENT\n",
      "[CURRENT] Ciudad_Ayala<unused11>\n",
      "[ALLOW->] \n",
      "2\n",
      "\n",
      "<unused12><unused14><pad> <unused10>populationDensity<unused11> <unused10>Ciudad_Ayala<unused11> \n",
      "CONTENT\n",
      "[CURRENT] Ciudad_Ayala<unused11> \n",
      "[ALLOW->] \n",
      "2\n",
      "\n",
      "<unused12><unused14><pad> <unused10>populationDensity<unused11> <unused10>Ciudad_Ayala<unused11> <unused13>\n",
      "END\n",
      "\n",
      "<unused12><unused14><pad> <unused10>populationDensity<unused11> <unused10>Ciudad_Ayala<unused11> <unused13>SELECT\n",
      "END\n",
      "\n",
      "<unused12><unused14><pad> <unused10>populationDensity<unused11> <unused10>Ciudad_Ayala<unused11> <unused13>SELECT DISTINCT\n",
      "END\n",
      "\n",
      "<unused12><unused14><pad> <unused10>populationDensity<unused11> <unused10>Ciudad_Ayala<unused11> <unused13>SELECT DISTINCT \n",
      "END\n",
      "\n",
      "<unused12><unused14><pad> <unused10>populationDensity<unused11> <unused10>Ciudad_Ayala<unused11> <unused13>SELECT DISTINCT <unused14>\n",
      "END\n",
      "\n",
      "<unused12><unused14><pad> <unused10>populationDensity<unused11> <unused10>Ciudad_Ayala<unused11> <unused13>SELECT DISTINCT <unused14>uri\n",
      "END\n",
      "\n",
      "<unused12><unused14><pad> <unused10>populationDensity<unused11> <unused10>Ciudad_Ayala<unused11> <unused13>SELECT DISTINCT <unused14>uri WHERE\n",
      "END\n",
      "SELECT DISTINCT ?uri WHERE{?<pad> <populationDensity> <Ciudad_Ayala> }\n"
     ]
    }
   ],
   "execution_count": 5
  },
  {
   "metadata": {},
   "cell_type": "code",
   "source": [
    "from rdflib import Graph, Literal, RDF, URIRef\n",
    "g = Graph()\n",
    "for triple in triples:\n",
    "    g.add((URIRef(triple.subject), URIRef(triple.predicate), URIRef(triple.object)))"
   ],
   "id": "8ff862167f17333f",
   "outputs": [],
   "execution_count": null
  },
  {
   "metadata": {},
   "cell_type": "code",
   "source": [
    "# Apply the query to the graph and iterate through results\n",
    "r_r = None\n",
    "for r in g.query(q):\n",
    "    print(r[0])\n",
    "    r_r = r\n",
    "r_r"
   ],
   "id": "f82ed5d8860085bb",
   "outputs": [],
   "execution_count": null
  },
  {
   "metadata": {},
   "cell_type": "code",
   "source": "[triple for triple in triples if (triple.subject == str(r_r[0]) or str(triple.object == r_r[0]))]",
   "id": "2138f15571f9219c",
   "outputs": [],
   "execution_count": null
  },
  {
   "metadata": {
    "ExecuteTime": {
     "end_time": "2024-11-17T03:16:52.281276Z",
     "start_time": "2024-11-17T03:16:51.661594Z"
    }
   },
   "cell_type": "code",
   "source": [
    "query_gen.free_model()\n",
    "del query_gen\n",
    "import gc, torch\n",
    "gc.collect()\n",
    "torch.cuda.empty_cache()"
   ],
   "id": "9372fcddde03f7ed",
   "outputs": [],
   "execution_count": 6
  },
  {
   "metadata": {},
   "cell_type": "code",
   "source": "",
   "id": "4c0df95f0ae1c71b",
   "outputs": [],
   "execution_count": null
  }
 ],
 "metadata": {
  "kernelspec": {
   "display_name": "Python 3",
   "language": "python",
   "name": "python3"
  },
  "language_info": {
   "codemirror_mode": {
    "name": "ipython",
    "version": 2
   },
   "file_extension": ".py",
   "mimetype": "text/x-python",
   "name": "python",
   "nbconvert_exporter": "python",
   "pygments_lexer": "ipython2",
   "version": "2.7.6"
  }
 },
 "nbformat": 4,
 "nbformat_minor": 5
}
