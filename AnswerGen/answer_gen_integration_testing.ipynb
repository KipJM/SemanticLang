{
 "cells": [
  {
   "cell_type": "code",
   "id": "initial_id",
   "metadata": {
    "collapsed": true,
    "ExecuteTime": {
     "end_time": "2024-09-13T01:04:21.112849Z",
     "start_time": "2024-09-13T01:03:54.616523Z"
    }
   },
   "source": [
    "from AnswerGen.answer_gen_integration import AnswerGen\n",
    "answer_gen = AnswerGen()"
   ],
   "outputs": [
    {
     "name": "stdout",
     "output_type": "stream",
     "text": [
      "🦥 Unsloth: Will patch your computer to enable 2x faster free finetuning.\n",
      "==((====))==  Unsloth 2024.8: Fast Gemma2 patching. Transformers = 4.44.2.\n",
      "   \\\\   /|    GPU: NVIDIA GeForce RTX 2060. Max memory: 6.0 GB. Platform = Linux.\n",
      "O^O/ \\_/ \\    Pytorch: 2.4.0+cu121. CUDA = 7.5. CUDA Toolkit = 12.1.\n",
      "\\        /    Bfloat16 = FALSE. FA [Xformers = 0.0.27.post2. FA2 = False]\n",
      " \"-____-\"     Free Apache license: http://github.com/unslothai/unsloth\n"
     ]
    },
    {
     "name": "stderr",
     "output_type": "stream",
     "text": [
      "Unsloth 2024.8 patched 26 layers with 26 QKV layers, 26 O layers and 26 MLP layers.\n"
     ]
    }
   ],
   "execution_count": 1
  },
  {
   "metadata": {
    "ExecuteTime": {
     "end_time": "2024-09-13T01:04:58.942665Z",
     "start_time": "2024-09-13T01:04:40.162384Z"
    }
   },
   "cell_type": "code",
   "source": "answer_gen.generate(\"Count the number of people became famous for when Andrew Jackson was a commander ?\", \"8\")",
   "id": "780b5c5e640a02a9",
   "outputs": [
    {
     "data": {
      "text/plain": [
       "'There are 8 people whose fame is associated with the commander of Andrew Jackson.<eos>'"
      ]
     },
     "execution_count": 2,
     "metadata": {},
     "output_type": "execute_result"
    }
   ],
   "execution_count": 2
  },
  {
   "metadata": {
    "ExecuteTime": {
     "end_time": "2024-09-13T04:17:38.199084Z",
     "start_time": "2024-09-13T04:17:38.051637Z"
    }
   },
   "cell_type": "code",
   "source": [
    "answer_gen.free_model()\n",
    "del answer_gen"
   ],
   "id": "95c24a2849142d88",
   "outputs": [
    {
     "ename": "NameError",
     "evalue": "name 'answer_gen' is not defined",
     "output_type": "error",
     "traceback": [
      "\u001B[0;31m---------------------------------------------------------------------------\u001B[0m",
      "\u001B[0;31mNameError\u001B[0m                                 Traceback (most recent call last)",
      "Cell \u001B[0;32mIn[1], line 1\u001B[0m\n\u001B[0;32m----> 1\u001B[0m \u001B[43manswer_gen\u001B[49m\u001B[38;5;241m.\u001B[39mfree_model()\n\u001B[1;32m      2\u001B[0m \u001B[38;5;28;01mdel\u001B[39;00m answer_gen\n",
      "\u001B[0;31mNameError\u001B[0m: name 'answer_gen' is not defined"
     ]
    }
   ],
   "execution_count": 1
  },
  {
   "metadata": {},
   "cell_type": "code",
   "outputs": [],
   "execution_count": null,
   "source": "",
   "id": "2416a69b366149b"
  }
 ],
 "metadata": {
  "kernelspec": {
   "display_name": "Python 3",
   "language": "python",
   "name": "python3"
  },
  "language_info": {
   "codemirror_mode": {
    "name": "ipython",
    "version": 2
   },
   "file_extension": ".py",
   "mimetype": "text/x-python",
   "name": "python",
   "nbconvert_exporter": "python",
   "pygments_lexer": "ipython2",
   "version": "2.7.6"
  }
 },
 "nbformat": 4,
 "nbformat_minor": 5
}
